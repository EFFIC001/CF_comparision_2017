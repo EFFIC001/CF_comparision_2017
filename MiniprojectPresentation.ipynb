{
 "cells": [
  {
   "cell_type": "code",
   "execution_count": 16,
   "metadata": {
    "collapsed": true
   },
   "outputs": [],
   "source": [
    "article = []\n",
    "content = []"
   ]
  },
  {
   "cell_type": "code",
   "execution_count": 1,
   "metadata": {
    "collapsed": true
   },
   "outputs": [],
   "source": [
    "import MPTs"
   ]
  },
  {
   "cell_type": "code",
   "execution_count": 2,
   "metadata": {
    "collapsed": true
   },
   "outputs": [],
   "source": [
    "import os"
   ]
  },
  {
   "cell_type": "code",
   "execution_count": 3,
   "metadata": {},
   "outputs": [
    {
     "data": {
      "text/plain": [
       "'C:\\\\Users\\\\dekmj\\\\Downloads\\\\EFFIC_datamining\\\\Mini_Project'"
      ]
     },
     "execution_count": 3,
     "metadata": {},
     "output_type": "execute_result"
    }
   ],
   "source": [
    "os.getcwd()"
   ]
  },
  {
   "cell_type": "code",
   "execution_count": 4,
   "metadata": {
    "collapsed": true
   },
   "outputs": [],
   "source": [
    "os.chdir(\"News Articles\")"
   ]
  },
  {
   "cell_type": "code",
   "execution_count": 5,
   "metadata": {
    "collapsed": true
   },
   "outputs": [],
   "source": [
    "os.chdir(\"CNN 161107\")"
   ]
  },
  {
   "cell_type": "code",
   "execution_count": 6,
   "metadata": {},
   "outputs": [
    {
     "data": {
      "text/plain": [
       "'C:\\\\Users\\\\dekmj\\\\Downloads\\\\EFFIC_datamining\\\\Mini_Project\\\\News Articles\\\\CNN 161107'"
      ]
     },
     "execution_count": 6,
     "metadata": {},
     "output_type": "execute_result"
    }
   ],
   "source": [
    "os.getcwd()"
   ]
  },
  {
   "cell_type": "code",
   "execution_count": 9,
   "metadata": {},
   "outputs": [
    {
     "name": "stdout",
     "output_type": "stream",
     "text": [
      "How many files do you have?(only DIGITS work)1\n",
      "How file name made?CNN Article\n"
     ]
    }
   ],
   "source": [
    "txt = MPTs.fileopener()"
   ]
  },
  {
   "cell_type": "code",
   "execution_count": 10,
   "metadata": {},
   "outputs": [
    {
     "data": {
      "text/plain": [
       "[\"CNN Article1\\n\\n\\nPoll: Clinton leads Trump by 8\\n\\n\\n\\nWashington (CNN)Hillary Clinton leads Donald Trump by 8 percentage points -- doubling her lead from a month ago in the latest ABC News/Washington Post poll.\\n\\nClinton leads Trump, 50% to 42%, in a head-to-head race, the survey of registered voters found. With Libertarian Party nominee Gary Johnson and Green Party nominee Jill Stein added to the race, Clinton maintains her 8-point lead, 45% to Trump's 37%, Johnson's 8% and Stein's 4%.\\nThe poll found huge gaps in voters' take on the two candidates' attributes. Asked whether the candidates have the right personality and temperament to be president, 61% said Clinton does, while 31% said Trump does. Just 33% said Trump understands international matters, while 72% said Clinton does.\\nTrustworthiness is a problem for both candidates: Only 38% view Clinton as honest and trustworthy, and just 34% say Trump is honest and trustworthy.\\nThe survey shows the damage of Trump's criticism of the Khan family -- the parents of a US soldier killed in combat who blasted Trump at the Democratic National Convention.\\nOf those surveyed, 73% -- including 59% of Republicans -- said they disapprove of Trump's handling of the situation.\\nClinton leads Trump among women, 58% to 35%, and has a 19-point edge among college-educated white women -- a key group both parties target.\\nThe poll found that Clinton is viewed favorably by 48% of registered voters and unfavorably by 50%; Trump is viewed favorably by just 34% and unfavorably by 63%.\\nTheir running mates are popular but much less-known. Clinton's vice presidential nominee, Virginia Sen. Tim Kaine, is viewed favorably by 41% and unfavorably by 24%; for Trump's running mate, Indiana Gov. Mike Pence, the ratings are 38% favorable, 26% unfavorable.\\nClinton has a much more popular spouse, too. Bill Clinton is viewed favorably by 56% of registered voters and unfavorably by 38%; for Melania Trump, it's 33% favorable, 39% unfavorable.\\n\\n\"]"
      ]
     },
     "execution_count": 10,
     "metadata": {},
     "output_type": "execute_result"
    }
   ],
   "source": [
    "txt"
   ]
  },
  {
   "cell_type": "code",
   "execution_count": 13,
   "metadata": {
    "collapsed": true
   },
   "outputs": [],
   "source": [
    "txtl = MPTs.makeline2(txt)"
   ]
  },
  {
   "cell_type": "code",
   "execution_count": 17,
   "metadata": {
    "collapsed": true
   },
   "outputs": [],
   "source": [
    "MPTs.ACchecker(txtl)"
   ]
  },
  {
   "cell_type": "code",
   "execution_count": 19,
   "metadata": {},
   "outputs": [
    {
     "data": {
      "text/plain": [
       "['Poll: Clinton leads Trump by 8', 'Poll: Clinton leads Trump by 8']"
      ]
     },
     "execution_count": 19,
     "metadata": {},
     "output_type": "execute_result"
    }
   ],
   "source": [
    "MPTs.article"
   ]
  },
  {
   "cell_type": "code",
   "execution_count": 20,
   "metadata": {},
   "outputs": [
    {
     "data": {
      "text/plain": [
       "[['Washington (CNN)Hillary Clinton leads Donald Trump by 8 percentage points -- doubling her lead from a month ago in the latest ABC News/Washington Post poll.',\n",
       "  \"Clinton leads Trump, 50% to 42%, in a head-to-head race, the survey of registered voters found. With Libertarian Party nominee Gary Johnson and Green Party nominee Jill Stein added to the race, Clinton maintains her 8-point lead, 45% to Trump's 37%, Johnson's 8% and Stein's 4%.\",\n",
       "  \"The poll found huge gaps in voters' take on the two candidates' attributes. Asked whether the candidates have the right personality and temperament to be president, 61% said Clinton does, while 31% said Trump does. Just 33% said Trump understands international matters, while 72% said Clinton does.\",\n",
       "  'Trustworthiness is a problem for both candidates: Only 38% view Clinton as honest and trustworthy, and just 34% say Trump is honest and trustworthy.',\n",
       "  \"The survey shows the damage of Trump's criticism of the Khan family -- the parents of a US soldier killed in combat who blasted Trump at the Democratic National Convention.\",\n",
       "  \"Of those surveyed, 73% -- including 59% of Republicans -- said they disapprove of Trump's handling of the situation.\",\n",
       "  'Clinton leads Trump among women, 58% to 35%, and has a 19-point edge among college-educated white women -- a key group both parties target.',\n",
       "  'The poll found that Clinton is viewed favorably by 48% of registered voters and unfavorably by 50%; Trump is viewed favorably by just 34% and unfavorably by 63%.',\n",
       "  \"Their running mates are popular but much less-known. Clinton's vice presidential nominee, Virginia Sen. Tim Kaine, is viewed favorably by 41% and unfavorably by 24%; for Trump's running mate, Indiana Gov. Mike Pence, the ratings are 38% favorable, 26% unfavorable.\",\n",
       "  \"Clinton has a much more popular spouse, too. Bill Clinton is viewed favorably by 56% of registered voters and unfavorably by 38%; for Melania Trump, it's 33% favorable, 39% unfavorable.\"],\n",
       " ['Washington (CNN)Hillary Clinton leads Donald Trump by 8 percentage points -- doubling her lead from a month ago in the latest ABC News/Washington Post poll.',\n",
       "  \"Clinton leads Trump, 50% to 42%, in a head-to-head race, the survey of registered voters found. With Libertarian Party nominee Gary Johnson and Green Party nominee Jill Stein added to the race, Clinton maintains her 8-point lead, 45% to Trump's 37%, Johnson's 8% and Stein's 4%.\",\n",
       "  \"The poll found huge gaps in voters' take on the two candidates' attributes. Asked whether the candidates have the right personality and temperament to be president, 61% said Clinton does, while 31% said Trump does. Just 33% said Trump understands international matters, while 72% said Clinton does.\",\n",
       "  'Trustworthiness is a problem for both candidates: Only 38% view Clinton as honest and trustworthy, and just 34% say Trump is honest and trustworthy.',\n",
       "  \"The survey shows the damage of Trump's criticism of the Khan family -- the parents of a US soldier killed in combat who blasted Trump at the Democratic National Convention.\",\n",
       "  \"Of those surveyed, 73% -- including 59% of Republicans -- said they disapprove of Trump's handling of the situation.\",\n",
       "  'Clinton leads Trump among women, 58% to 35%, and has a 19-point edge among college-educated white women -- a key group both parties target.',\n",
       "  'The poll found that Clinton is viewed favorably by 48% of registered voters and unfavorably by 50%; Trump is viewed favorably by just 34% and unfavorably by 63%.',\n",
       "  \"Their running mates are popular but much less-known. Clinton's vice presidential nominee, Virginia Sen. Tim Kaine, is viewed favorably by 41% and unfavorably by 24%; for Trump's running mate, Indiana Gov. Mike Pence, the ratings are 38% favorable, 26% unfavorable.\",\n",
       "  \"Clinton has a much more popular spouse, too. Bill Clinton is viewed favorably by 56% of registered voters and unfavorably by 38%; for Melania Trump, it's 33% favorable, 39% unfavorable.\"]]"
      ]
     },
     "execution_count": 20,
     "metadata": {},
     "output_type": "execute_result"
    }
   ],
   "source": [
    "MPTs.content"
   ]
  },
  {
   "cell_type": "code",
   "execution_count": 23,
   "metadata": {
    "collapsed": true
   },
   "outputs": [],
   "source": [
    "article = MPTs.article\n",
    "content = MPTs.content"
   ]
  },
  {
   "cell_type": "code",
   "execution_count": 25,
   "metadata": {},
   "outputs": [
    {
     "data": {
      "text/plain": [
       "['poll',\n",
       " 'clinton',\n",
       " 'leads',\n",
       " 'trump',\n",
       " 'by',\n",
       " '8',\n",
       " 'poll',\n",
       " 'clinton',\n",
       " 'leads',\n",
       " 'trump',\n",
       " 'by',\n",
       " '8']"
      ]
     },
     "execution_count": 25,
     "metadata": {},
     "output_type": "execute_result"
    }
   ],
   "source": [
    "MPTs.articleTokenizer(article)"
   ]
  },
  {
   "cell_type": "code",
   "execution_count": 26,
   "metadata": {},
   "outputs": [
    {
     "data": {
      "text/plain": [
       "['washington',\n",
       " 'cnn',\n",
       " 'hillary',\n",
       " 'clinton',\n",
       " 'leads',\n",
       " 'donald',\n",
       " 'trump',\n",
       " 'by',\n",
       " '8',\n",
       " 'percentage',\n",
       " 'points',\n",
       " 'doubling',\n",
       " 'her',\n",
       " 'lead',\n",
       " 'from',\n",
       " 'a',\n",
       " 'month',\n",
       " 'ago',\n",
       " 'in',\n",
       " 'the',\n",
       " 'latest',\n",
       " 'abc',\n",
       " 'news',\n",
       " 'washington',\n",
       " 'post',\n",
       " 'poll',\n",
       " 'clinton',\n",
       " 'leads',\n",
       " 'trump',\n",
       " '50',\n",
       " 'to',\n",
       " '42',\n",
       " 'in',\n",
       " 'a',\n",
       " 'head',\n",
       " 'to',\n",
       " 'head',\n",
       " 'race',\n",
       " 'the',\n",
       " 'survey',\n",
       " 'of',\n",
       " 'registered',\n",
       " 'voters',\n",
       " 'found',\n",
       " 'with',\n",
       " 'libertarian',\n",
       " 'party',\n",
       " 'nominee',\n",
       " 'gary',\n",
       " 'johnson',\n",
       " 'and',\n",
       " 'green',\n",
       " 'party',\n",
       " 'nominee',\n",
       " 'jill',\n",
       " 'stein',\n",
       " 'added',\n",
       " 'to',\n",
       " 'the',\n",
       " 'race',\n",
       " 'clinton',\n",
       " 'maintains',\n",
       " 'her',\n",
       " '8',\n",
       " 'point',\n",
       " 'lead',\n",
       " '45',\n",
       " 'to',\n",
       " 'trump',\n",
       " 's',\n",
       " '37',\n",
       " 'johnson',\n",
       " 's',\n",
       " '8',\n",
       " 'and',\n",
       " 'stein',\n",
       " 's',\n",
       " '4',\n",
       " 'the',\n",
       " 'poll',\n",
       " 'found',\n",
       " 'huge',\n",
       " 'gaps',\n",
       " 'in',\n",
       " 'voters',\n",
       " 'take',\n",
       " 'on',\n",
       " 'the',\n",
       " 'two',\n",
       " 'candidates',\n",
       " 'attributes',\n",
       " 'asked',\n",
       " 'whether',\n",
       " 'the',\n",
       " 'candidates',\n",
       " 'have',\n",
       " 'the',\n",
       " 'right',\n",
       " 'personality',\n",
       " 'and',\n",
       " 'temperament',\n",
       " 'to',\n",
       " 'be',\n",
       " 'president',\n",
       " '61',\n",
       " 'said',\n",
       " 'clinton',\n",
       " 'does',\n",
       " 'while',\n",
       " '31',\n",
       " 'said',\n",
       " 'trump',\n",
       " 'does',\n",
       " 'just',\n",
       " '33',\n",
       " 'said',\n",
       " 'trump',\n",
       " 'understands',\n",
       " 'international',\n",
       " 'matters',\n",
       " 'while',\n",
       " '72',\n",
       " 'said',\n",
       " 'clinton',\n",
       " 'does',\n",
       " 'trustworthiness',\n",
       " 'is',\n",
       " 'a',\n",
       " 'problem',\n",
       " 'for',\n",
       " 'both',\n",
       " 'candidates',\n",
       " 'only',\n",
       " '38',\n",
       " 'view',\n",
       " 'clinton',\n",
       " 'as',\n",
       " 'honest',\n",
       " 'and',\n",
       " 'trustworthy',\n",
       " 'and',\n",
       " 'just',\n",
       " '34',\n",
       " 'say',\n",
       " 'trump',\n",
       " 'is',\n",
       " 'honest',\n",
       " 'and',\n",
       " 'trustworthy',\n",
       " 'the',\n",
       " 'survey',\n",
       " 'shows',\n",
       " 'the',\n",
       " 'damage',\n",
       " 'of',\n",
       " 'trump',\n",
       " 's',\n",
       " 'criticism',\n",
       " 'of',\n",
       " 'the',\n",
       " 'khan',\n",
       " 'family',\n",
       " 'the',\n",
       " 'parents',\n",
       " 'of',\n",
       " 'a',\n",
       " 'us',\n",
       " 'soldier',\n",
       " 'killed',\n",
       " 'in',\n",
       " 'combat',\n",
       " 'who',\n",
       " 'blasted',\n",
       " 'trump',\n",
       " 'at',\n",
       " 'the',\n",
       " 'democratic',\n",
       " 'national',\n",
       " 'convention',\n",
       " 'of',\n",
       " 'those',\n",
       " 'surveyed',\n",
       " '73',\n",
       " 'including',\n",
       " '59',\n",
       " 'of',\n",
       " 'republicans',\n",
       " 'said',\n",
       " 'they',\n",
       " 'disapprove',\n",
       " 'of',\n",
       " 'trump',\n",
       " 's',\n",
       " 'handling',\n",
       " 'of',\n",
       " 'the',\n",
       " 'situation',\n",
       " 'clinton',\n",
       " 'leads',\n",
       " 'trump',\n",
       " 'among',\n",
       " 'women',\n",
       " '58',\n",
       " 'to',\n",
       " '35',\n",
       " 'and',\n",
       " 'has',\n",
       " 'a',\n",
       " '19',\n",
       " 'point',\n",
       " 'edge',\n",
       " 'among',\n",
       " 'college',\n",
       " 'educated',\n",
       " 'white',\n",
       " 'women',\n",
       " 'a',\n",
       " 'key',\n",
       " 'group',\n",
       " 'both',\n",
       " 'parties',\n",
       " 'target',\n",
       " 'the',\n",
       " 'poll',\n",
       " 'found',\n",
       " 'that',\n",
       " 'clinton',\n",
       " 'is',\n",
       " 'viewed',\n",
       " 'favorably',\n",
       " 'by',\n",
       " '48',\n",
       " 'of',\n",
       " 'registered',\n",
       " 'voters',\n",
       " 'and',\n",
       " 'unfavorably',\n",
       " 'by',\n",
       " '50',\n",
       " 'trump',\n",
       " 'is',\n",
       " 'viewed',\n",
       " 'favorably',\n",
       " 'by',\n",
       " 'just',\n",
       " '34',\n",
       " 'and',\n",
       " 'unfavorably',\n",
       " 'by',\n",
       " '63',\n",
       " 'their',\n",
       " 'running',\n",
       " 'mates',\n",
       " 'are',\n",
       " 'popular',\n",
       " 'but',\n",
       " 'much',\n",
       " 'less',\n",
       " 'known',\n",
       " 'clinton',\n",
       " 's',\n",
       " 'vice',\n",
       " 'presidential',\n",
       " 'nominee',\n",
       " 'virginia',\n",
       " 'sen',\n",
       " 'tim',\n",
       " 'kaine',\n",
       " 'is',\n",
       " 'viewed',\n",
       " 'favorably',\n",
       " 'by',\n",
       " '41',\n",
       " 'and',\n",
       " 'unfavorably',\n",
       " 'by',\n",
       " '24',\n",
       " 'for',\n",
       " 'trump',\n",
       " 's',\n",
       " 'running',\n",
       " 'mate',\n",
       " 'indiana',\n",
       " 'gov',\n",
       " 'mike',\n",
       " 'pence',\n",
       " 'the',\n",
       " 'ratings',\n",
       " 'are',\n",
       " '38',\n",
       " 'favorable',\n",
       " '26',\n",
       " 'unfavorable',\n",
       " 'clinton',\n",
       " 'has',\n",
       " 'a',\n",
       " 'much',\n",
       " 'more',\n",
       " 'popular',\n",
       " 'spouse',\n",
       " 'too',\n",
       " 'bill',\n",
       " 'clinton',\n",
       " 'is',\n",
       " 'viewed',\n",
       " 'favorably',\n",
       " 'by',\n",
       " '56',\n",
       " 'of',\n",
       " 'registered',\n",
       " 'voters',\n",
       " 'and',\n",
       " 'unfavorably',\n",
       " 'by',\n",
       " '38',\n",
       " 'for',\n",
       " 'melania',\n",
       " 'trump',\n",
       " 'it',\n",
       " 's',\n",
       " '33',\n",
       " 'favorable',\n",
       " '39',\n",
       " 'unfavorable']"
      ]
     },
     "execution_count": 26,
     "metadata": {},
     "output_type": "execute_result"
    }
   ],
   "source": [
    "MPTs.contentTokenizer(content)"
   ]
  },
  {
   "cell_type": "code",
   "execution_count": 31,
   "metadata": {
    "collapsed": true
   },
   "outputs": [],
   "source": [
    "contentToken = MPTs.contentTokenizer(content)"
   ]
  },
  {
   "cell_type": "code",
   "execution_count": 32,
   "metadata": {
    "collapsed": true
   },
   "outputs": [],
   "source": [
    "MPTs.getFrequpdownwrite(contentToken, \"contentFreqOutput\")"
   ]
  },
  {
   "cell_type": "code",
   "execution_count": null,
   "metadata": {
    "collapsed": true
   },
   "outputs": [],
   "source": []
  }
 ],
 "metadata": {
  "kernelspec": {
   "display_name": "Python 3",
   "language": "python",
   "name": "python3"
  },
  "language_info": {
   "codemirror_mode": {
    "name": "ipython",
    "version": 3
   },
   "file_extension": ".py",
   "mimetype": "text/x-python",
   "name": "python",
   "nbconvert_exporter": "python",
   "pygments_lexer": "ipython3",
   "version": "3.6.1"
  }
 },
 "nbformat": 4,
 "nbformat_minor": 2
}
