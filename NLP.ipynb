{
 "cells": [
  {
   "cell_type": "markdown",
   "metadata": {},
   "source": [
    "# #Python으로 영어 코퍼스 처리"
   ]
  },
  {
   "cell_type": "markdown",
   "metadata": {},
   "source": [
    "# < Sentiment analysis process>\n",
    "\n",
    "step1. 데이터 수집 및 탐색\n",
    "\n",
    "step2. 전처리\n",
    "    - Tokenize text (stemming)\n",
    "    - Tag token (POS, NER)\n",
    "    - Token selection ( stopword removal)\n",
    "    - calculate word/docnment similarities, cluster documments\n",
    "\n",
    "step3. 속성 추출\n",
    "\n",
    "step4. 기계학습 알고리즘 및 평가"
   ]
  },
  {
   "cell_type": "markdown",
   "metadata": {},
   "source": [
    "# 용어 \n",
    "\n",
    "Document : 문서\n",
    "\n",
    "Corpus - 말뭉치\n",
    "\n",
    "Token - 토큰 (Meaning elements in a document. words, phrases, sentences..)\n",
    "\n",
    "POS - 품사  (Part-of-speech ; Nouns ...)\n",
    "\n",
    "\n"
   ]
  },
  {
   "cell_type": "markdown",
   "metadata": {},
   "source": [
    "# Text Mining을 위한 Python packages 설치\n",
    "\n",
    "\n",
    "step1: Install Anaconda3 \n",
    "\n",
    "step2: NLTK 설치 \n",
    "    \n"
   ]
  },
  {
   "cell_type": "markdown",
   "metadata": {},
   "source": [
    "pip install nltk\n",
    "\n",
    "nltk.download()"
   ]
  },
  {
   "cell_type": "markdown",
   "metadata": {},
   "source": [
    "# 1. Document exploration\n",
    "\n",
    "NLTK에서 제공하는 문서들 또는 다른 텍스트를 로딩 사용\n",
    "\n"
   ]
  },
  {
   "cell_type": "code",
   "execution_count": 1,
   "metadata": {
    "collapsed": true
   },
   "outputs": [],
   "source": [
    "import nltk"
   ]
  },
  {
   "cell_type": "code",
   "execution_count": 10,
   "metadata": {},
   "outputs": [
    {
     "name": "stdout",
     "output_type": "stream",
     "text": [
      "['austen-emma.txt', 'austen-persuasion.txt', 'austen-sense.txt', 'bible-kjv.txt', 'blake-poems.txt', 'bryant-stories.txt', 'burgess-busterbrown.txt', 'carroll-alice.txt', 'chesterton-ball.txt', 'chesterton-brown.txt', 'chesterton-thursday.txt', 'edgeworth-parents.txt', 'melville-moby_dick.txt', 'milton-paradise.txt', 'shakespeare-caesar.txt', 'shakespeare-hamlet.txt', 'shakespeare-macbeth.txt', 'whitman-leaves.txt']\n",
      "[Emma by Jane Austen 1816]\n",
      "\n",
      "VOLUME I\n",
      "\n",
      "CHAPTER I\n",
      "\n",
      "\n",
      "Emma Woodhouse, handsome, clever, and rich, with a comfortable home\n",
      "and happy disposition, seemed to unite some of the best blessings\n",
      "of existence; and had lived nearly twenty-one years in the world\n",
      "with very little to distress or vex her.\n"
     ]
    },
    {
     "data": {
      "text/plain": [
       "list"
      ]
     },
     "execution_count": 10,
     "metadata": {},
     "output_type": "execute_result"
    }
   ],
   "source": [
    "from nltk.corpus import gutenberg # Doc from project gutenberg.org\n",
    "files=gutenberg.fileids() # get file ids\n",
    "print(files)\n",
    "\n",
    "doc=gutenberg.open('austen-emma.txt').read()\n",
    "\n",
    "tok=nltk.sent_tokenize(doc)\n",
    "\n",
    "print(tok[0]) #sent_tokenize 는 문장별로 구분해서 만들어주는듯, 리스트 형식\n",
    "\n",
    "type(tok)\n"
   ]
  },
  {
   "cell_type": "markdown",
   "metadata": {},
   "source": [
    "# 2. Preprocessing"
   ]
  },
  {
   "cell_type": "markdown",
   "metadata": {},
   "source": [
    "# regular expression: \n",
    "\n",
    "    match 1 or more (+)\n",
    " \n",
    "    match 0 or 1 repetitions(?)\n",
    " \n",
    "    match 0 or MORE repetitions (*)\n",
    " \n",
    "    Any character except a new line (.)\n"
   ]
  },
  {
   "cell_type": "markdown",
   "metadata": {},
   "source": [
    "# 2-1. Tokenizing words with NLTK"
   ]
  },
  {
   "cell_type": "code",
   "execution_count": 11,
   "metadata": {},
   "outputs": [
    {
     "name": "stdout",
     "output_type": "stream",
     "text": [
      "['Hello Mr. Smith, how are you doing today?', 'The weather is great, and Python is awesome.', 'The sky is pinkish-blue.', \"You shouldn't eat cardboard.\"]\n",
      "['Hello', 'Mr.', 'Smith', ',', 'how', 'are', 'you', 'doing', 'today', '?', 'The', 'weather', 'is', 'great', ',', 'and', 'Python', 'is', 'awesome', '.', 'The', 'sky', 'is', 'pinkish-blue', '.', 'You', 'should', \"n't\", 'eat', 'cardboard', '.']\n",
      "['Hello', 'Mr', 'Smith', 'The', 'Python', 'The', 'You']\n"
     ]
    }
   ],
   "source": [
    "from nltk.tokenize import sent_tokenize, word_tokenize, regexp_tokenize\n",
    "                   \n",
    "example_text = \"\"\"Hello Mr. Smith, how are you doing today? \n",
    "The weather is great, and Python is awesome.\n",
    "The sky is pinkish-blue. You shouldn't eat cardboard.\"\"\"\n",
    "\n",
    "print(sent_tokenize(example_text))\n",
    "print(word_tokenize(example_text))\n",
    "\n",
    "pattern= r'''[A-Z][a-z]*'''\n",
    "print(regexp_tokenize(example_text,pattern)) #pattern 안에 들어있는 내용만 걸러내는듯? 레귤러 익스프레션을 제거하는 듯한 느낌"
   ]
  },
  {
   "cell_type": "markdown",
   "metadata": {},
   "source": [
    "# 2-2. Explore Text with NLTK\n",
    "\n",
    "\n"
   ]
  },
  {
   "cell_type": "code",
   "execution_count": 21,
   "metadata": {},
   "outputs": [
    {
     "name": "stdout",
     "output_type": "stream",
     "text": [
      "221827\n"
     ]
    },
    {
     "data": {
      "text/plain": [
       "dict_keys(['[', 'E', 'mma ', 'by ', 'J', 'ane ', 'A', 'usten ', '1', '8', '6', ']', '\\n', 'V', 'O', 'L', 'U', 'M', ' ', 'I', 'C', 'H', 'P', 'T', 'R', 'W', 'oodhouse,', 'handsome,', 'clever,', 'and ', 'rich,', 'with ', 'a ', 'comfortable ', 'home\\n', 'happy ', 'disposition,', 'seemed ', 'to ', 'unite ', 'some ', 'of ', 'the ', 'best ', 'blessings\\n', 'existence;', 'had ', 'lived ', 'nearly ', 'twenty-', 'one ', 'years ', 'in ', 'world\\n', 'very ', 'little ', 'distress ', 'or ', 'vex ', 'her.', 'S', 'he ', 'was ', 'youngest ', 'two ', 'daughters ', 'most ', 'affectionate,', 'indulgent ', 'father;', 'had,', 'consequence ', 'her ', \"sister'\", 's ', 'marriage,', 'been ', 'mistress ', 'his ', 'house ', 'from ', 'early ', 'period.', 'er ', 'mother\\n', 'died ', 'too ', 'long ', 'ago ', 'for ', 'have ', 'more ', 'than ', 'an ', 'indistinct\\n', 'remembrance ', 'caresses;', 'place ', 'supplied\\n', 'excellent ', 'woman ', 'as ', 'governess,', 'who ', 'fallen ', 'short\\n', 'mother ', 'affection.', 'ixteen ', 'iss ', 'aylor ', 'r.', \"oodhouse'\", 'family,', 'less ', 'governess ', 'friend,', 'fond ', 'both ', 'daughters,', 'but ', 'particularly ', 'mma.', 'B', 'etween ', '_', 'them_', 'it ', 'intimacy\\n', 'sisters.', 'ven ', 'before ', 'ceased ', 'hold ', 'nominal\\n', 'office ', 'mildness ', 'temper ', 'hardly ', 'allowed\\n', 'impose ', 'any ', 'restraint;', 'shadow ', 'authority ', 'being\\n', 'now ', 'passed ', 'away,', 'they ', 'living ', 'together ', 'friend ', 'and\\n', 'mutually ', 'attached,', 'doing ', 'just ', 'what ', 'she ', 'liked;', 'highly ', 'esteeming ', \"aylor'\", 'judgment,', 'directed ', 'chiefly ', 'by\\n', 'own.', 'real ', 'evils,', 'indeed,', \"mma'\", 'situation ', 'were ', 'power ', 'having\\n', 'rather ', 'much ', 'own ', 'way,', 'disposition ', 'think ', 'little\\n', 'well ', 'herself;', 'these ', 'disadvantages ', 'which ', 'threatened\\n', 'alloy ', 'many ', 'enjoyments.', 'danger,', 'however,', 'at ', 'present\\n', 'so ', 'unperceived,', 'that ', 'did ', 'not ', 'means ', 'rank ', 'misfortunes\\n', 'orrow ', 'came-', '-', 'gentle ', 'sorrow-', 'all ', 'shape ', 'any\\n', 'disagreeable ', 'consciousness.', 'married.', 't ', 'iss\\n', 'loss ', 'first ', 'brought ', 'grief.', 'on ', 'wedding-', 'day\\n', 'this ', 'beloved ', 'sat ', 'mournful ', 'thought\\n', 'continuance.', 'wedding ', 'over,', 'bride-', 'people ', 'gone,', 'father ', 'herself ', 'left ', 'dine ', 'together,', 'no ', 'prospect\\n', 'third ', 'cheer ', 'evening.', 'composed ', 'himself\\n', 'sleep ', 'after ', 'dinner,', 'usual,', 'then ', 'only ', 'sit\\n', 'lost.', 'event ', 'every ', 'promise ', 'happiness ', 'friend.', 'eston\\n', 'man ', 'unexceptionable ', 'character,', 'easy ', 'fortune,', 'suitable ', 'age,', 'pleasant ', 'manners;', 'there ', 'satisfaction ', 'considering\\n', 'self-', 'denying,', 'generous ', 'friendship ', 'always ', 'wished\\n', 'promoted ', 'match;', 'black ', \"morning'\", 'work ', 'want ', 'would ', 'be ', 'felt ', 'hour ', 'day.', 'recalled ', 'past ', 'kindness-', 'kindness,', 'affection ', 'sixteen\\n', 'years-', 'how ', 'taught ', 'played ', 'five\\n', 'old-', 'devoted ', 'powers ', 'attach ', 'amuse\\n', 'health-', 'nursed ', 'through ', 'various ', 'illnesses\\n', 'childhood.', 'large ', 'debt ', 'gratitude ', 'owing ', 'here;', 'the\\n', 'intercourse ', 'last ', 'seven ', 'years,', 'equal ', 'footing ', 'perfect\\n', 'unreserve ', 'soon ', 'followed ', \"sabella'\", 'their\\n', 'being ', 'each ', 'other,', 'yet ', 'dearer,', 'tenderer ', 'recollection.', 'companion ', 'such ', 'few ', 'possessed:', 'intelligent,', 'well-', 'informed,', 'useful,', 'gentle,', 'knowing ', 'ways ', 'interested ', 'its ', 'concerns,', 'peculiarly ', 'herself,', 'pleasure,', 'scheme ', 'hers-', 'whom ', 'could ', 'speak\\n', 'thought ', 'arose,', 'her\\n', 'never ', 'find ', 'fault.', 'ow ', 'bear ', 'change?', 'true ', 'was\\n', 'going ', 'half ', 'mile ', 'them;', 'aware ', 'great ', 'must\\n', 'difference ', 'between ', 'rs.', 'eston,', 'them,', 'house;', 'advantages,', 'natural ', 'domestic,', 'danger ', 'suffering\\n', 'intellectual ', 'solitude.', 'dearly ', 'loved ', 'father,', 'he\\n', 'e ', 'meet ', 'conversation,', 'rational ', 'playful.', 'evil ', 'actual ', 'disparity ', 'their ', 'ages ', '(', 'oodhouse ', 'had\\n', 'married ', 'early)', 'increased ', 'constitution ', 'habits;', 'having ', 'valetudinarian ', 'life,', 'without ', 'activity\\n', 'mind ', 'body,', 'older ', 'years;', 'though ', 'everywhere ', 'friendliness ', 'heart\\n', 'amiable ', 'temper,', 'talents ', 'recommended ', 'him\\n', 'time.', 'sister,', 'comparatively ', 'removed ', 'matrimony,', 'settled ', 'ondon,', 'sixteen ', 'miles ', 'off,', 'beyond\\n', 'daily ', 'reach;', 'ctober ', 'N', 'ovember ', 'evening ', 'struggled ', 'artfield,', 'hristmas ', 'next\\n', 'visit ', 'sabella ', 'husband,', 'children,', 'fill ', 'house,', 'give ', 'society ', 'again.', 'ighbury,', 'populous ', 'village,', 'almost ', 'amounting ', 'town,', 'spite ', 'separate ', 'lawn,', 'shrubberies,', 'name,', 'really ', 'belong,', 'afforded ', 'equals.', 'oodhouses\\n', 'there.', 'll ', 'looked ', 'up ', 'them.', 'acquaintance ', 'place,', 'universally ', 'civil,', 'among ', 'them ', 'accepted ', 'lieu ', 'even ', 'melancholy ', 'change;', 'mma\\n', 'sigh ', 'over ', 'it,', 'wish ', 'impossible ', 'things,', 'till ', 'awoke,', 'made ', 'necessary ', 'cheerful.', 'is ', 'spirits ', 'required ', 'support.', 'nervous ', 'man,', 'easily ', 'depressed;', 'body ', 'used ', 'to,', 'hating ', 'part ', 'change ', 'kind.', 'atrimony,', 'origin ', 'change,', 'disagreeable;', 'reconciled\\n', \"daughter'\", 'marrying,', 'nor ', 'ever ', 'speak ', 'but\\n', 'compassion,', 'entirely ', 'match ', 'affection,', 'when ', 'obliged ', 'too;', 'from\\n', 'habits ', 'selfishness,', 'able ', 'to\\n', 'suppose ', 'other ', 'feel ', 'differently ', 'himself,', 'disposed ', 'done ', 'sad\\n', 'thing ', 'deal\\n', 'happier ', 'if ', 'spent ', 'rest ', 'life ', 'artfield.', 'smiled ', 'chatted ', 'cheerfully ', 'could,', 'keep ', 'thoughts;', 'tea ', 'came,', 'say ', 'exactly ', 'said ', '\"', 'oor ', 'aylor!', 'here ', 'hat ', 'pity ', 'it\\n', 'eston ', 'her!', 'cannot ', 'agree ', 'you,', 'papa;', 'you ', 'know ', 'cannot.', 'such\\n', 'good-', 'humoured,', 'pleasant,', 'thoroughly ', 'deserves\\n', 'good ', 'wife;', 'live ', 'us\\n', 'ever,', 'my ', 'odd ', 'humours,', 'might ', 'own?', 'own!', 'ut ', 'where ', 'advantage ', 'three ', 'times ', 'large.', 'nd ', 'dear.', 'often ', 'we ', 'shall ', 'see ', 'coming ', 'see\\n', 'us!', 'meeting!', 'e_', 'must ', 'begin;', 'go ', 'pay\\n', 'soon.', 'y ', 'dear,', 'am ', 'get ', 'far?', 'andalls ', 'distance.', 'walk ', 'far.', 'o,', 'papa,', 'nobody ', 'your ', 'walking.', 'carriage,', 'sure.', 'carriage!', 'ames ', 'will ', 'like ', 'put ', 'horses ', 'for\\n', 'way;', 'are ', 'poor ', 'while ', 'we\\n', 'paying ', 'our ', 'visit?', 'hey ', 'into ', \"eston'\", 'stable,', 'papa.', 'Y', 'ou ', 'already.', 'talked ', 'night.', 'ames,', 'may ', 'sure ', 'like\\n', 'andalls,', 'because ', 'housemaid ', 'doubt ', 'whether ', 'take ', 'us ', 'anywhere ', 'else.', 'doing,', 'got ', 'annah ', 'place.', 'obody ', 'mentioned ', 'her-', 'you!', 'glad ', 'lucky,', 'would\\n', 'himself ', 'slighted ', 'upon ', 'account;', 'make ', 'servant:', 'pretty-', 'spoken ', 'girl;', 'opinion ', 'henever ', 'her,', 'curtseys ', 'asks ', 'me ', 'do,', 'pretty ', 'manner;', 'do ', 'needlework,', 'observe ', 'she\\n', 'turns ', 'lock ', 'door ', 'right ', 'way ', 'bangs ', 'it.', 'servant;', 'great\\n', 'comfort ', 'somebody ', 'about ', 'is\\n', 'see.', 'goes ', 'daughter,', 'know,', 'hearing ', 'us.', 'tell ', 'are.', 'spared ', 'exertions ', 'maintain ', 'flow ', 'ideas,', 'hoped,', 'help ', 'backgammon,', 'tolerably\\n', 'evening,', 'attacked ', 'regrets ', 'backgammon-', 'table ', 'placed;', 'visitor ', 'immediately ', 'afterwards\\n', 'walked ', 'unnecessary.', 'K', 'nightley,', 'sensible ', 'eight-', 'and-', 'thirty,', 'not\\n', 'old ', 'intimate ', 'particularly\\n', 'connected ', 'elder ', 'brother ', 'husband.', 'frequent ', 'visitor,', 'welcome,', 'time ', 'welcome ', 'directly ', 'mutual ', 'connexions ', 'ondon.', 'returned ', 'late ', \"days'\", 'absence,', 'walked\\n', 'artfield ', 'runswick ', 'quare.', 'circumstance,', 'animated ', 'nightley ', 'cheerful ', 'manner,', 'him ', 'good;', 'inquiries ', 'sabella\"', 'children ', 'were\\n', 'answered ', 'satisfactorily.', 'hen ', 'oodhouse\\n', 'gratefully ', 'observed,', 'kind ', 'come\\n', 'out ', 'call ', 'afraid ', 'have\\n', 'shocking ', 'walk.', 'ot ', 'all,', 'sir.', 'beautiful ', 'moonlight ', 'night;', 'mild\\n', 'draw ', 'back ', 'fire.', 'found ', 'damp ', 'dirty.', 'may\\n', 'catch ', 'cold.', 'D', 'irty,', 'sir!', 'ook ', 'shoes.', 'speck ', 'ell!', 'quite ', 'surprising,', 'vast ', 'rain ', 'here.', 'rained ', 'dreadfully ', 'hard ', 'hour\\n', 'breakfast.', 'wanted ', 'off ', 'wedding.', 'bye-', 'wished ', 'joy.', 'eing ', 'aware\\n', 'sort ', 'joy ', 'feeling,', 'hurry\\n', 'congratulations;', 'hope ', 'went ', 'tolerably ', 'well.', 'behave?', 'ho ', 'cried ', 'most?', 'h!', \"'\", 'sad ', 'business.', 'please;', 'possibly\\n', '`', 'aylor.', 'regard ', 'mma;', 'comes ', 'question ', 'dependence ', 'independence!', 't\\n', 'rate,', 'better ', 'please ', 'two.', 'specially ', 'one_', 'those ', 'fanciful,', 'troublesome ', 'creature!', 'playfully.', 'head,', 'know-', 'certainly ', 'by.', 'believe ', 'true,', 'sigh.', 'sometimes ', 'fanciful ', 'troublesome.', 'dearest ', 'papa!', 'mean ', 'you_', ',', 'suppose\\n', '.', 'horrible ', 'idea!', 'h ', 'no!', 'meant\\n', 'myself.', 'loves ', 'fault ', 'me,', 'joke-', 'joke.', 'another.', 'fact,', 'faults ', 'told ', 'them:', 'agreeable ', 'knew ', 'suspect ', 'circumstance ', 'perfect ', 'body.', 'knows ', 'flatter ', 'meant ', 'reflection ', 'has ', 'used\\n', 'persons ', 'one.', 'chances ', 'gainer.', 'ell,', 'mma,', 'willing ', 'let ', 'pass-', 'hear\\n', 'wedding;', 'all\\n', 'behaved ', 'charmingly.', 'punctual,', 'looks:', 'tear,', 'face ', 'seen.', 'no;', 'apart,', 'meeting ', 'ear ', 'bears ', 'well,', 'father.', 'ut,', 'sorry ', 'lose ', 'aylor,', 'will_', 'miss ', 'thinks ', 'for.', 'turned ', 'away ', 'divided ', 'tears ', 'smiles.', 'should ', 'companion,', 'nightley.', 'sir,', 'it;', 'marriage ', 'advantage;', 'acceptable ', 'be,', 'home ', 'own,', 'important ', 'secure ', 'provision,', 'therefore ', 'allow ', 'pain ', 'pleasure.', 'happily\\n', 'forgotten ', 'matter ', 'considerable ', 'one-', 'match,', 'four ', 'ago;', 'proved ', 'right,', 'marry ', 'again,', 'thing.', 'shook ', 'head ', 'fondly ', 'replied,', 'matches ', 'foretell ', 'whatever ', 'pass.', 'ray ', 'matches.', 'none ', 'myself,', 'must,', 'people.', 'greatest ', 'amusement ', 'world!', 'nd\\n', 'success,', 'know!', 'widower\\n', 'long,', 'perfectly ', 'wife,', 'constantly ', 'occupied ', 'either ', 'business ', 'town ', 'his\\n', 'friends ', 'here,', 'wherever ', 'went,', 'cheerful-', 'need ', 'spend ', 'single ', 'year ', 'alone ', 'did\\n', 'ome ', 'wife ', 'deathbed,', 'others ', 'son ', 'uncle ', 'letting ', 'him.', 'manner\\n', 'solemn ', 'nonsense ', 'subject,', 'believed ', 'none\\n', 'ver ', 'since ', 'day-', 'ago-', 'met ', 'roadway ', 'ane,', 'when,', 'began ', 'drizzle,', 'darted ', 'gallantry,', 'borrowed ', 'umbrellas\\n', 'F', 'armer ', \"itchell'\", 's,', 'subject.', 'planned ', 'hour;', 'success ', 'blessed\\n', 'instance,', 'dear ', 'leave\\n', 'match-', 'making.', 'understand ', 'uccess ', 'supposes ', 'endeavour.', 'properly ', 'delicately ', 'spent,', 'endeavouring ', 'four\\n', 'bring ', 'marriage.', 'worthy ', 'employment ', 'young\\n', \"lady'\", 'mind!', 'if,', 'imagine,', 'making ', 'planning ', 'saying ', 'yourself\\n', 'idle ', 'day,', 'aylor\\n', 'again ', 'afterwards,', 'why ', 'talk ', 'success?', 'here\\n', 'merit?', 'proud ', 'of?', 'lucky ', 'guess;', 'that_', 'can ', 'said.', 'known ', 'pleasure ', 'triumph ', 'guess?', 'you.', 'cleverer-', 'for,', 'depend ', 'lucky\\n', 'guess ', 'merely ', 'luck.', 'talent ', 'word ', 'quarrel ', 'with,', 'claim ', 'drawn\\n', 'pictures;', 'third-', 'something\\n', 'do-', 'nothing ', 'all.', 'f ', 's\\n', 'visits ', 'given ', 'encouragements,', 'smoothed\\n', 'matters,', 'come ', 'enough ', 'comprehend ', 'that.', 'straightforward,', 'open-', 'hearted ', 'rational,', 'unaffected ', 'safely ', 'manage ', 'concerns.', 'likely ', 'harm ', 'yourself,', 'interference.', 'others,', 'rejoined ', 'understanding ', 'part.', 'pray ', 'matches;', 'silly ', 'break ', 'up\\n', \"one'\", 'family ', 'circle ', 'grievously.', 'nly ', 'more,', 'lton.', 'lton!', 'ou\\n', 'lton,', 'look ', 'ighbury ', 'deserves ', 'him-', 'been\\n', 'whole ', 'year,', 'fitted ', 'comfortably,', 'shame ', 'longer-', 'joining ', 'hands ', 'to-', 'if\\n', 'same ', 'him!', 'think\\n', 'doing\\n', 'service.', 'lton ', 'young ', 'sure,', 'very\\n', 'you\\n', 'shew ', 'attention,', 'ask ', 'dare ', 'ith ', 'deal ', 'time,', 'laughing,', 'entirely,', 'much\\n', 'nvite ', 'best\\n', 'fish ', 'chicken,', 'leave ', 'chuse ', 'wife.', 'epend ', 'six ', 'seven-', 'twenty ', 'care\\n', 'himself.', 'native ', 'born ', 'respectable ', 'generations ', 'rising ', 'into\\n', 'gentility ', 'property.', 'received ', 'education,', 'but,', 'succeeding ', 'small ', 'independence,', 'become\\n', 'indisposed ', 'homely ', 'pursuits ', 'brothers\\n', 'engaged,', 'satisfied ', 'active,', 'social\\n', 'entering ', 'militia ', 'county,', 'embodied.', 'aptain ', 'general ', 'favourite;', 'chances\\n', 'military ', 'introduced ', 'hurchill,', 'orkshire ', 'hurchill ', 'fell ', 'love\\n', 'him,', 'surprized,', 'except ', 'seen ', 'full ', 'pride ', 'importance,', 'connexion ', 'offend.', 'command\\n', 'fortune-', 'fortune ', 'bore ', 'proportion ', 'family-', 'estate-', 'dissuaded ', 'took ', 'infinite ', 'mortification ', 'threw ', 'due ', 'decorum.', 'unsuitable ', 'connexion,', 'produce ', 'happiness.', 'ought ', 'found\\n', 'husband ', 'whose ', 'warm ', 'heart ', 'sweet ', 'temper\\n', 'return ', 'goodness\\n', 'love ', 'him;', 'spirit,', 'best.', 'resolution ', 'pursue\\n', 'brother,', 'refrain\\n', 'unreasonable ', \"brother'\", 'anger,', 'missing ', 'luxuries ', 'former ', 'home.', 'income,', 'still ', 'comparison ', 'nscombe:', 'cease ', 'once\\n', 'nscombe.', 'considered,', 'especially ', 'hurchills,', 'amazing ', 'worst\\n', 'bargain;', 'died,', \"years'\", 'poorer ', 'first,', 'child ', 'maintain.', 'rom ', 'expense ', 'child,', 'relieved.', 'boy ', 'additional ', 'softening ', 'lingering\\n', 'illness ', \"mother'\", 'reconciliation;', 'creature ', 'kindred ', 'care ', 'offered ', 'charge ', 'decease.', 'scruples ', 'reluctance ', 'widower-', 'supposed\\n', 'felt;', 'overcome ', 'considerations,', 'wealth ', 'seek,', 'improve ', 'could.', 'complete ', 'became ', 'desirable.', 'quitted ', 'militia\\n', 'engaged ', 'trade,', 'brothers ', 'already ', 'established ', 'a\\n', 'favourable ', 'opening.', 'concern ', 'enough.', 'still\\n', 'leisure ', 'days ', 'spent;', 'useful ', 'occupation ', 'pleasures ', 'society,', 'next ', 'eighteen ', 'away.', 'realised ', 'competence-', 'secure\\n', 'purchase ', 'estate ', 'adjoining ', 'longed ', 'for-', 'portionless ', 'even\\n', 'according ', 'wishes ', 'own\\n', 'friendly ', 'social ', 'disposition.', 'begun ', 'influence\\n', 'schemes;', 'tyrannic ', 'influence ', 'youth\\n', 'youth,', 'shaken ', 'determination ', 'settling\\n', 'sale ', 'long\\n', 'forward ', 'to;', 'gone ', 'steadily ', 'on,', 'objects\\n', 'view,', 'accomplished.', 'bought ', 'obtained ', 'beginning ', 'new\\n', 'period ', 'existence,', 'probability ', 'greater ', 'happiness\\n', 'through.', 'unhappy ', 'man;', 'secured ', 'that,', 'marriage;', 'second ', 'delightful ', 'judging ', 'truly\\n', 'pleasantest ', 'proof\\n', 'choose ', 'chosen,', 'excite ', 'choice:', 'own;', 'rank,', 'tacitly ', 'brought\\n', \"uncle'\", 'heir,', 'become ', 'avowed ', 'adoption\\n', 'assume ', 'name ', 'age.', 'unlikely,', 'therefore,', \"father'\", 'assistance.', 'apprehension ', 'aunt ', 'capricious ', 'woman,', 'governed ', 'entirely;', 'nature ', 'imagine ', 'caprice\\n', 'strong ', 'affect ', 'and,', 'believed,', 'deservedly ', 'saw ', 'report ', 'fine\\n', 'too.', 'sufficiently ', 'belonging ', 'merits ', 'prospects ', 'common ', 'concern.', 'boasts ', 'lively\\n', 'curiosity ', 'prevailed,', 'compliment ', 'life.', 'coming\\n', 'achieved.', 'ow,', 'generally ', 'proposed,', 'proper ', 'dissentient ', 'voice ', 'when\\n', 'erry ', 'drank ', 'ates,', 'ates ', 'visit.', 'rank\\n', 'strengthened ', 'understood ', 'written ', 'new ', 'occasion.', 'days,', 'morning ', 'included ', 'mention\\n', 'handsome ', 'letter ', 'received.', 'heard ', 'written\\n', 'eston?', 'letter,', 'indeed.', 'says ', 'was,', 'prized ', 'letter.', 'course,', 'formed ', 'idea ', 'pleasing\\n', 'attention ', 'irresistible ', 'proof ', 'sense,', 'addition ', 'source ', 'expression\\n', 'congratulation ', 'secured.', 'felt\\n', 'fortunate ', 'woman;', 'enough\\n', 'thought,', 'only\\n', 'regret ', 'partial ', 'separation ', 'friendship\\n', 'cooled,', 'ill ', 'missed;', 'think,', 'pain,', 'losing ', \"hour'\", 'ennui,', 'companionableness:', 'dear\\n', 'feeble ', 'character;', 'situation\\n', 'girls ', 'been,', 'energy,', 'hoped ', 'difficulties ', 'privations.', 'distance ', 'convenient ', 'solitary ', 'female ', 'walking,', 'circumstances,', 'approaching\\n', 'season ', 'hindrance ', 'spending ', 'evenings ', 'week ', 'together.', 'altogether ', 'subject ', 'hours ', 'gratitude\\n', 'moments ', 'regret;', 'satisfaction-', 'enjoyment,', 'apparent,', 'taken ', 'surprize ', 'pity\\n', 'centre\\n', 'domestic ', 'comfort,', 'evening\\n', 'attended ', 'carriage ', 'giving ', 'sigh,', 'saying,', 'h,', 'stay.', 'recovering ', 'aylor-', 'likelihood ', 'of\\n', 'ceasing ', 'her;', 'weeks ', 'alleviation\\n', 'oodhouse.', 'compliments ', 'neighbours ', 'over;', 'longer ', 'teased ', 'sorrowful ', 'event;', 'cake,', 'eat ', 'up.', 'stomach ', 'different ', 'unwholesome ', 'regarded ', 'unfit ', 'body;', 'earnestly ', 'tried ', 'dissuade ', 'cake ', 'vain,', 'earnestly\\n', 'prevent ', \"body'\", 'eating ', 'pains\\n', 'consulting ', 'erry,', 'apothecary,', 'erry\\n', 'gentlemanlike ', 'one\\n', 'comforts ', 'life;', 'applied ', 'acknowledge ', 'against ', 'bias ', 'inclination)', 'disagree\\n', 'many-', 'perhaps ', 'people,', 'unless ', 'moderately.', 'opinion,', 'confirmation ', 'hoped\\n', 'newly ', 'pair;', 'eaten;', 'benevolent ', 'nerves ', 'till\\n', 'gone.', 'strange ', 'rumour ', 'errys\\n', 'slice ', 'hands:', 'way.', 'liked ', 'united ', 'causes,', 'residence ', 'nature,', 'command ', 'circle,', 'measure,', 'liked.', 'families ', 'beyond ', 'circle;', 'horror ', 'hours,', 'dinner-', 'parties,', 'unfit\\n', 'terms.', 'ortunately ', 'including ', 'parish,', 'onwell ', 'bbey ', 'parish ', 'adjoining,', 'seat ', 'comprehended ', 'such.', 'unfrequently,', 'persuasion,', 'chosen ', 'him:', 'parties ', 'preferred;', 'fancied ', 'unequal ', 'company,', 'scarcely ', 'week\\n', 'card-', 'eal,', 'long-', 'standing ', 'estons ', 'nightley;', 'liking ', 'privilege ', 'exchanging ', 'vacant ', 'blank ', 'solitude\\n', 'elegancies ', 'drawing-', 'room,', 'smiles ', 'lovely ', 'thrown ', 'fter ', 'came ', 'set;', 'come-', 'at-', 'able\\n', 'G', 'oddard,', 'ladies\\n', 'service ', 'invitation ', 'fetched ', 'carried ', 'often,', 'hardship ', 'horses.', 'ad ', 'once ', 'grievance.', 'widow ', 'vicar ', 'lady,', 'quadrille.', 'daughter ', 'considered ', 'respect ', 'harmless ', 'under ', 'untoward ', 'excite.', 'enjoyed\\n', 'uncommon ', 'degree ', 'popularity ', 'neither ', 'young,', 'stood ', 'predicament ', 'world ', 'public ', 'favour;', 'superiority ', 'atonement ', 'frighten ', 'hate ', 'outward ', 'respect.', 'boasted ', 'beauty ', 'cleverness.', 'distinction,', 'middle ', 'devoted\\n', 'failing ', 'mother,', 'endeavour ', 'small\\n', 'income ', 'far ', 'possible.', 'named ', 'will.', 'universal ', 'contented ', 'worked ', 'wonders.', 'happiness,', 'quicksighted ', 'merits;', 'fortunate\\n', 'creature,', 'surrounded ', 'blessings ', 'friends,', 'wanted\\n', 'nothing.', 'simplicity ', 'cheerfulness ', 'grateful ', 'recommendation ', 'mine ', 'felicity ', 'herself.', 'talker ', 'upon\\n', 'suited ', 'trivial\\n', 'communications ', 'gossip.', 'oddard ', 'chool-', 'seminary,', 'establishment,', 'professed,', 'sentences ', 'refined ', 'nonsense,', 'combine ', 'liberal ', 'acquirements ', 'elegant ', 'morality,', 'principles ', 'systems-', 'ladies ', 'enormous ', 'pay ', 'screwed ', 'health ', 'vanity-', 'real,', 'honest,', 'fashioned ', 'oarding-', 'school,', 'reasonable\\n', 'quantity ', 'accomplishments ', 'sold ', 'reasonable ', 'price,', 'sent ', 'scramble\\n', 'themselves ', 'prodigies.', \"oddard'\", 'school ', 'high ', 'repute-', 'deservedly;', 'reckoned ', 'healthy\\n', 'spot:', 'ample ', 'garden,', 'gave ', 'plenty\\n', 'wholesome ', 'food,', 'run ', 'summer,', 'winter ', 'dressed ', 'chilblains ', 'hands.', 'wonder ', 'train ', 'couple ', 'church.', 'plain,', 'motherly ', 'entitled\\n', 'occasional ', 'holiday ', 'tea-', 'visit;', 'formerly\\n', 'owed ', 'particular ', 'claim\\n', 'neat ', 'parlour,', 'hung ', 'round ', 'fancy-', 'work,', 'whenever ', 'win ', 'sixpences ', 'fireside.', 'hese ', 'frequently\\n', 'collect;', 'she,', 'sake,', 'power;', 'though,', 'concerned,', 'remedy ', 'absence ', 'eston.', 'delighted\\n', 'comfortable,', 'pleased ', 'with\\n', 'contriving ', 'things ', 'well;', 'quiet ', 'prosings\\n', 'women ', 'spent\\n', 'indeed ', 'fearfully ', 'anticipated.', 'morning,', 'looking ', 'close\\n', 'present ', 'note ', 'requesting,', 'respectful ', 'terms,', 'allowed ', 'mith ', 'request:', 'girl ', 'seventeen,', 'sight,', 'interest ', 'in,', 'account ', 'beauty.', 'gracious ', 'returned,', 'dreaded ', 'fair ', 'mansion.', 'arriet ', 'somebody.', 'omebody ', 'placed ', 'several ', 'back,', 'lately ', 'raised ', 'condition ', 'scholar\\n', 'parlour-', 'boarder.', 'known\\n', 'history.', 'visible ', 'acquired ', 'visit\\n', 'country ', 'girl,', 'happened ', 'sort\\n', 'admired.', 'short,', 'plump,', 'fair,', 'fine ', 'bloom,', 'blue ', 'eyes,', 'light ', 'hair,', 'regular ', 'features,', 'sweetness,', 'end ', 'manners ', 'person,', 'quite\\n', 'determined ', 'continue ', 'acquaintance.', 'struck ', 'remarkably ', 'clever ', \"mith'\", 'engaging-', 'inconveniently ', 'shy,', 'unwilling ', 'talk-', 'pushing,', 'shewing ', 'becoming ', 'deference,', 'seeming ', 'pleasantly\\n', 'admitted ', 'artlessly\\n', 'impressed ', 'appearance ', 'superior ', 'style\\n', 'deserve ', 'encouragement.', 'ncouragement ', 'given.', 'hose ', 'soft ', 'graces,', 'be\\n', 'wasted ', 'inferior ', 'connexions.', 'unworthy ', 'parted,', 'harm.', 'name\\n', 'artin,', 'renting ', 'farm\\n', 'residing ', 'onwell-', 'creditably,', 'believed-', 'them-', 'they\\n', 'coarse ', 'unpolished,', 'intimates\\n', 'knowledge ', 'elegance\\n', 'perfect.', 'he_', 'notice ', 'detach ', 'bad ', 'acquaintance,', 'introduce ', 'society;', 'form ', 'opinions ', 'manners.', 'interesting,', 'undertaking;', 'leisure,', 'powers.', 'busy ', 'admiring ', 'talking\\n', 'listening,', 'forming ', 'schemes ', 'in-', 'betweens,', 'that\\n', 'flew ', 'unusual ', 'rate;', 'supper-', 'table,', 'closed ', 'sit ', 'watch ', 'set ', 'ready,', 'moved ', 'forwards ', 'fire,', 'aware.', 'an\\n', 'alacrity ', 'impulse ', 'spirit ', 'never\\n', 'indifferent ', 'credit ', 'attentively,', 'delighted ', 'honours ', 'meal,', 'recommend\\n', 'minced ', 'chicken ', 'scalloped ', 'oysters,', 'urgency ', 'civil ', 'guests.', 'pon ', 'occasions ', 'oodhouses ', 'feelings ', 'warfare.', 'cloth ', 'laid,', 'fashion\\n', 'conviction ', 'suppers ', 'unwholesome\\n', 'hospitality ', 'welcomed ', 'visitors ', 'thing,', 'grieve ', 'eat.', 'uch ', 'another ', 'basin ', 'thin ', 'gruel ', 'thorough ', 'approbation,', 'recommend;', 'constrain ', 'comfortably ', 'clearing\\n', 'nicer ', 'say:', 'propose ', 'venturing ', 'eggs.', 'n ', 'egg ', 'boiled ', 'unwholesome.', 'erle ', 'understands ', 'boiling\\n', 'recommend ', 'boiled\\n', 'else;', 'afraid,', 'small,', 'see-', 'eggs ', 'hurt ', 'little_', 'bit ', 'tart-', 'very_', 'bit.', 'urs ', 'apple-', 'tarts.', 'preserves ', 'advise ', 'custard.', 'say\\n', 'half_', 'glass ', 'wine?', 'small_', 'half-', 'glass,', 'tumbler\\n', 'water?', 'disagree ', 'supplied ', 'in\\n', 'satisfactory ', 'style,', 'sending ', 'happy.', 'intentions.', 'personage ', 'prospect ', 'introduction ', 'panic ', 'pleasure;', 'humble,', 'gratified ', 'feelings,', 'affability ', 'treated\\n', 'actually ', 'last!', 'intimacy ', 'Q', 'uick ', 'decided ', 'ways,', 'lost ', 'inviting,', 'encouraging,', 'telling ', 'often;', 'increased,', 'other.', 'walking ', 'foreseen ', 'important.', 'father\\n', 'shrubbery,', 'divisions ', 'ground\\n', 'sufficed ', 'walk,', 'varied;', 'exercise ', 'confined.', 'ventured ', 'pleasant;', 'mith,', 'summon ', 'valuable ', 'privileges.', 'respect,', 'approved ', 'confirmed ', 'designs.', 'sweet,', 'docile,', 'totally ', 'free ', 'conceit,', 'desiring\\n', 'guided ', 'to.', 'attachment\\n', 'amiable;', 'inclination ', 'appreciating ', 'shewed ', 'taste,', 'strength ', 'expected.', 'ltogether ', 'convinced ', 'arriet\\n', 'wanted-', 'something ', 'required.', 'question.', 'wo ', 'granted.', 'want.', 'sentiment ', 'distinct ', 'independent.', 'object\\n', 'basis ', 'esteem.', 'useful.', 'done;', 'attempts ', 'usefulness ', 'who\\n', 'parents,', 'tell.', 'ready ', 'tell\\n', 'power,', 'questions ', 'vain.', 'fancy ', 'liked-', 'she_', 'discovered\\n', 'truth.', 'penetration.', 'satisfied\\n', 'hear ', 'chose ', 'farther.', 'teachers,', 'affairs ', 'general,', 'naturally ', 'conversation-', 'artins ', 'bbey-', 'arm,', 'whole.', 'thoughts\\n', 'deal;', 'months ', 'visit,', 'describe\\n', 'wonders ', 'encouraged ', 'talkativeness-', 'amused ', 'picture ', 'beings,', 'enjoying ', 'youthful ', 'exultation ', \"artin'\", 'two_', 'parlours,', 'indeed;', 'room;', 'upper ', 'maid ', 'five-', 'years\\n', 'eight ', 'cows,', 'lderneys,', 'elch ', 'cow,', 'cow ', 'called ', 'her_', 'cow;', 'summer-', 'house\\n', 'day ', 'drink\\n', 'tea:', 'dozen ', 'amused,', 'thinking ', 'immediate ', 'cause;', 'better,', 'arose.', 'wrong ', 'idea,', 'fancying ', \"son'\", 'together;', 'appeared\\n', 'narrative,', 'always\\n', 'approbation ', 'case;', 'of,', 'sink ', 'forever.', 'inspiriting ', 'notion,', 'number\\n', 'meaning;', 'led ', 'evidently ', 'dislike ', 'ready\\n', 'share ', 'walks ', 'merry\\n', 'games;', 'dwelt ', 'humoured\\n', 'obliging.', 'order ', 'bring\\n', 'walnuts,', 'else ', \"shepherd'\", 'parlour ', 'night ', 'purpose ', 'sing ', 'singing.', 'flock,', 'bid ', 'wool ', 'country.', 'spoke ', 'sisters\\n', 'artin ', 'there\\n', 'blush ', ')', 'body\\n', 'son,', 'married,', 'wanted_', 'marry.', 'hurry ', 'ell ', 'done,', 'artin!', 'about.', 'send\\n', 'goose-', 'finest ', 'goose ', 'unday,', 'asked ', 'ash,', 'rince,', 'ichardson,', 'sup ', 'suppose,', 'information ', 'line\\n', 'business?', 'does ', 'read?', 'yes!', 'is,', 'no-', 'has\\n', 'read ', 'deal-', 'of.', 'reads ', 'gricultural ', 'eports,', 'books ', 'lay\\n', 'window ', 'seats-', 'cards,', 'read\\n', 'aloud ', 'legant ', 'xtracts,', 'entertaining.', 'icar ', 'akefield.', 'omance ', 'orest,', 'hildren ', 'bbey.', 'determined\\n', 'can.', 'was-', 'artin?', 'handsome-', 'handsome.', 'plain\\n', 'plain ', 'now.', 'ne ', 'not,', 'him?', 'every\\n', 'then,', 'ride ', 'way\\n', 'ingston.', 'often.', 'fifty ', 'times,', 'without\\n', 'name.', 'farmer,', 'horseback\\n', 'foot,', 'person ', 'raise ', 'curiosity.', 'yeomanry ', 'precisely ', 'do.', 'lower,', 'creditable\\n', 'me;', 'farmer ', 'help,', 'above ', 'below ', 'o ', 'observed ', 'indeed-', 'sight.', 'man.', 'so,', 'such,', 'age ', 'be?', 'four-', 'th ', 'une,', 'birthday ', '2', '3', 'rd ', 'fortnight ', \"day'\", 'difference-', 'odd.', 'twenty.', 'settle.', 'hurry.', 'seem ', 'comfortable\\n', 'are,', 'pains ', 'probably ', 'repent ', 'ix ', 'hence,', 'meet\\n', 'money,', 'hence!', 'thirty ', 'old!', 'men ', 'afford ', 'marry,', 'independence.', 'make-', 'beforehand ', 'world.', 'hatever ', 'money ', 'property,', 'say,', 'afloat,', 'employed ', 'stock,', 'forth;', 'diligence ', 'luck,', 'rich ', 'yet.', 'is.', 'comfortably.', 'indoors ', 'thing;', 'talks ', 'taking ', 'year.', 'scrape,', 'arriet,', 'does\\n', 'marry;', 'mean,', 'acquainted ', 'wife-', 'though\\n', 'sisters,', 'altogether\\n', 'objected ', 'follow ', 'fit\\n', 'notice.', 'misfortune ', 'birth ', 'careful ', 'associates.', 'doubt\\n', \"gentleman'\", 'support ', 'your\\n', 'station ', 'within ', 'plenty ', 'degrading ', 'es,', 'force ', 'arriet;', 'firmly ', 'independent ', 'permanently ', 'connected,', 'advisable\\n', 'be;', 'marries,', 'drawn ', 'mere\\n', \"farmer'\", 'education.', 'es.', 'education-', 'owever,', \"your'\", 's-', 'shall\\n', 'artins,', 'lizabeth,', 'up,', 'well\\n', 'educated ', 'me.', 'marries ', 'ignorant,', 'vulgar ', 'watched ', 'fluctuations ', 'speech,', 'alarming ', 'symptoms ', 'love.', 'admirer,', 'trusted ', 'hold,', 'serious ', 'difficulty,', \"arriet'\", 'side,', 'oppose ', 'arrangement ', 'road.', 'respectfully\\n', 'unfeigned ', 'companion.', 'opportunity ', 'survey;', 'yards ', 'forward,', 'made\\n', 'quick ', 'eye ', 'obert ', 'artin.', 'neat,', 'contrasted ', 'gentlemen,', 'gained ', 'inclination.', 'insensible\\n', 'voluntarily ', 'noticed ', 'gentleness\\n', 'admiration ', 'wonder.', 'manner ', 'was.', 'remained ', 'minutes ', 'kept ', 'waiting;', 'running ', 'smiling ', 'face,', 'flutter ', 'spirits,', 'compose.', 'happening ', 'odd!', 'chance,', 'said,', 'andalls.', 'towards ', 'days.', 'orest ', 'ingston ', 'forgot ', 'morrow.', 'happen ', 'meet!', 'expected?', 'plain?', 'undoubtedly-', 'plain:', 'compared ', 'entire ', 'gentility.', 'no\\n', 'expect ', 'much,', 'much;', 'clownish,', 'air.', 'imagined ', 'confess,', 'nearer ', 'mortified ', 'voice,', 'genteel ', 'gentlemen.', 'us,', 'repeatedly ', 'company ', 'yourself ', 'specimens ', 'educated,', 'bred ', 'men.', 'surprized ', 'seeing ', 'perceiving\\n', 'creature-', 'wondering ', 'at\\n', 'before.', 'begin ', 'now?', 'ere ', 'struck?', 'sure\\n', 'awkward ', 'abrupt ', 'uncouthness ', 'wholly ', 'unmodulated\\n', 'ertainly,', 'air ', 'difference\\n', 'man!', \"nightley'\", 'fair\\n', 'compare ', 'him_', 'hundred\\n', 'gentleman_', 'plainly ', 'gentleman ', 'lton?', 'ompare ', 'carrying ', 'themselves;', 'walking;', 'speaking;', 'silent.', 'difference.', 'almost\\n', 'forty ', 'fifty.', 'hich ', 'makes ', 'valuable.', 'grows,', 'manners\\n', 'bad;', 'glaring ', 'disgusting ', 'loudness,', 'coarseness,', 'awkwardness ', 'becomes.', 'passable ', 'detestable ', 'later ', 'abrupt;', 'life?', 'replied ', 'solemnly.', 'guessing.', 'completely ', 'gross,', 'inattentive ', 'appearances,', 'thinking\\n', 'profit ', 'loss.', 'he,', 'indeed?', 'bad.', 'engrosses ', 'forgetting ', 'inquire ', 'book ', 'recommended.', 'market ', 'thing\\n', 'else-', 'thriving ', 'books?', 'thrive,', 'time-', 'illiterate ', 'coarse\\n', 'disturb ', 'us_', 'remember ', 'book\"', 'answer,', 'grave ', 'displeasure ', 'might\\n', 'itself.', 'perhaps,', \"lton'\", 'superior\\n', 's.', 'gentleness.', 'held ', 'pattern.', 'openness,', 'quickness,', 'bluntness ', 'likes ', 'humour ', 'it-', 'copied.', 'downright,', 'decided,', 'commanding ', 'suits\\n', 'figure,', 'look,', 'seem\\n', 'copying ', 'sufferable.', 'contrary,', 'man\\n', 'model.', 'cheerful,', 'obliging,', 'gentle.', 'seems ', 'grown ', 'late.', 'design ', 'ingratiating ', 'either\\n', 'softness,', 'strikes ', 'softer ', 'be.', 'id ', 'day?', 'repeated ', 'personal ', 'praise ', 'justice ', 'blushed\\n', 'smiled,', 'agreeable.', 'fixed ', 'driving\\n', 'head.', 'palpably ', 'desirable,', 'natural,', 'probable,', 'merit ', 'feared ', 'predict.', 'likely,', 'equalled\\n', 'date ', 'plan,', 'entered ', 'brain ', 'during\\n', 'longer\\n', 'sense ', 'expediency.', 'suitable,', 'low ', 'connexions;', 'family\\n', 'fairly ', 'object ', 'doubtful ', 'arriet.', 'sufficient ', 'income;', 'vicarage ', 'large,', 'property;', 'highly\\n', 'meaning,', 'deficiency ', 'beautiful\\n', 'trusted,', 'meetings ', 'foundation ', 'side;', 'preferred ', 'usual ', 'weight ', 'efficacy.', 'fastidious ', 'like.', 'handsome;', 'admired ', 'elegance ', 'feature ', 'which\\n', 'dispense ', 'with:', 'gratified\\n', 'riding ', 'walnuts\\n', 'conquered ', 'admiration.', 'thing!', 'thing?', 'so?', 'good.', 'me!', 'good:', 'supplying ', 'interest,', 'feel!', 'good!', 'quarrels\\n', 'erhaps ', 'out,', 'fight ', 'battle.', 'undoubtedly ', 'speaking\\n', 'yesterday,', 'agreeing ', 'associate ', 'with.', 'judge ', 'case.', 'alone,', 'value\\n', 'companion;', 'comfort\\n', 'feels ', 'sex,', 'objection ', 'mith.', 'hand,', 'wants ', 'inducement ', 'will\\n', 'know.', 'meaning ', 'twelve\\n', 'old.', 'lists ', 'regularly ', 'through-', 'were-', 'neatly\\n', 'arranged-', 'alphabetically,', 'rule.', 'list ', 'drew ', 'fourteen-', 'judgment ', 'credit,', 'preserved ', 'time;', 'expecting ', 'course ', 'steady ', 'reading ', 'submit ', 'requiring ', 'industry ', 'patience,', 'subjection ', 'understanding.', 'failed ', 'stimulate,', 'affirm ', 'do\\n', 'persuade ', 'wished.', 'not.', 'smiling,', 'then_', ';', 'omitting ', 'desiring ', 'refresh ', 'memory ', 'said\\n', 'feelingly;', 'moment ', 'done.', 'added,', 'charm ', 'senses,', 'see,', 'hear,', 'remember.', 'spoiled ', 'cleverest ', 'family.', 'ten ', 'old,', 'answer ', 'puzzled ', 'sister ', 'seventeen.', 'assured:', 'slow ', 'diffident.', 'twelve,', 'cope\\n', 'inherits ', 'talents,', 'sorry,', 'dependent ', 'on\\n', 'your_', 'recommendation,', 'situation;', 'held.', 'smiling.', 'here_', 'governess.', 'preparing\\n', 'education ', 'promise;', 'receiving ', 'material ', 'matrimonial ', 'point ', 'submitting ', 'will,', 'bid;', 'hank ', 'wife\\n', 'hy,', 'truth,', 'bear,', 'nothing\\n', 'borne.', 'despair,', 'however.', 'grow ', 'cross\\n', 'wantonness ', 'plague ', 'likely.', 'vexation ', 'quarter.', 'possibilities.', 'pretend ', 'genius ', 'foretelling ', 'hope,', 'heart,', 'merit,', 'fortune.', 'ut\\n', 'mith-', 'worst ', 'possibly ', 'have.', 'looks ', 'flatterer ', 'ways;', 'worse,', 'undesigned.', 'ignorance ', 'hourly ', 'flattery.', 'can\\n', 'learn ', 'presenting ', 'inferiority?', 'venture ', 'gain ', 'conceit ', 'places\\n', 'belongs ', 'uncomfortable\\n', 'circumstances ', 'mistaken ', 'doctrines ', 'mind,', 'tend ', 'adapt ', 'rationally ', 'varieties\\n', 'polish.', 'more\\n', 'anxious ', 'comfort;', 'lament ', 'night!', 'you?', 'ery ', 'attempt ', 'deny ', 'pretty.', 'retty!', 'rather.', 'nearer\\n', 'altogether-', 'figure?', 'confess ', 'seldom ', 'figure ', 'pleasing ', 'hers.', 'eye!', 'hazle ', 'eye-', 'brilliant!', 'open ', 'countenance,', 'complexion!', 'oh!', 'bloom ', 'health,', 'height ', 'size;', 'firm ', 'upright ', 'figure!', 'air,', 'glance.', 'hears ', 'picture\\n', 'health;', 'now,', 'gives ', 'complete\\n', 'grown-', 'health.', 'loveliness ', 'she?', 'replied.', 'describe.', 'add ', 'praise,', 'personally ', 'onsidering ', 'appears ', 'vanity ', 'lies ', 'am\\n', 'dread\\n', 'equally ', 'stout ', 'confidence ', 'its\\n', 'faults,', 'creature.', 'kinder ', 'truer ', 'friend?', 'qualities\\n', 'trusted;', 'lead ', 'wrong;', 'lasting ', 'blunder;', 'errs ', 'once,', 'hundred ', 'times.', 'more.', 'angel,', 'spleen ', 'myself ', 'brings ', 'ohn\\n', 'sabella.', 'ohn ', 'therefore\\n', 'blind ', 'does;', 'frightened ', 'children.', 'unjust ', 'unkind;', 'excuse ', 'liberty ', 'consider ', 'somewhat ', 'speech ', 'had)', 'hinting ', 'possible ', 'arise ', 'discussion ', 'supposing\\n', 'inconvenience ', 'apprehended ', 'intimacy,', 'expected ', 'accountable ', 'approves ', 'so\\n', 'province ', 'advice,', 'remains ', 'office.', 'he;', 'fate ', 'advice ', 'found;', 'alarmed,', 'unhappy\\n', 'sister.', 'satisfied,', 'outcry.', 'keep\\n', 'ill-', 'sincere ', 'sister;', 'excited ', 'interest;', 'great.', 'anxiety,', 'gently,', 'much.', 'declares ', 'which,', 'yet\\n', 'cared ', 'object.', 'love,', 'return;', 'hereabouts ', 'seldom\\n', 'does,', 'tempt ', 'break\\n', 'present,', 'attachment ', 'creating ', 'difficulties\\n', 'account.', 'matrimony\\n', 'slight ', 'state,', 'assure ', 'art ', 'conceal ', 'favourite ', 'thoughts ', 'respecting ', 'destiny,', 'desirable ', 'suspected;', 'transition\\n', 'afterwards ', 'weather;', 'rain?', 'surmise ', 'fancy\\n', 'direction ', 'vanity\\n', 'purpose,', 'decidedly ', 'sensible\\n', 'most\\n', 'hesitation ', 'following ', 'assurance ', 'hints,', 'soon\\n', 'confident ', 'occasion ', 'convinced\\n', 'fairest ', 'falling ', 'scruple ', 'praised ', 'warmly,', 'could\\n', 'wanting ', 'add.', 'perception ', 'striking ', 'improvement ', 'least\\n', 'proofs ', 'growing ', 'attachment.', 'required,', 'graceful ', 'easy.', 'creature\\n', 'attractions ', 'added ', 'infinitely ', 'nature.', 'drawing ', 'few,', 'hints.', 'grace ', 'sweetness ', 'artlessness\\n', 'little.', 'admissible ', 'contradict ', 'gallant\\n', 'lton-', 'decision ', 'points ', 'xactly ', 'so;', 'principally ', 'superadded\\n', 'character!', 'kilful ', 'hand!', 'reat ', 'truly ', 'amiable.', 'sighing ', 'animation,', 'lover.', 'seconded ', 'sudden ', 'hers,', 'picture.', 'likeness ', 'taken,', 'arriet?', 'she:', 'picture?', 'leaving ', 'stopt ', 'interesting ', 'naivete,', 'no,', 'never.', 'sooner ', 'exclaimed,', 'exquisite ', 'possession ', 'be!', 'passion ', 'likenesses,', 'attempted ', 'tolerable ', 'general.', 'cause ', 'another,', 'disgust.', 'really,', 'venture,', 'delight ', 'picture!', 'et ', 'entreat ', 'lton;', 'delight!', 'charming ', 'favour ', 'drawings ', 'ignorant?', 'room ', 'landscapes ', 'flowers;', 'inimitable ', 'figure-', 'pieces ', 'andalls?', 'mma-', 'taking\\n', 'likenesses?', 'drawing.', \"on'\", 'raptures ', 'mine.', 'eep ', 'face.', 'encouragement,', 'believe\\n', 'try ', 'features ', 'delicate,', 'difficult;', 'peculiarity\\n', 'lines ', 'mouth ', 'ought\\n', 'catch.', 'so-', 'mouth-', 'success.', 'ray,', 'use ', 'words,', 'possession.', 'sit.', 'answering ', 'me?', 'meant,', 'my\\n', 'drawn?', 'yes,', 'persuaded.', 'proposal ', 'made;', 'stand ', 'earnest\\n', 'pressing ', 'others.', 'directly,', 'produced ', 'portfolio ', 'containing ', 'attempts\\n', 'portraits,', 'finished,', 'decide ', 'size ', 'many\\n', 'beginnings ', 'displayed.', 'iniatures,', 'lengths,', 'whole-', 'pencil,', 'crayon,', 'water-', 'colours ', 'turn.', 'progress\\n', 'music ', 'labour ', 'sang;', 'drew\\n', 'style;', 'steadiness ', 'wanting;', 'approached ', 'excellence ', 'command,', 'deceived ', 'skill ', 'artist\\n', 'musician,', 'deceived,', 'reputation ', 'accomplishment ', 'higher\\n', 'deserved.', 'least ', 'most;', 'style ', 'spirited;', 'less,', 'companions\\n', 'same.', 'ecstasies.', 'likeness\\n', 'pleases ', 'performances ', 'capital.', 'variety ', 'faces ', 'study ', 'from.', 'father-', 'sitting ', 'nervous,', 'stealth;', 'therefore.', 'eston!', 'kindest ', 'really\\n', 'unlike.', 'longer,', 'quiet.', 'hen,', 'children;', 'enry ', 'ella,', 'sheet ', 'rest.', 'eager ', 'refuse;', 'know;', 'complexion,', 'coarser ', 'featured ', \"mama'\", 'were.', 'sketch ', 'fourth,', 'baby.', 'sleeping ', 'sofa,', 'cockade ', 'nestled ', 'down ', 'conveniently.', \"hat'\", 'eorge.', 'corner ', 'sofa ', 'last,', 'unclosing ', 'gentleman\\n', 'size,', 'length-', 'best-', 'pet,', 'vowed ', 'likeness.', 'provoked;', 'pains,', 'agreed ', 'like)', 'too\\n', 'flattering-', 'side-', 'after\\n', 'this,', 'cold ', 'of-', 'like-', 'justice.', 'trouble ', 'persuading ', 'of;', 'bear;', 'finish ', 'apologised\\n', 'unfavourable ', 'likeness,', 'quare;', 'forswear ', 'drawing\\n', 'husbands ', 'wives ', 'case ', 'at_', 'present_', 'repeating,', 'observe.', 'so.', 'wives,', 'consciousness,', 'consider\\n', 'once.', 'drawing,', 'declaration ', 'wait ', 'longer.', 'portrait.', 'length ', 'colours,', 'destined,', 'honourable ', 'mantelpiece.', 'began;', 'blushing,', 'afraid\\n', 'keeping ', 'attitude ', 'presented ', 'sweet\\n', 'mixture ', 'expression ', 'eyes ', 'artist.', 'fidgeting ', 'behind\\n', 'watching ', 'touch.', 'stationing\\n', 'gaze ', 'offence;', 'request ', 'elsewhere.', 'occurred ', 'employ ', 'reading.', 'kindness\\n', 'indeed!', 'amuse ', 'part,', 'lessen\\n', 'irksomeness ', 'listened,', 'peace.', 'frequently ', 'look;', 'lover;', 'smallest ', 'intermission ', 'jump ', 'progress,', 'charmed.', 'displeased ', 'encourager,', 'admiration\\n', 'discern ', 'eye,', 'complaisance\\n', 'unexceptionable.', 'satisfactory;', 'on.', 'attitude,', 'throw ', 'height,', 'considerably ', 'elegance,', 'filling ', 'destined ', 'both-', 'memorial ', 'one,', 'both;', 'associations\\n', 'promising ', 'day;', 'ought,', 'entreated ', 'permission ', 'attending ', 'means.', 'party.', 'civilities ', 'courtesies,', 'satisfaction,', 'morrow,', 'accompanied ', 'picture,', 'rapid ', 'pleased,', 'continual ', 'raptures,', 'defended\\n', 'criticism.', 'wanted,', 'suspecting\\n', 'addressing ', 'correct,', 'eyebrows ', 'eyelashes.', 'he.', 'resemblance ', 'feature.', 'effect\\n', 'shade,', 'tall,', 'warmly ', 'tall;', 'tall.', 'onsider,', 'down-', 'presents ', 'different-', 'short ', 'idea-', 'proportions ', 'preserved,', 'roportions,', 'fore-', 'shortening.', 'pretty,', 'prettily ', 'done!', 'ust\\n', 'draws\\n', 'doors,', 'shawl\\n', 'shoulders-', 'supposed ', 'summer;', 'summer.', 'tree.', 'safe ', 'ou,', 'confess\\n', 'placing ', 'doors;', 'tree ', 'touched ', 'inimitable\\n', 'spirit!', 'ny ', 'character.', 'naivete ', 'manners-', 'admirable!', 'framed;', 'difficulties.', 'directly;', 'ondon;', 'intelligent ', 'taste\\n', 'depended ', 'on;', 'sabella,', 'doer ', 'commissions,', 'ecember,', 'stirring ', 'fogs\\n', 'ecember.', 'removed.', 'gallantry ', 'alert.', 'ight ', 'commission,', 'pleasure\\n', 'executing ', 'it!', 'ondon ', 'errand.', 'endure ', 'thought!', 'world,', 'desired ', 'repetition ', 'entreaties ', 'assurances,', 'frame,', 'directions;', 'pack ', 'ensure ', 'safety ', 'incommoding ', 'mostly ', 'fearful ', 'incommoded ', 'precious ', 'deposit!', 'tender ', 'gallant ', 'different\\n', 'suit\\n', 'exactly;', 'himself;', 'languish,', 'principal.', 'good\\n', 'second.', 'fresh ', 'occasion\\n', 'services ', 'breakfast;', 'dinner:', 'agitated,', 'hurried ', 'announcing ', 'extraordinary ', 'longing ', 'alf ', 'minute ', 'out.', 'heard,', 'got\\n', 'before,', 'finding ', 'home,', 'expected,', 'left\\n', 'parcel ', 'away;', 'opening ', 'parcel,', 'found,', 'besides ', 'two\\n', 'songs ', 'lent ', 'lizabeth ', 'copy,', 'contained ', 'direct\\n', 'it?', 'surprized\\n', 'wrote\\n', 'much-', 'fast ', 'ashamed ', 'doubtful.', 'word,', 'cried,', 'lose\\n', 'asking.', 'connect ', 'letter?', 'd ', 'rather\\n', 'would.', 'pressed.', 'read,', 'surprized.', 'expectation.', 'grammatical ', 'errors,', 'composition ', 'disgraced ', 'gentleman;', 'language,', 'unaffected,', 'sentiments ', 'conveyed ', 'writer.', 'expressed ', 'attachment,', 'liberality,', 'propriety,', 'delicacy ', 'feeling.', 'paused ', 'anxiously ', 'forced ', 'add,', 'short?', 'slowly-', 'sisters ', 'helped ', 'talking ', 'express ', 'powers,', 'certainly,', 'concise;', 'diffuse ', 'woman.', 'strongly ', 'clearly-', 'takes ', 'pen ', 'find\\n', 'words.', 'mind.', 'igorous,', 'certain ', 'point,', 'coarse.', 'returning ', 'waiting ', 'what\\n', 'do?', 'do!', 'respect?', 'regard\\n', 'course-', 'speedily.', 'say?', 'properly,', 'intelligible,', 'unequivocal;', 'doubts ', 'demurs:', 'expressions ', 'inflicting ', 'propriety ', 'requires,', 'unbidden ', 'prompted ', 'write ', 'sorrow\\n', 'disappointment.', 'refuse ', 'down.', 'ught ', 'mean?', 're ', 'that?', 'thought-', 'beg ', 'pardon,', 'mistake.', 'misunderstanding\\n', 'purport_', 'answer.', 'wording ', 'reserve ', 'continued:', 'collect.', 'not;', 'mean-', 'settle ', 'feelings.', 'notion ', 'contemplating ', 'persevered\\n', 'silence;', 'apprehend ', 'bewitching ', 'flattery\\n', 'powerful,', 'lay ', 'rule,', 'doubts_', 'accept ', 'hesitate ', \"o'\", 'directly.', 'state ', 'heart.', 'duty\\n', 'thus ', 'mean\\n', 'that-', 'up-', 'should\\n', 'hesitating-', 'safer\\n', 'perhaps.', 'o?', 'graciously,', 'advise\\n', 'prefer ', 'person;', 'hesitate?', 'blush,', 'oes ', 'occur ', 'definition?', 'deceive ', 'yourself;', 'compassion.', 'favourable.', 'nstead ', 'answering,', 'turned\\n', 'confused,', 'thoughtfully ', 'fire;', 'mechanically ', 'twisted\\n', 'regard.', 'waited ', 'result ', 'impatience,', 'hopes.', 'hesitation,', 'said-', 'myself;', 'determined,', 'mind-', 'right?', 'erfectly,', 'just\\n', 'ought.', 'hile ', 'suspense ', 'feelings\\n', 'approving.', 'this.', 'grieved ', 'marrying ', 'wavering,', 'influence;', 'visited ', 'arm.', 'ever.', 'surmised ', 'struck\\n', 'forcibly.', 'aghast.', 'dreadful!', 'escape!', 'honour ', 'ndeed,', 'severe ', 'pang ', 'you;', 'been.', 'society.', 'borne ', 'killed\\n', 'more!', 'affectionate ', 'ou_', 'banished ', 'arm!', 'confined ', 'life!', 'conceited ', 'either,', 'conscience ', 'opposing ', 'censure;', 'least,', 'natured,', 'from-', 'should-', 'visiting ', 'seen\\n', 'people-', 'manners,', 'attached\\n', 'me-', 'writing ', 'letter-', 'consideration.', 'thank ', 'parted.', 'asked,', 'attached ', 'taste ', 'pass ', 'true;', 'consolation ', 'clownish ', 'offending ', 'very.', 'cares ', 'letter;', 'companions.', 'assured ', 'difficulty ', 'advised ', 'assistance;', 'continued ', 'protest\\n', 'assistance ', 'fact ', 'formation ', 'sentence.', 'replying ', 'tendency,', 'brace ', 'decisive ', 'expressions;', 'concerned ', 'unhappy,', 'ungrateful,', 'moment,', 'written,', 'sealed,', 'sent.', 'safe.', 'low\\n', 'regrets,', 'relieved ', 'speaking ', 'bringing ', 'invited ', 'tone.', 'or,', 'were,', 'spared\\n', 'ill.', 'there;', 'happy\\n', 'happened.', 'ash\\n', 'would-', 'ash ', 'linen-', 'draper.', 'refinement ', 'teacher ', 'envy ', 'conquest\\n', 'appear ', 'eyes.', 'dark.', 'attentions ', 'certain\\n', 'tittle-', 'tattle ', 'itherto ', 'looks\\n', 'explained ', 'themselves.', 'blushed ', 'wondering\\n', 'cheering;', 'still,', 'tender-', 'hearted\\n', 'rejected ', 'softly.', 'doing-', 'absent ', 'employed,', 'lton\\n', 'original,', 'allowing ', 'ond-', 'street.', 'so!', 'modest ', 'street ', 'mounts ', 'horse ', 'solace,', 'delight.', 'opens ', 'designs ', 'introduces ', 'diffuses ', 'party ', 'prepossession.', 'animated,', 'suspicious,', 'imaginations ', 'are!', 'grew ', 'stronger.', 'slept ', 'there,', 'gradually\\n', 'getting ', 'bed-', 'appropriated ', 'judged ', 'safest ', 'kindest,', 'present.', 'obliged\\n', 'called,', 'previously ', 'persuaded ', 'defer ', 'induced ', 'both,', 'scruples\\n', 'civility,', 'purpose.', 'ceremony ', 'offering\\n', 'answers,', 'amusing ', 'contrast ', 'protracted\\n', 'apologies ', 'hesitations ', 'believe,', 'rude ', 'take\\n', 'quarter ', 'hour.', 'sun\\n', 'treat ', 'ceremony,', 'invalids ', 'privileged ', 'stranger ', 'substitute ', 'daughter.', 'entertain ', 'excuse\\n', 'turns-', 'walker,', 'pace ', 'tedious ', 'besides,', 'better.', 'fetch ', 'greatcoat\\n', 'garden ', 'off;', 'instead ', 'likewise,', 'seemingly ', 'inclined\\n', 'chat.', 'voluntary ', 'rate ', 'inclined ', 'character ', 'depends ', 'with;', 'turn ', 'hands,', 'wanting.', 'ome,', 'compliment,', 'improved ', 'cured ', 'school-', \"girl'\", 'giggle;', 'credit.', 'use;', 'bestow\\n', 'may.', 'overpower ', 'morning?', 'lmost ', 'moment.', 'than\\n', 'intended.', 'omething ', 'delay ', 'gossips!', 'iresome ', 'wretches!', 'tiresome ', 'contradiction,', 'presently ', 'smile,', 'fix ', 'places,', 'reason ', 'advantage.', 'ndeed!', 'sort?', 'sort,', 'serious!', 'thing-', 'her?', 'confidant?', 'hopes ', 'dropt ', 'hint.', 'adviser,', 'knew\\n', 'offer ', 'unexceptionable\\n', 'quarter:', 'ill,', 'desperately\\n', 'then.', 'came\\n', 'ago,', 'consult ', 'considers ', 'friends.', 'ask\\n', 'imprudent ', 'early;', 'young:', 'choice ', 'altogether;', 'her)', 'speaks ', 'purpose;', 'open,', 'judging.', 'plans,', 'proposed ', 'brother.', 'hesitation\\n', 'advising ', 'case,', 'lady ', 'too,', 'esteemed ', 'then;', 'counsellor ', 'had.', 'night\\n', 'last.', 'allow\\n', 'unlikely ', 'detained ', 'wretch.', 'herself\\n', 'artin\\n', 'yesterday?', 'absolutely ', 'inferred.', 'something,', 'yesterday-', 'wrote,', 'refused.', 'believed;', 'red ', 'displeasure,', 'tall ', 'indignation,', 'simpleton ', 'foolish ', 'about?', 'incomprehensible\\n', 'imagines ', 'onsense!', 'this?', 'madness,', 'mistaken.', 'answer!', 'clearer.', 'wrote ', 'doing.', 'did,', 'allowing)', 'wrong.', 'respectable\\n', 'admit ', 'equal;', 'address ', 'account,', 'scruples.', 'over.', 'equal!', 'exclaimed ', 'loudly ', 'warmly;', 'calmer ', 'asperity,', 'sense\\n', 'situation.', 'infatuation ', 'blinds ', 'claims,', 'birth,', 'higher ', 'natural\\n', 'whom,', 'provision\\n', 'relations.', 'boarder ', 'school.', 'information.', 'simple ', 'experience,', 'wit,', 'avail ', 'tempered,', 'beneath ', 'deserts,', 'better;', 'as\\n', 'helpmate,', 'worse.', 'willing\\n', 'trust ', 'his,', 'led\\n', 'aright ', 'now)', 'cry-', 'extreme ', 'crossed ', 'immediately\\n', \"friend'\", 'sake ', 'partiality ', 'match.', 'hat!', 'intimate\\n', 'friend!', 'marrying\\n', 'different.', 'statement\\n', 'fair.', 'claims.', 'estimated ', 'richest ', 'two,', 'undoubtedly\\n', 'sphere ', 'moves\\n', 'his.', 'degradation.', 'degradation ', 'illegitimacy ', 'ignorance,', 'married\\n', 'respectable,', 'gentleman-', 'farmer!', 'legal ', 'obody,', 'sense.', 'offence ', 'below\\n', 'level ', 'scarcely\\n', 'allowance ', 'liberal;', 'grudged\\n', 'comfort.', 'indubitable ', 'associates ', \"gentlemen'\", 'apprehend,', 'deny.', 'hoever ', 'whoever ', 'part\\n', 'plan ', 'shift ', 'can;', 'move,', 'line,', 'was_', 'chose\\n', 'distaste ', 'set,', 'ambition ', 'proceeded ', 'far,', 'disinclined ', 'feeling ', 'haphazard ', 'selfish ', 'passion.', 'farthest ', 'direct ', 'reply ', 'this\\n', 'assertion;', 'line ', 'artin;', 'claims ', 'contemptible ', 'represent ', 'slightingly.', 'aiving ', 'supposing ', 'describe ', 'possesses ', 'trivial ', 'recommendations\\n', 'ninety-', 'nine ', 'hundred;', 'philosophic ', 'subject\\n', 'supposed;', 'fall\\n', 'informed ', 'minds ', 'faces,', 'certainty ', 'admired\\n', 'sought ', 'after,', 'chusing ', 'many,', 'consequently ', 'nice.', 'claim,', 'comprehending,', 'sweetness\\n', 'humble ', 'readiness ', 'mistaken\\n', 'sex ', 'beauty,', 'highest ', 'possess.', 'abusing ', 'have,', 'etter ', 'misapply ', 'sure!', 'feeling\\n', 'exactly\\n', 'delights ', 'bewitches ', 'senses\\n', 'satisfies ', 'judgment.', 'pick ', 'chuse.', 'beginning\\n', 'known,', 'wondered ', 'first\\n', 'receives?', 'o-', 'nightley\\n', 'presently,', 'now\\n', 'perceive ', 'unfortunate ', 'puff ', 'ideas ', 'while,', 'reach ', 'anity ', 'working ', 'weak ', 'produces ', 'mischief.', 'othing ', 'lady\\n', 'expectations ', 'high.', 'offers ', 'fast,', 'girl.', 'en ', 'wives.', 'connecting ', 'themselves\\n', 'obscurity-', 'prudent ', 'disgrace ', 'involved ', 'mystery ', 'parentage ', 'revealed.', 'marry\\n', 'safe,', 'ever;', 'encourage ', 'greatly,', 'teach\\n', 'consequence\\n', 'life-', 'desperate,', 'writing-', \"master'\", 'son.', 'canvassing ', 'making\\n', 'angry.', 'letting_', 'impossible;', 'refused ', 'decidedly,', 'application.', 'abide ', 'evil\\n', 'refusal ', 'itself,', 'little;', 'bad,', 'superior,', 'tolerate ', 'altogether,', 'assistant)', 'disagreeable.', 'altered ', 'gentlemen ', 'are;', 'chance\\n', 'onsense,', 'errant ', 'talked!', 'obert\\n', 'sincerity,', 'understand.', 'unconcerned,', 'uncomfortable ', 'habitual ', 'judgment\\n', 'opposite ', 'angry ', 'unpleasant ', 'silence,', 'side ', 'weather,', 'thinking.', 'appeared ', 'loss-', 'does.', 'views ', 'secret ', 'making,', 'views,', 'projects ', 'have;', 'hint ', 'laughed ', 'disclaimed.', 'continued,', 'likely\\n', 'value ', 'income\\n', 'sentimentally,', 'act ', 'rationally.', 'goes;', 'unreserved ', 'moments,', 'animation ', 'thousand ', 'pounds ', 'apiece.', 'laughing ', 'eyes;', 'want\\n', 'doings ', 'ood ', 'abruptly.', 'vexed.', 'disappointment ', 'promoting ', 'sanction ', 'given;', 'affair,', 'provoking ', 'exceedingly.', 'indistinctness ', 'causes ', \"her'\", \"adversary'\", 'wrong,', 'materially ', 'cast ', 'down,', 'adequate ', 'restoratives.', 'staying ', 'uneasy.', 'possibility ', \"man'\", 'pleading ', 'cause,', 'ideas.', 'dread ', 'failure ', 'prominent ', 'uneasiness;', 'appeared,', 'would,', \"woman'\", 'justify.', 'considered\\n', 'pretensions)', 'observer ', 'hastily ', 'resentfully ', 'imprudent,', 'inconsiderate ', 'matters;', 'attentive ', 'otherwise ', 'war ', 'motives.', 'passion,', 'effects;', 'overcoming ', 'prudence ', 'originally ', 'suggest;', 'reasonable,', 'prudence,', 'belong ', 'hers:', 'attend\\n', 'sick ', 'yesterday ', 'layton ', 'ark,', 'met\\n', 'surprize,', 'road ', 'whist-', 'club ', 'night,', 'before;', 'remonstrated ', 'shabby ', 'player,', 'off\\n', 'journey ', 'do;', 'particular_', 'world;', 'enviable ', 'bearer ', 'exceedingly ', 'precious.', 'lady_', 'conscious ', 'rode ', 'spirits.', 'significantly ', 'prefer,', 'luckiest ', 'doubt,', 'agreeableness.', 'X', 'quarrel\\n', 'displeased,', 'again;', 'meet,', 'forgiven.', 'repent.', 'plans ', 'proceedings\\n', 'justified ', 'endeared ', 'general\\n', 'appearances ', 'icture,', 'elegantly ', 'framed,', 'hand ', 'return,', 'mantelpiece ', 'common\\n', 'sitting-', 'sighed ', 'sentences\\n', 'ought;', 'visibly ', 'youth ', 'admitted.', 'perfectly\\n', 'remembered,', 'furnished ', 'utmost ', 'latter.', 'improving ', 'chapters,', 'intention ', 'easier ', 'chat ', 'study;', 'pleasanter ', 'let\\n', 'imagination ', 'range ', 'labouring ', 'enlarge ', 'comprehension ', 'sober ', 'facts;', 'literary ', 'pursuit ', 'mental ', 'provision ', 'collecting ', 'transcribing ', 'riddles ', 'quarto ', 'hot-', 'pressed ', 'paper,', 'ornamented ', 'ciphers ', 'trophies.', 'literature,', 'collections ', 'grand ', 'scale\\n', 'uncommon.', 'head-', 'taken\\n', 'assisted ', 'invention,', 'taste;', 'order,', 'form\\n', 'quantity.', 'girls,', 'recollect ', 'worth ', 'putting ', 'in.', 'young-', 'them!', 'ended ', 'itty,', 'frozen ', 'maid.', 'riddle ', 'kind;', 'watch,', 'about\\n', 'intellects ', 'requisition.', 'asked.', 'invited\\n', 'contribute ', 'enigmas,', 'charades,', 'conundrums\\n', 'recollect;', 'intently ', 'recollections;', 'perceive,', 'ungallant,', 'breathe ', 'pass\\n', 'lips.', 'politest ', 'puzzles;', 'recalled,', 'sentimentally ', 'recited,', 'charade,', 'doth ', 'affliction ', 'denote,', \"destin'\", 'feel\\n', 'antidote\\n', 'soften ', 'heal.', 'transcribed ', 'pages ', 'hy ', 'she;', 'security ', 'freshness;', 'kind\\n', 'stupidest ', 'fellow!', 'oodhouse\"', 'moment-', 'inspire ', 'however ', 'inspiration.', 'piece ', 'paper ', 'containing,', 'addressed ', 'admiration,', 'collection,', 'expose ', 'degree\\n', 'deep ', 'consciousness ', 'moment:', \"moment'\", 'pause,', 'ake ', 'pushing ', 'towards\\n', 'arriet-', 'tremor,', 'touch ', 'loth ', 'examine ', 'iss-', 'displays ', 'pomp ', 'kings,', 'ords ', 'earth!', 'luxury ', 'ease.', 'nother ', 'view ', 'brings,', 'ehold ', 'monarch ', 'seas!', 'ah!', 'united,', 'reverse ', 'have!', \"an'\", 'freedom,', 'flown;', 'ord ', 'earth ', 'sea,', 'bends ', 'slave,', 'reigns ', 'alone.', 'wit ', 'supply,', 'ay ', 'approval ', 'beam ', 'pondered,', 'caught ', 'through\\n', 'certain,', 'lines,', 'then\\n', 'passing ', 'happily ', 'puzzling ', 'confusion\\n', 'dulness,', 'worse ', 'charades.', 'ourtship_', 'give\\n', 'plainly-', 'addresses ', 'pprove ', 'charade ', 'intentions ', 'exactly.', 'oft ', 'epithets,', 'justest ', 'supply.', 'umph-', 'wit!', 'wish\\n', 'benefit ', 'this;', 'convince ', 'hings ', 'crisis ', 'observations,', 'length,', 'eagerness ', 'questions.', 'oodhouse?', 'least.', 'try\\n', 'hard.', 'kingdom?', 'lady.', 'one?', 'woman?', 'eptune?', 'r ', 'trident?', 'mermaid?', 'shark?', 'shark ', 'syllable.', 'out?', 'ermaids ', 'sharks!', 'mermaid ', 'ive ', 'listen.', 'court_', 'brings;', 'ship_', 'cream.', 'courtship_', 'flown.', 'compliment!', 'follows ', 'application,', 'difficulty\\n', 'comprehending.', 'ead ', 'yourself.', 'resist ', 'persuasion.', 'concluding ', 'speak.', 'feel.', 'pointed,', 'object-', 'receive ', 'completest ', 'deceived;', 'clear;', 'clear ', 'circumstance\\n', 'natural.', 'ts ', 'eligibility ', 'equalled ', 'each\\n', 'other!', 'congratulate ', 'pride\\n', 'creating.', 'want-', 'consideration,', 'home-', 'centre ', 'close ', 'confirm ', 'alliance ', 'oodhouse!', 'embraces ', 'articulate ', 'first;', 'arrive ', 'sufficiently\\n', 'saw,', 'felt,', 'anticipated,', 'remembered\\n', 'acknowledgment.', 'deserve.', 'body!', 'opinions\\n', 'superior.', 'verses-', 'clever!', 'ould ', 'question,', 'listen ', 'certainty.', 'eceive ', 'prologue ', 'play,', 'motto ', 'chapter;', 'matter-', 'prose.', 'month ', 'myself!', 'strangest ', 'place!', 'miths ', 'ltons ', 'acquainted-', 'strange;', 'evidently,', 'desirable-', 'courts ', 'pre-', 'arrangement\\n', 'itself ', 'form.', 'belong\\n', 'respective ', 'homes.', 'direction,', 'sends ', 'channel\\n', 'flow.', 'smooth-', 'edition ', 'hakespeare ', 'passage.', 'ichaelmas!', 'handsomest ', 'nightley!', 'meal ', 'invitations ', 'days\\n', 'week.', 'hurch!', 'down\\n', 'texts ', 'preached ', 'ighbury.', 'think!', 'bbots ', 'ran ', 'front ', 'peeped ', 'by,', 'scolded ', 'staid ', 'natured.', 'looked!', 'arm-', 'arm ', 'ole.', 'whoever-', 'provided ', 'sense;', 'conduct ', 'fools.', 'happily_', 'amiable\\n', 'chosen\\n', 'accomplished;', 'should,', 'phrase,', 'well_', 'rise ', 'satisfy ', 'true.', 'nicely ', 'talk;', 'clever\\n', 'charade!', 'studied ', 'twelvemonth,', 'skill,', 'declining\\n', 'yesterday.', 'exception,', 'read.', 'certainly.', 'favour.', 'short.', 'intent ', 'hear.', 'satisfactory\\n', 'comparisons ', 'presently-', 'cheeks ', 'glow-', 'else,', 'write\\n', 'verses ', 'charades ', 'spirited ', 'rejection ', 'lines!', 'eave ', 'nonsense\\n', 'committed.', 'our\\n', 'beaming.', 'rust ', 'book!', 'book.', 'are\"', 'ranted;', 'private ', 'enjoyment;', 'private\\n', 'enjoyment ', 'divide ', 'couplet ', 'change.', 'appropriation_', 'ceases,', 'remains,', 'fit ', 'collection.', 'slighted,', 'poet ', 'capacities,', 'neither.', 'book,', 'submitted,', 'parts,', 'offering ', 'publicity.', 'she.', 'feeling;', 'lasts,', 'pleased.', 'coming:', 'pleasure!', 'pays ', 'compliment.', 'tenderest ', 'all!', 'grave.', 'refine ', 'charade.', 'betray ', 'improperly,', 'are\\n', 'quick,', 'affix ', 'affixed ', 'overpowered ', 'tribute ', 'secrecy,', 'paper\\n', 'by;', 'pushed ', 'encouragement\\n', 'proceed,', 'souls ', 'ridiculous ', 'please.', 'recurrence ', 'inquiry ', 'dears,', 'on?', 'ave ', 'fresh?', 'fresh.', 'morning-', 'dropt,', 'fairy)', 'copied ', 'slowly ', 'distinctly,', 'explanations\\n', 'proceeded-', 'foreseen,', 'complimentary ', 'conclusion.', 'ye,', \"that'\", 'just,', 'oman,', 'fairy ', 'obody\\n', 'prettily,', 'nodded,', 'smiled.', 'thinking,', 'after!', 'things!', 'memory!', 'nothing;', 'mention;', 'stanza;', 'several.', 'maid,', 'indled ', 'flame ', 'deplore,', 'hood-', \"wink'\", 'aid,', 'hough ', 'near ', 'approach ', 'fatal ', 'suit ', 'page.', 'xtracts.', \"arrick'\", 'sabella;', 'near\\n', 'christened ', 'atherine ', 'grandmama.', 'children?', 'yes-', 'course;', 'has;', 'nursery ', 'dear-', 'here!', 'aster,', 'lawyer ', 'inconvenient.', 'sabella!', 'sadly\\n', 'comes,', 'sabella\\n', 'ut-', 'depressed ', 'tone)', 'stay ', 'case\\n', 'necessity.', 'th,', 'thankful,', 'whole\\n', 'country,', 'promises\\n', 'hristmas-', 'hard,', 'musing ', 'back\\n', 'soon,', 'persuade\\n', 'papa-', 'accomplish,', 'stay\\n', 'behind ', 'contradiction.', 'nwelcome ', 'submissive ', 'sigh;', 'spirits\\n', 'affected ', 'branch ', 'while\\n', 'pleased\\n', 'we,', 'papa?', 'handsomest,', 'ohn?', 'come.', 'boy,', 'mama.', 'eldest,', 'ohn,', 'second,', 'eldest ', 'enry,', 'clever;', 'ways.', 'chair,', 'randpapa,', 'string?', 'me\\n', 'knife,', 'knives ', 'grandpapas.', 'rough ', 'papas,', 'rough.', 'boys ', 'active ', 'hardy;', 'misbehave,', 'sharp ', 'tosses ', 'ceiling\\n', 'frightful ', 'way!', 'rule ', 'turns,', 'whichever ', 'cannot\\n', 'ater ', 'separate\\n', 'preparation ', 'clock ', 'hero\\n', 'eye\\n', 'discerned ', 'push-', 'die;', 'ostensible ', 'reason,', 'whether\\n', 'friend\\n', 'ole ', 'dining ', 'promised ', 'conditionally ', 'thanked ', 'disappointing ', 'rubber.', 're-', 'urged-', 'declined;', 'make\\n', 'bow,', 'obliging ', 'us;', 'sight ', 'amiss ', 'hope.', 'transcribed\\n', 'lines.', 'say.', 'doubtingly-', 'confused;', 'honour,', 'glanced ', 'book\\n', 'examined ', 'attentively.', 'smilingly ', 'friend;', 'charade\\n', 'writes ', 'gallantry.', 'hesitating\\n', 'spoke;', 'saying-', 'smallest\\n', 'effusion ', 'honoured ', 'replacing ', 'table)', 'proudest ', 'soon;', 'qualities,', 'parade ', 'speeches ', 'apt\\n', 'incline ', 'laugh.', 'indulge ', 'inclination,', 'sublime ', 'share.', 'weather\\n', 'exercise;', 'charitable ', 'poor\\n', 'heir ', 'detached ', 'cottage ', 'icarage ', 'lane\\n', 'leading ', 'angles ', 'broad,', 'irregular,', 'main ', 'street\\n', 'place;', 'inferred,', 'blessed ', 'abode\\n', 'dwellings ', 'passed,', 'lane ', 'rose ', 'icarage,', 'smartened ', 'proprietor;', 'slackened ', 'observing ', 'remark ', 'riddle-', 'house!', 'beautiful!', 'yellow\\n', 'curtains ', 'admires ', 'now_', 'proceeded,', 'inducement,', 'gradually ', 'get\\n', 'intimately ', 'hedges,', 'gates,', 'pools ', 'pollards\\n', 'extreme,', 'considering ', 'exteriors\\n', 'probabilities,', 'class ', 'contrive ', 'pretence ', 'in;', 'servant ', 'housekeeper-', 'message ', 'silence\\n', 'minutes,', 'again-', 'wonder,', 'married!', 'laughed,', 'charming,', 'induce ', 'charming-', 'only,', 'say;', 'yet,', 'tempted;', 'recollecting ', 'question:', 'not_', 'person.', 'tempted.', 'inducements ', 'fall ', 'love;', 'nature;', 'shall.', 'nd,', 'fool ', 'ortune ', 'want;', 'want:', \"husband'\", 'artfield;', 'never,', 'expect\\n', 'important;', 'ates!', 'formidable ', 'image ', 'silly-', 'satisfied-', 'smiling-', 'prosing-', 'undistinguishing ', 'unfastidious-', 'apt ', 'relative ', 'unmarried.', 'maid!', 'maid;', 'poverty ', 'celibacy ', 'public!', 'narrow ', 'ridiculous,', 'sport ', 'distinction ', 'candour ', 'tendency ', 'contract ', 'sour ', 'temper.', 'barely ', 'live,', 'perforce ', 'inferior,', 'illiberal ', 'cross.', 'apply,', 'ates;', 'natured ', 'poor.', 'overty ', 'contracted ', 'mind:', 'shilling ', 'sixpence ', 'her:', 'charm.', 'old?', 'resources;', \"oman'\", 'occupations ', 'now;', 'variation.', 'more;', 'music,', 'carpet-', 'work.', 'objects ', 'affections,', 'truth ', 'inferiority,', 'avoided ', 'probability,', 'supply ', 'sensation ', 'declining ', 'need.', 'fear;', 'parent,', 'suits ', 'ideas\\n', 'warmer ', 'blinder.', 'nephews\\n', 'nieces!', 'niece ', \"ates'\", 'niece?', 'times-', 'acquainted?', 'yes;', 'comes\\n', 'bye,', 'out\\n', 'niece.', 'eaven ', 'forbid!', 'nightleys ', 'airfax.', 'send ', 'pattern ', 'stomacher,', 'knit ', 'pair\\n', 'garters ', 'grandmother,', 'month.', 'airfax ', 'tires ', 'death.', 'approaching ', 'cottage,', 'topics\\n', 'superseded.', 'compassionate;', 'distresses\\n', 'relief ', 'attention\\n', 'counsel ', 'purse.', 'temptations,', 'romantic ', 'extraordinary\\n', 'virtue ', 'troubles ', 'sympathy,', 'assistance\\n', 'intelligence ', 'sickness ', 'remaining ', 'impression ', 'scene\\n', 'sights,', 'trifling ', 'appear!', 'creatures ', 'vanish ', 'mind?', 'creatures!', 'hedge,', 'tottering ', 'footstep\\n', 'narrow,', 'slippery ', 'path ', 'stopping ', 'wretchedness ', 'recall ', 'within.', 'bend;', 'bend\\n', 'sight;', 'farther,', 'trial ', 'stability\\n', 'thoughts.', 'compassion ', 'exertion ', 'sufferers,', 'wretched,', 'empty ', 'distressing ', 'ourselves.', 'joined ', 'sufferings ', 'meeting.', 'call\\n', 'defer;', 'parley ', 'accompany ', 'errand ', 'scheme;', 'increase\\n', 'side.', 'declaration.', 'nxious ', 'footpath,', 'raised\\n', 'lane,', 'imitation ', 'stopped,', 'alteration\\n', 'lacing ', 'boot,', 'stooping ', 'begged ', 'goodness ', 'minute.', 'desired;', 'farther ', 'overtaken\\n', 'setting ', 'orders,', 'pitcher,', 'broth ', 'side\\n', 'acting ', 'design;', 'ahead,', 'obligation ', 'involuntarily:', \"child'\", 'theirs ', 'slow;', 'conversation ', 'listening ', 'attention;', 'both\\n', 'around,', 'join ', 'talking,', 'detail;', 'experienced ', \"yesterday'\", \"ole'\", 'tilton ', 'cheese,', 'north ', 'iltshire,', 'butter,', 'cellery,', 'beet-', 'root,', 'dessert.', 'consoling ', 'reflection;', 'interests ', 'serve ', 'away!', 'quietly,', 'vicarage\\n', 'pales,', 'resolution,', 'arrange ', 'broke ', 'lace\\n', 'dexterously ', 'throwing ', 'ditch,', 'presently\\n', 'stop,', 'acknowledged ', 'inability ', 'rights ', 'lace ', 'contrive.', 'equipped.', 'beg\\n', 'stop ', 'housekeeper ', 'bit\\n', 'ribband ', 'string,', 'boot ', 'proposition;', 'exceed ', 'alertness ', 'conducting ', 'occupied,', 'forwards;', 'communicated;', 'passed\\n', 'manner.', 'ajar ', 'fully ', 'intended ', 'closed,', 'ajar;', 'engaging\\n', 'incessant ', 'practicable ', 'room.', 'protracted ', 'appearance.', 'lovers ', 'windows.', 'aspect;', 'minute,', 'glory\\n', 'schemed ', 'successfully.', 'point.', 'agreeable,', 'delightful;', 'purposely\\n', 'gallantries ', 'allusions ', 'serious.', 'autious,', 'cautious,', 'advances ', 'inch ', 'inch,', 'hazard ', 'believes ', 'secure.', 'till,', 'accomplished\\n', 'ingenious ', 'device,', 'event.', 'superintend ', 'quicken ', 'measures.', 'anticipation,', 'reality,', 'henceforth\\n', 'prime ', 'during ', 'expected-', 'expect-', 'occasional,', 'fortuitous ', 'lovers.', 'advance ', 'rapidly\\n', 'however;', 'somehow ', 'no.', 'usual\\n', 'urry,', 'exciting ', 'interest.', 'vacation ', 'bbey;', 'holidays ', 'autumn ', 'sea-', 'bathing\\n', 'urry ', 'connexions,', 'sake;', 'nervously ', 'apprehensively ', 'forestalling ', 'evils ', 'fatigues ', 'coachman ', 'alarms\\n', 'needless;', 'accomplished,', 'five ', 'competent\\n', 'number ', 'nursery-', 'maids,', 'reaching ', 'safety.', 'bustle ', 'arrival,', 'welcomed,', 'encouraged,', 'variously ', 'dispersed ', 'noise ', 'confusion ', 'borne\\n', 'endured ', 'respected ', 'maternal\\n', 'solicitude ', 'ones,', 'instantly ', 'attendance,', 'drinking,', 'playing,', 'delay,', 'disturbance ', 'restless ', 'attendance ', 'affectionate;', 'wrapt ', 'family;', 'doating ', 'tenderly ', 'ties,', 'impossible.', 'woman\\n', 'quickness;', 'resemblance\\n', 'inherited ', 'also ', 'constitution;', 'delicate ', 'over-', 'fears ', 'nerves,', 'ingfield\\n', 'erry.', 'alike ', 'benevolence ', 'habit ', 'like,', 'profession,', 'reserved ', 'prevented ', 'pleasing;', 'capable ', 'humour.', 'tempered ', 'unreasonably ', 'reproach;', 'perfection;', 'worshipping ', 'defects ', 'increased.', 'clearness ', 'quickness ', 'ungracious,', 'sister-', 'law.', 'othing\\n', 'escaped ', 'injuries ', 'flattering ', 'calmly\\n', 'blindness;', 'regardless ', 'sometimes\\n', 'into,', 'forbearance ', 'patience ', 'peculiarities ', 'fidgetiness ', 'provoking\\n', 'remonstrance ', 'retort ', 'bestowed.', 'happen;', 'law,', 'charity,', 'endured,', 'beginning,', 'displayed ', 'properest ', 'necessity\\n', 'unsullied ', 'cordiality.', 'seated ', 'shake ', 'grievous ', 'too!', 'dreadful ', 'both!', 'hope\\n', 'retty ', 'hope-', 'know\\n', 'agrees ', 'tolerably.', 'quietly ', 'apa ', 'regret.', 'reply.', 'often?', 'plaintive ', 'tone ', 'hesitated.', 'wish.', 'missed ', 'since\\n', 'ither ', 'excepting ', 'here-', 'very,', 'visits.', 'apa,', 'giving\\n', 'false ', 'missed,', 'assured\\n', 'extent ', 'ourselves ', 'anticipated-', 'exact ', 'ust ', 'letters.', 'doubted,', 'disengaged ', 'idea\\n', 'apprehended;', 'satisfied.', 'oodhouse-', 'certainly-', 'deny\\n', 'often-', 'then-', 'forget ', 'pleasantly,', 'claim.', 'strike ', 'force.', 'convenience\\n', 'aside ', 'e,', 'advocate ', 'matrimony ', 'am;', 'misery ', 'slighting ', 'existed.', 'xcepting ', 'flying ', \"enry'\", 'kite ', 'windy ', 'aster-', 'kindness ', 'eptember\\n', 'twelvemonth ', 'note,', 'twelve ', 'scarlet ', 'fever ', 'obham,', 'nor\\n', 'existence.', 'man?', 'occasion-', 'not?', 'strong\\n', 'expectation ', 'ended\\n', 'lately.', 'proper,', 'hether ', 'uncle,', 'perhaps-', 'three-', 'passes.', 'hree-', 'twenty!', 'mother!', 'fly ', 'exceeding ', 'good,', 'eymouth,', 'dated ', 'ept.', 'th-', 'began,', 'adam,', 'forget\\n', 'signed ', 'hurchill.', 'perfectly.', 'father!', 'parents ', 'home!', 'child!', 'fancy,', 'coolly.', 'imagine\\n', 'enry\\n', 'ohn.', 'easy,', 'feelings;', 'finds ', 'depending,', 'suspect,', 'comforts,', 'playing ', 'whist ', 'week,', 'affords.', 'bordered ', 'up;', 'struggled,', 'peace ', 'possible;', 'habits,', 'all-', 'sufficiency ', 'whence ', 'resulted ', 'intercourse,', 'forbearance.', 'inclination\\n', 'consideration ', 'late\\n', 'disagreement ', 'procuring ', 'invitation.', 'aking-', 'certainly\\n', 'oncession ', 'question;', 'appear\\n', 'quarrelled;', 'assist ', 'restoration ', 'friendship,', 'room\\n', 'youngest,', 'nice ', 'girl\\n', 'danced ', \"aunt'\", 'arms.', 'assist;', 'questions,', 'child\\n', 'arms ', 'unceremoniousness ', 'amity.', 'sauciness,', 'baby,', 'nephews ', 'nieces.', 'women,', 'different;', 'disagree.', 'estimate ', 'men\\n', 'whim ', 'dealings ', 'alike.', 'sure-', 'discordancies ', 'born.', 'replied-', 'lives;', 'lapse ', 'understandings\\n', 'nearer?', 'es-', 'nearer_', 'chance ', 'differently.', 'child.', 'aunt,', 'example ', 'renewing\\n', 'grievances,', 'cried-', 'ittle ', 'aunt.', 'cleverer ', 'conceited.', 'both_', 'effects ', 'argument ', 'bitterly ', 'disappointed.', 'ndeed ', 'sorry.', 'cordiality,', 'appearance,', \"d'\", 'ye ', 'eorge?', 'succeeded ', 'nglish ', 'burying ', 'under\\n', 'calmness ', 'indifference,', 'requisite,', 'conversable,', 'declined\\n', 'cards ', 'divisions;', 'daughter;', 'nightleys;', 'subjects ', 'distinct,', 'rarely ', 'mixing-', 'occasionally ', 'concerns ', 'pursuits,', 'principally\\n', 'elder,', 'communicative,', 'talker.', 'magistrate,', 'law ', 'about,', 'curious ', 'anecdote ', 'give;', 'hand\\n', 'farm ', 'onwell,', 'field ', 'bear\\n', 'local ', 'fail\\n', 'longest ', 'attachments ', 'strong.', 'drain,', 'fence,', 'felling ', 'tree,', 'destination ', 'acre ', 'wheat,', 'turnips,', 'spring ', 'corn,', 'equality ', 'cooler ', 'rendered ', 'ever\\n', 'approached\\n', 'eagerness.', 'enjoying\\n', 'interrupting,', 'labours ', 'children-', 'terribly ', 'tired ', 'journey!', 'bed ', 'early,', 'go.', 'gruel.', 'unpersuadable ', 'article\\n', 'basins ', 'ordered.', 'discourse ', 'gruel,', 'reflection,', 'business,', 'autumn\\n', 'outh ', 'opinion\\n', 'sea ', 'ingfield ', 'strenuously ', 'sir-', 'weakness ', \"ella'\", 'throat,', 'bathing.', 'convinced,', 'killed ', 'come,', 'unsafe ', 'sea.', 'envious ', 'miserable;', 'prohibited,', 'yet;', 'forgets ', 'erry-', 'sir?', 'bilious,', 'himself-', 'tells ', 'sad-', 'practice ', 'anywhere.', 'where.', 'they?', 'grow?', 'calling ', 'ones.', 'consequence.', 'throat.', 'throat ', 'hardly\\n', 'uneasiness ', 'bathing ', 'greatest\\n', 'attributed ', 'excellent\\n', 'embrocation ', \"ingfield'\", 'applying\\n', 'ugust.', 'embrocation,', 'ateses-', 'myself-', 'mention ', 'ates-', 'people!', 'they,', 'ates\\n', 'ago.', 'am!', 'colds ', 'prevalent ', 'autumn.', 'them\\n', 'heavy-', 'influenza.', 'dear;', 'mention.', 'heavy ', 'ovember.', 'sickly ', 'season.', 'except-', 'healthy ', 'there!', 'off!', 'bad!', 'we_', 'ur ', 'others!', 'confound ', 'ondon\\n', 'neighbourhood ', 'quare\\n', 'airy!', 'unwilling,', 'town;', 'in:', 'thinks\\n', 'vicinity ', 'quare ', 'creatures;', 'sir;', 'those\\n', 'aches ', 'palpitations ', 'entirely\\n', 'anywhere,', 'pale ', 'bed,', 'coming.', 'morrow;', 'trust,', 'turning ', 'anxiety ', 'iddling,', 'matter,', 'find,', 'fatigued.', 'wished,', 'hastily-', 'concern\\n', 'looks.', 'doctoring ', 'coddling\\n', \"raham'\", 'intending ', 'bailiff\\n', 'cotland,', 'estate.', 'answer?', 'prejudice ', 'strong?', 'successfully ', 'forced\\n', 'airfax;', 'airfax,', 'praising.', 'airfax!', 'moment\\n', 'accidentally ', 'town!', 'old\\n', 'grandmother ', 'excessively ', 'ighbury;', 'olonel ', 'ampbell ', 'another\\n', 'accomplished ', 'superior!', 'topic ', 'discussed ', 'happily,', 'similar ', 'harmony;', 'agitation.', 'comments-', 'undoubting ', 'wholesomeness ', 'constitution,', 'hilippics ', 'houses ', 'tolerable;', 'unfortunately,', 'failures\\n', 'recent,', 'prominent,', 'cook ', 'hired ', 'smooth ', 'thin,', 'thin.', 'ften ', 'ordered ', 'tolerable.', 'dangerous ', 'shaking ', 'fixing ', 'ejaculation ', 'expressed,', 'consequences ', 'nd.', 'silent ', 'rumination\\n', 'suffice ', 'restore ', 'relish ', 'interval ', 'autumn,', 'children\\n', 'moreover,', 'unhealthy ', 'mistake,', 'mud;', 'mistake ', 'unhealthy;', 'understands\\n', 'repeatedly.', 'romer,', 'romer ', 'holds ', 'places.', 'says,', 'pure ', 'understand,', 'lodgings ', 'off-', 'comfortable.', 'consulted ', 'journey;', 'how\\n', 'miles,', 'forty.', 'stake,', 'else\\n', 'considered;', 'travel,', 'hundred.', 'move ', 'travel ', 'measure.', 'vain;', 'reached ', 'brother-', \"law'\", 'breaking ', 'coast ', 'another?', 'allowed,', 'directions ', 'drugs.', 'paused-', 'sarcastic ', 'dryness,', 'convey ', 'expense\\n', 'forty,', 'rue,', 'interposition-', 'moving ', 'angham,', 'turning\\n', 'cut ', 'meadows,', 'conceive ', 'difficulty.', 'path.', 'proving ', 'maps.', 'morrow ', 'opinion.', 'agitated ', 'harsh ', 'reflections ', 'unconsciously,', 'attributing ', 'soothing ', 'removed\\n', 'evil,', 'recollections ', 'renewal ', 'morning\\n', 'otherwise,', 'swiftly.', 'perfect,', 'mornings;', 'dinner ', 'engagement,', 'avoiding,', 'hristmas.', 'denial;', 'andalls\\n', 'possible\\n', 'preference ', 'division ', 'conveyed,', 'horses\\n', 'head;', 'amounted ', 'doubt;', 'occupy ', 'carriages ', 'also.', 'especial ', 'numbers ', 'few;', 'event\\n', '4', 'ecember)', 'indisposed\\n', 'cold,', 'earnest ', 'nursed\\n', 'house.', 'doom ', 'signed\\n', 'feverish ', 'bad\\n', 'sore ', 'throat:', 'resist\\n', 'excluded ', 'tears.', 'attend ', 'unavoidable ', 'absences,', 'representing ', 'state;', 'comfortless ', 'advanced ', 'door,', 'invalid-', 'illness,', 'going\\n', 'inquire,', 'carry ', 'artfield-', 'overtaken ', 'boys,', 'healthy,', 'glowing ', 'run,', 'seemed\\n', 'despatch ', 'roast ', 'mutton ', 'rice ', 'pudding ', 'hastening ', 'describing ', 'complaint;', 'inflamed,', 'heat ', 'pulse,', '&', 'c.', 'oddard\\n', 'liable ', 'sore-', 'throats,', 'often\\n', 'alarmed ', 'alarm ', 'occasion,', 'throat!', 'infectious.', 'putrid\\n', 'infectious ', 'sort.', 'run\\n', 'risks.', 'tranquillised ', 'excess ', 'assurances ', 'experience\\n', 'care;', 'remain ', 'uneasiness\\n', 'feed ', 'afterwards-', 'cold-', 'snow,', 'party,', 'venturing;', 'interfere,', 'hoarse ', 'already,', 'demand ', 'bring,', 'make;', 'previous ', 'conceptions\\n', 'impartially,', 'vision,', 'muttering ', 'acknowledgment ', 'rejoicing ', 'extricated ', 'power\\n', 'apologies\\n', 'spoken,', 'civilly\\n', 'weather ', 'objection,', 'accepting ', 'prompt ', 'satisfaction.', 'go,', 'broad ', 'moment;', 'smile ', 'stronger,', 'eyes\\n', 'exulting ', 'strange!', 'behind!', 'ost ', 'men,', 'inclination-', 'out-', 'engagement ', 'pleasures,', 'employments,', 'dignities,', 'duties,', 'valuable,', 'amiable,', 'undoubtedly,', 'invitation,', 'is!', 'oon ', 'sentiment\\n', 'naming ', 'parting;', 'assuring ', 'news ', 'prepared\\n', 'report;', 'balance ', 'silence ', 'with-', 'downright ', 'concerned.', 'please,', 'works.', 'overlook,', 'overlook\\n', 'deal.', 'moderate ', 'negligent ', 'superiority.', 'value.', 'slyness,', 'e!', 'astonishment,', 'imagining\\n', 'object?', 'regulate ', 'behaviour ', 'accordingly.', 'encouraging.', 'ascertain ', 'blunders ', 'mistakes\\n', 'pretensions ', 'into;', 'imagining ', 'blind\\n', 'counsel.', 'increasing ', 'coldness,', 'shrinking ', 'punctually\\n', 'apparent\\n', 'others;', 'full\\n', 'going,', 'severe;', 'carriage\\n', 'motion,', 'flakes ', 'snow ', 'sky ', 'overcharged ', 'milder ', 'white ', 'happiest ', 'preparing ', 'abroad ', 'sacrifice\\n', 'disagreeables ', 'like;', 'anticipated\\n', 'purchase;', 'drive ', 'expressing ', 'discontent.', 'fireside,', 'encounter ', 'fellow;', 'absurdity-', 'ctually ', 'snowing ', 'moment!', 'folly ', \"people'\", 'can!', 'duty ', 'deem ', 'thinner ', 'clothing ', 'forward\\n', 'voluntarily,', 'excuse,', 'defiance ', 'shelter ', 'dull ', 'oing ', 'dismal ', 'worse;', 'servants ', 'idle,', 'shivering ', 'colder ', 'rooms ', 'assent,', 'receiving,', 'emulate ', 'usually ', 'administered ', 'travelling ', 'refrain ', 'answer\\n', 'complying,', 'quarrelsome;', 'heroism ', 'silence.', 'talk,', 'arranged ', 'glasses,', 'wrapped ', 'opening\\n', 'arrived,', 'turned,', 'step ', 'spruce,', 'black,', 'instantly.', 'cheerfulness;', 'cheerful\\n', 'dressing,', 'same-', 'y_', 'hoped-', \"better'\", 'my_', 'lengthened ', 'immediately;', 'voice\\n', 'answered.', 'find-', 'dress,', 'concerned-', 'flattered ', 'cordial\\n', 'morning.', 'answered-', 'complaint,', 'hope;', 'throat;', 'heard.', 'imagined-', 'is-', 'not-', 'complaints,', 'morrow\\n', 'report.', 'uneasiness.', 'day!', 'readful!', 'proper;', 'estimable;', 'lasted ', 'dismay ', 'enjoyment.', 'sheepskin\\n', 'carriages.', 'precautions.', 'contrivances ', 'modern ', 'complete.', 'fenced ', 'guarded ', 'breath\\n', 'unpermitted.', 'eather ', 'becomes ', 'absolutely\\n', 'afternoon-', 'matter.', 'a!', 'snows ', 'uite ', 'seasonable;', 'extremely ', 'ground;', 'meetings.', 'hristmas\\n', 'invites ', 'weather.', 'snowed ', 'pleasanter.', \"se'\", 'nnight.', 'coolly,', 'astonished ', 'fires,', 'harming ', 'eston;', 'values,', 'hospitable,', 'select,', 'any.', 'dining-', 'accommodate ', 'comfortably;', 'rather,', 'soft\\n', 'parties\\n', 'enter ', 'dine\\n', 'pity,', 'slavery.', 'paid ', 'sweep-', 'gate,', 'countenance ', 'compose ', 'joyous ', 'looks,', 'disperse ', 'prompted,', 'real\\n', 'estons.', 'favourite,', 'unreserve,', 'related\\n', 'listened ', 'understood,', 'affairs,', 'arrangements,', 'perplexities,', 'lively ', 'concern;', 'uninterrupted ', 'communication\\n', 'matters ', 'depends,', 'gratifications ', 'each.', 'afford,', 'touch,', 'oddities,', 'unpleasant,', 'enjoy ', 'enjoyable ', 'utmost.', 'arrival.', 'history ', 'coming,', 'follow,', 'indeed\\n', 'engrossed ', 'project ', 'driving ', 'strange\\n', 'insensibility ', 'sat\\n', 'elbow,', 'continually ', 'obtruding ', 'countenance\\n', 'notice,', 'solicitously ', 'avoid ', 'internal ', 'suggestion ', 'brother\\n', 'imagined?', 'transfer\\n', 'affections ', 'bsurd ', 'insufferable!', 'warm,', 'zeal\\n', 'lover,', 'effort ', 'preserve ', 'rude;', 'positively ', 'civil;', 'effort;', 'amongst\\n', 'overpowering ', 'son;', 'words ', 'syllables\\n', 'suspected ', 'reviving ', 'awkward.', 'were_', 'condition.', 'families,', 'persuaded;', 'replete ', 'degree,', 'coupled ', \"friends'\", 'imaginations.', 'sensations,', 'timed;', 'appearing ', 'polite,', 'cross-', 'substance ', 'proved;', 'released ', 'cares\\n', 'hospitality,', 'saddle ', 'mutton,', 'number.', 'son-', 'rank.', 'fortnight.', 'assented\\n', 'proposition ', 'eptember:', 'please\\n', 'ourselves)', 'sacrifices.', 'anuary.', 'put-', 'off.', 'do:', 'ourselves:', 'syllable ', 'secrets ', 'know)', 'nscombe ', 'anuary;', \"rank'\", 'stir.', 'consequence,', 'nscombe,', 'to:', 'invite ', 'or\\n', 'issue.', 'confident\\n', 'anuary,', 'myself:', 'nodding\\n', 'vagaries ', 'calculate ', 'effects,', 'practice\\n', 'knowledge;', 'woman!', 'capable\\n', 'herself:', 'way-', 'whims ', 'caprices,', 'likes)', 'affection;', 'stone ', 'general;', 'devil ', 'room:', 'wishing ', 'joy-', 'observing,', 'alarming.', 'undergoing ', 'meeting\\n', 'of:', 'sanguine ', 'stands?', 'humour\\n', 'mma!', 'certainty\\n', 'caprice?', 'before-', 'thinks.', 'you-', 'daughters-', 'rules ', 'odd-', 'spare ', 'hurchill;', 'sabella:', 'living\\n', 'dreadful.', 'life\\n', 'misery.', 'blessing,', 'children!', 'creatures,', 'more:', 'unreserve\\n', 'hurchills\\n', 'instinctive ', 'knowledge.', 'sitting\\n', 'confinement ', 'endure.', 'wine ', 'gladly ', 'opportunity\\n', 'certain.', 'es;', 'apprehensive ', 'delays.', 'raithwaites,', \"hurchills'\", 'jealousy.', 'jealous ', 'sanguine.', 'couple\\n', 'come;', 'woman_', 'teazed,', 'distance\\n', 'man_', 'restraint,', 'decides ', 'caution,', 'individual ', 'rules:', 'unreasonable;', 'nephew:', 'favourite.', 'sacrifice ', 'owes ', 'exercises ', 'nephew,', 'pretend,', 'it:', 'having,', 'when_', 'coolly ', 'comes.', 'points,', 'little:', 'those,', 'reach,', 'tea;', 'home;', 'three\\n', 'companions ', 'lateness\\n', 'hour,', 'appeared.', 'chatty ', 'convivial,', 'separations ', 'sort;', 'augmentation.', 'sofa.', 'joined\\n', 'immediately,', 'mind\\n', 'improprieties,', 'listen\\n', 'professed ', 'friend-', 'lovely,', 'know?', 'anxiety-', 'complaint ', 'considerably.', 'talked\\n', 'awake ', 'terror ', 'charity ', 'perverse ', 'turn;', 'escape ', 'infection,', 'infection ', 'complaint.', 'began\\n', 'earnestness ', 'visiting\\n', 'sick-', 'chamber ', 'present-', 'promise_', 'learnt ', 'opinion;', 'laugh ', 'appear-', 'concealing ', 'pretence\\n', 'inconstancy,', 'abominable!', 'behaving ', 'implore\\n', 'assistance,', 'support?', 'persuasions ', 'go\\n', 'disorder\\n', 'infection?', 'promise-', 'scrupulous ', 'careless\\n', 'herself!', 'nurse ', 'catching ', 'ulcerated\\n', 'udge ', 'complain?', 'support\\n', 'aid.', 'great,', 'assuming ', 'provoked ', 'offended ', 'directly\\n', 'removing ', 'attention.', 'reproof,', 'succeed;', 'examining ', 'opened ', 'ground ', 'covered ', 'drifting ', 'wind;', 'oodhouse:', 'prove ', 'engagements,', 'storm ', 'snow.', 'consternation;', 'ask,', 'offer.', 'pursuing ', 'unfeelingly.', 'venturing\\n', 'snow\\n', 'spirit;', \"two'\", 'impassable;', 'carriages;', 'blown ', 'bleak ', 'hand.', 'midnight.', 'confessing ', 'lest ', 'uncomfortable,', 'hurrying ', 'fallen\\n', 'impede ', 'mere ', 'joke;', 'impassable,', 'andalls;', 'accommodation ', 'contrivance,', 'lodged,', 'mma?', 'done?', 'exclamation,', 'assurances\\n', 'safety,', 'representation ', 'horses,', 'revived ', 'blocked ', 'imagination;', 'adventurous ', 'settled,', 'remain\\n', 'accumulations ', 'drifted ', 'along,', 'afraid.', 'shoes,', 'alk ', 'shod\\n', 'plan.', 'approve.', 'discussing ', 'doors ', 'examine,', 'hence.', 'along ', 'road-', 'nowhere ', 'half\\n', 'deep-', 'places ', 'whiten ', 'clouds ', 'parting,', 'coachmen,', 'apprehend.', 'tidings ', 'ease ', 'nervous\\n', 'allowed;', 'appeased ', 'continued\\n', 'safe\\n', 'stay;', 'urging ', 'recommending,', 'brief ', 'sentences:', 'thus-', 'easy;', 'go?', 'hall ', 'ring ', 'bell?', 'bell ', 'rung,', 'few\\n', 'companion\\n', 'deposited ', 'cool,', 'other\\n', 'recover ', 'came:', 'occasions,', 'carefully ', 'some\\n', 'fallen,', 'discovery ', 'darker ', 'prepared ', 'drive.', 'behind.', 'could;', 'carriage.', 'stept ', 'naturally;', 'escorted ', 'second\\n', 'lawfully ', 'shut ', 'tete-', 'a-', 'tete ', 'suspicions ', 'quarters ', 'drinking ', 'wine,', 'nonsense.', 'restrain ', 'gravity\\n', 'begun,', 'gate ', 'seized-', 'demanded,', 'violent ', 'availing ', 'opportunity,', 'declaring ', 'already\\n', 'hoping-', 'fearing-', 'adoring-', 'die ', 'ardent ', 'unequalled\\n', 'unexampled ', 'fail ', 'effect,', 'resolved ', 'seriously ', 'ithout ', 'scruple-', 'apology-', 'apparent ', 'diffidence,', 'lover ', 'professing ', 'vainly;', 'ngry ', 'resolve ', 'drunkenness,', 'ccordingly,', 'playful,', 'astonished,', 'me_', '!', 'yourself-', 'deliver;', 'mith!', 'mean!', 'accent,', 'boastful\\n', 'amazement,', 'conduct!', 'account\\n', 'ommand ', 'drunk ', 'elevate ', 'confuse ', 'intellects.', 'protested ', 'suspicion ', 'injurious,', 'slightly ', 'acknowledging ', 'mentioned\\n', 'resumed ', 'urgent ', 'inebriety,', 'inconstancy\\n', 'presumption;', 'fewer ', 'struggles ', 'politeness,', 'clear.', 'astonishment ', 'express.', 'behaviour,', 'witnessed\\n', 'month,', 'observing-', 'manner-', 'unsteadiness ', 'possible!', 'elieve ', 'professions.', 'eaven!', 'course\\n', 'existence-', 'attentions,', 'friend:', 'dead ', 'alive,', 'misled ', 'sorry-', 'near!', 'protest ', 'past,', 'sole ', 'marking ', 'adoration ', 'seriously,', 'o!', 'accent ', 'insinuating)', 'this-', 'sensations ', 'uppermost.', 'reply:', 'encouragement ', 'joyously ', 'exclaimed-', 'interpret ', 'confesses ', 'error\\n', 'feelings-', 'wishes-', 'pursuit,', 'success:', 'attraction ', 'visits\\n', 'frequent.', 'm ', 'mith?', 'madam,', 'affronted ', 'turn:', 'respectably ', 'settled.', 'well:', 'level:', 'despair\\n', 'alliance,', 'only;', 'received-', 'ncouragement!', 'encouragement!', 'ir,', 'admirer\\n', 'sorry:', 'ends ', 'misconception ', 'views;', 'aware,', 'probably,', 'inequality ', 'single,', 'lasting.', 'word;', 'decided\\n', 'supplication;', 'swelling ', 'resentment,', 'mortification,', 'foot-', 'pace.', 'desperate ', 'awkwardness;', 'straightforward ', 'emotions ', 'zigzags ', 'embarrassment.', 'knowing\\n', 'themselves,', 'passed.', 'indispensable ', 'coldly ', 'proudly;', 'indescribable ', 'irritation ', 'delight,', 'trembling ', 'dangers ', 'ane-', 'hands-', 'coachman-', 'ames;', 'humour,', 'solicitous ', 'seem-', 'basin\\n', 'gruel-', 'wholesome;', 'perturbation;', 'needed ', 'separating ', 'reflection.', 'hair ', 'curled,', 'miserable.', 'wretched ', 'overthrow\\n', 'for!', 'development ', 'unwelcome!', 'blow ', 'arriet!', 'humiliation,', 'other;', 'light;', 'submitted ', 'mistaken-', 'error-', 'mis-', 'doubled ', 'presumption ', 'deceived!', 'never!', 'confusion.', 'supposed,', 'bend ', 'unmarked,', 'dubious,', 'misled.', 'circumstances;', 'clearly ', 'wit\"', 'eyes\"', 'neither;', 'jumble ', 'thick-', 'headed ', 'nonsense?', 'ertainly ', 'late,', 'unnecessarily ', 'gallant;', 'error ', 'knowledge,', 'gentleness ', 'address,', 'instant,', 'respect\\n', 'indebted ', 'start ', 'possibility.', 'denying ', 'caution\\n', 'given,', 'indiscreetly;', 'truer\\n', 'shewn ', 'mortifying;', 'respects,', 'proud,', 'assuming,', 'conceited;', 'ontrary ', 'wanting\\n', 'sunk ', 'professions ', 'proposals ', 'insulted ', 'arrogance ', 'pretended ', 'easy\\n', 'suffering ', 'language ', 'ighs ', 'abundance;', 'devise ', 'expressions,', 'allied ', 'aggrandise ', 'enrich ', 'heiress ', 'pounds,', 'fancied,', 'twenty,', 'ten.', 'short)', 'connexion\\n', 'gradations ', 'above,', 'provoking.', 'talent,', 'greatly\\n', 'settled\\n', 'younger ', 'branch\\n', 'ancient ', 'nobody.', 'landed ', 'property ', 'inconsiderable,', 'notch ', 'estate,', 'belonged;', 'sources,', 'secondary ', 'consequence;', 'alliances ', 'civility.', 'dependence;', 'raving ', 'incongruity ', 'honesty ', 'complaisant ', 'courtesy ', 'motive ', 'unperceived)', 'warrant ', 'ordinary ', 'observation ', 'delicacy,', 'misinterpreted ', 'wonder\\n', 'door.', 'foolish,', 'adventuring ', 'serious,', 'trick ', 'simple.', 'ashamed,', 'resolved\\n', 'modest\\n', 'right.', 'chance.', 'introducing ', 'having;', 'peace\\n', 'desirable\\n', 'illiam ', 'oxe-', 'pert ', 'lawyer.', 'relapse,', 'resumed\\n', 'dispiriting ', 'cogitation ', 'explanation ', 'suffering,', 'future ', 'meetings,', 'continuing ', 'discontinuing ', 'subduing ', 'avoiding ', 'eclat,', 'occupy\\n', 'unmirthful ', 'went\\n', 'blundered ', 'dreadfully.', 'temporary ', 'gloom ', 'analogy,', 'powerful ', 'operation;', 'poignant ', 'unclosed,', 'softened ', 'brighter ', 'alleviations ', 'shocking\\n', 'disappoint ', 'acute ', 'retentive-', 'necessity ', 'principals,', 'especially\\n', 'cheering ', 'further ', 'service,', 'justify ', 'asunder\\n', 'ay,', 'miserable\\n', 'atmosphere ', 'unsettled\\n', 'frost ', 'thaw,', 'unfriendly ', 'exercise,', 'freeze,', 'prisoner.', 'note;', 'church ', 'unday ', 'ay;', 'excuses ', 'absenting ', 'confine ', 'wise ', 'stir ', 'out;', 'seclusion ', 'importance\\n', 'companions;', 'cleared ', 'amiableness ', 'agreeable\\n', 'pleasantly ', 'cheerfulness,', 'hanging ', 'explanation\\n', 'move;', 'daughter\\n', 'lamentations ', 'destiny\\n', 'doated ', 'merits,', 'innocently ', 'busy,', 'model ', 'right\\n', 'feminine ', 'note\\n', 'ceremonious ', 'compliments,', 'proposing\\n', 'ath;', 'where,', 'compliance ', 'weeks,', 'regretted\\n', 'impossibility ', 'under,', 'retain ', 'sense-', 'commands,', 'agreeably ', 'desired.', 'credit\\n', 'announced.', 'esentment ', 'civility ', 'pointedly ', 'excluded.', 'compliments.', 'mentioned;', 'solemnity ', 'leave-', 'acknowledgments,', 'suspicion.', 'surprize\\n', 'journey,', 'language.', 'matter\\n', 'lonely ', 'alarms,', 'promptitude.', 'recovered ', 'getting\\n', 'return.', 'accordingly ', 'undergo\\n', 'penance ', 'communication;', 'destroy ', 'industriously\\n', 'feeding-', 'ungracious ', 'preferred-', 'grossly ', 'convictions,', 'prophecies ', 'weeks.', 'confession ', 'renewed ', 'shame-', 'sight\\n', 'charity\\n', 'blaming ', 'nobody-', 'testifying ', 'ingenuousness ', 'disposition\\n', 'lowly ', 'particular\\n', 'modesty ', 'utmost;', 'attaching,', 'complain ', 'distinction.', 'deserved ', 'partial\\n', 'abundantly-', 'grief ', 'artless,', 'dignity ', 'eyes-', 'console ', 'understanding-', 'two-', 'resemble ', 'welfare ', 'simple-', 'minded\\n', 'ignorant;', 'resolution\\n', 'discreet,', 'repressing ', 'imagination\\n', 'promote ', 'endeavour\\n', 'method ', 'unvarying ', 'striving ', 'ime,', 'knew,', 'inadequate ', 'sympathise ', 'particular;', 'extinction ', 'progress ', 'composure ', 'routine ', 'betraying ', 'perfection,', 'maintained ', 'non-', 'existence\\n', 'goodness-', 'resolutely ', 'foreseen;', 'inevitable ', 'strive\\n', 'unrequited_', 'indifference ', 'evident\\n', 'persisting ', 'recollection ', 'fixed,', 'each,', 'three.', 'removal,', 'effecting ', 'encounter\\n', 's;', 'teachers\\n', 'school;', 'cooling\\n', 'moderation ', 'repellent ', 'wound ', 'cure ', 'anywhere;', 'cure,', 'proposed\\n', 'near,', 'arrival\\n', 'excuse.', 'spared,', 'looked\\n', 'distant ', 'disappointed-', 'disappointed,', 'sober:', 'occurs,', 'proportionate ', 'depression.', 'flies ', 'failure,', 'begins ', 'sorry;', 'later\\n', 'plan;', 'year;', 'able,', 'considerably\\n', 'sooner.', 'rapidly ', 'restored ', 'foresaw ', 'repetition\\n', 'delays;', 'husband\\n', 'suffer,', 'suffered ', \"hurchill'\", 'disappointment\\n', 'quiet,', 'temptation;', 'appear,', 'self,', 'disappointment,', 'friendship.', 'announce ', 'exclaimed\\n', 'necessary,', 'perhaps\\n', 'urry;', 'new;', 'gala-', 'entire,', 'ending ', 'reflections\\n', 'hurchills ', 'amusement,', 'perceived ', 'arguments ', 'fault,', 'coolly;', 'proof.', 'unnatural ', 'creature?', 'wish,', 'luxurious,', 'selfish,', 'contrived ', 'eptember ', 'age-', 'he?', 'master.', 'dependence.', 'tempers ', 'manage.', 'conceived ', 'twenty\\n', 'limb ', 'amount.', 'money-', 'leisure.', 'rid ', 'idlest ', 'haunts ', 'kingdom.', 'watering-', 'eymouth.', 'proves ', 'hurchills.', 'while;', 'temptation ', 'unfair ', 'conduct,', 'interior ', 'nephew ', 'may,', 'chuses,', 'duty;', 'manoeuvring ', 'finessing,', 'vigour\\n', 'resolution.', 'promises ', 'messages;', 'rightly\\n', 'simply ', 'resolutely,', 'hurchill-', 'convenience;', 'immediately.', 'mark ', 'shall,', 'becoming\\n', 'opposition ', 'going.', 'laughing;', 'dependent,', 'use!', 'requisite ', 'situations ', 'provide ', 'tanding ', 'loud ', 'could!', 'practicable?', 'right;', 'declaration-', 'made,', 'higher,', 'stronger\\n', 'shifts\\n', 'expedients ', 'espect ', 'rightly ', 'meanly ', 'exerting\\n', 'hearts ', 'better\\n', 'whims.', 'conduct\\n', 'principle,', 'consistently,', 'regularly,', 'bending ', 'minds;', 'authority,', 'knack ', 'unmanageable ', 'transported ', 'situation,', 'recommending ', 'effect.', 'obedience\\n', 'observance ', 'has,', 'burst ', 'forth ', 'nought.', 'equal,', 'produce\\n', 'exertion,', 'conviction.', 'habit!', 'against\\n', 'duty,', 'roused ', 'authority.', 'opposed\\n', 'extraordinary.', 'man:', 'folly,', 'yielding,', 'mild ', 'notions ', 'perfection.', 'advantages ', 'expert ', 'flourishing ', 'falsehoods,', 'hit ', 'method\\n', 'preserving ', 'preventing ', 'complain.', 'letters ', 'disgust ', 'singular.', 'feelings:', 'doubly ', 'due,', 'omission.', 'person\\n', 'signified ', 'behindhand ', 'considerations?', 'herself?', 'rench,', 'nglish.', 'aimable,', 'agreeable;', 'people:', 'displeased;', 'acknowledge\\n', 'none,', 'personal;', 'looking,', 'smooth,', 'plausible ', 'treasure ', 'virtues ', 'bargain.', 'annot ', 'sensation_', 'produce?', 'throughout ', 'parishes ', 'interest-', 'curiosity;', 'powered.', 'acquaintance;', 'chattering ', 'coxcomb,', 'farming;', 'music;', 'enable ', 'lead,', 'require,', 'each;', 'mine,', 'insufferable ', 'fellow ', 'breathing!', 'king ', 'company-', 'man-', 'practised ', 'politician,', 'conduce ', 'display ', 'superiority;', 'dispensing ', 'flatteries ', 'fools ', 'himself!', 'puppy ', 'evil.', 'prejudiced;', 'against,', 'rejudiced!', 'prejudiced.', \"month'\", 'vexation,', 'comprehend\\n', 'liberality ', 'laid\\n', 'charge,', 'solace ', 'sins ', 'industriously ', 'returned;', 'succeeded,', 'suffer ', 'winter,', 'plaintive-', 'poor!', 'ates.', 'seek ', 'numbers.', 'presumed ', 'imperfection ', 'contributing ', 'stock ', 'scanty ', 'comforts.', 'deficiency-', 'counteract ', 'persuasion\\n', 'disagreeable,', 'waste ', 'women-', 'second-', 'rate\\n', 'sudden\\n', 'calculate,', 'belonged ', 'occupied\\n', 'floor;', 'moderate-', 'sized ', 'apartment,', 'cordially\\n', 'welcomed;', 'knitting ', 'warmest ', 'corner,', 'thanks ', 'sweet-', 'beaufet-', 'oles ', 'coming;', 'aster ', \"eremonies'\", 'ball ', 'been;', 'commendation ', 'word.', 'handsomely ', 'farther\\n', 'topic,', 'wander ', 'istresses ', 'isses ', 'parties.', 'succeed ', 'jumped ', 'away\\n', 'abruptly ', 'oles,', 'usher ', 'understand-', 'dancing-', 'dancing ', 'ath ', 'ane;', 'inquiring ', 'enough;', 'lately,', 'time\\n', 'writing;', 'saw\\n', 'honour?', 'unexpected.', 'says.', 'politeness ', 'lately?', 'well?', 'kind!', 'eagerly ', 'hunting ', 'huswife ', 'hid,', 'table.', 'ole,', 'huswife-', 'says;', 'apologise ', 'fills ', 'crosses ', 'half.', 'opened,', 'etty,', 'checker-', \"work'\", \"don'\", \"ma'\", 'am?', 'contrive\\n', 'pore ', 'amazingly ', 'od!', 'spectacles.', 'blessing!', 'grandmama,', 'breath;', \"airfax'\", 'handwriting.', 'kind,', 'gratified;', 'judge,', 'beautifully ', \"nobody'\", 'hear;', 'deaf\\n', \"a'\", 'am,', \"ane'\", 'handwriting?', 'compliment\\n', 'twice ', 'pondering,', 'meanwhile,', 'possibility,', 'seeming\\n', 'rude,', 'seized ', 'deafness ', 'raising ', 'voice.', 'remarkable ', 'distinct!', 'grandmama\\n', 'deafer ', 'seeing\\n', 'soon?', 'surprized;', 'things.', 'riday ', 'aturday;', 'aturday ', 'next.', 'uesday ', 'ednesday.', 'imagined.', 'delighted!', 'months\\n', 'hree ', 'months,', 'positively,', 'ampbells ', 'reland.', 'ixon ', 'impatient ', 'ctober,', 'kingdoms,', 'countries,', 'letter\\n', 'mother-', 'declare ', \"ixon'\", 'press ', 'ublin,', 'seat,', 'aly-', 'craig,', 'fancy.', 'beauty;', 'ixon,', 'addresses-', 'ampbell\\n', 'blame ', 'reland;', 'word\\n', 'believe.', 'reland,', 'animating ', 'entering\\n', 'insidious ', 'design\\n', 'discovery,', 'expected\\n', 'excused ', 'accompanying ', 'ampbell.', 'together-', 'happen.', 'ixon)', 'ampbell;', 'joint_', 'presently;', 'backward ', 'water,', 'whirling\\n', 'sails,', 'dashed\\n', 'presence ', 'habit-', 'trembling!', 'ixon!', 'urgency,', 'prefers ', 'devoting ', 'ates?', 'choice;', 'olonel\\n', 'wish_', 'wisely.', 'means,', 'things-', 'plain-', 'course.', '7', 'th\\n', 'ovember,', 'since.', 'hang ', 'considerate!', 'unwell.', 'aturday,', 'olyhead ', 'onday ', 'following-', 'sudden!', 'guess,', 'flurry ', 'in!', 'drawback ', 'illness-', 'poorly.', 'unlucky ', 'fear ', 'caution;', 'unwell,', 'frightened,', 'ill!', 'at.', 'guard.', 'liberal,', 'maintain,', 'story ', 'glancing ', 'rise-', 'intention,', 'detained!', 'urged ', 'detain ', 'succeeded.', 'regained ', 'street-', 'heard\\n', 'orphan,', 'ieut.', 'regiment ', 'infantry,', 'fame ', 'save ', 'melancholy\\n', 'dying ', 'action ', 'abroad-', 'sinking\\n', 'consumption ', 'ighbury:', 'consolation,', 'fondling ', 'limited ', 'improvement,', 'engrafted ', 'understanding,', 'warm-', 'hearted,', 'compassionate ', 'gave\\n', 'destiny.', 'ampbell,', 'officer ', 'deserving ', 'camp-', 'fever,', 'saved\\n', 'death ', 'ngland ', 'power.', 'age:', 'guest,', 'all;', 'fondness ', 'undertaking ', 'accepted;', \"ampbell'\", 'grandmother\\n', 'educating ', 'independence ', 'otherwise\\n', 'appointments,', 'subsistence ', 'hereafter.', 'ampbells,', 'given\\n', 'iving ', 'right-', 'received\\n', 'discipline ', 'culture;', 'lighter ', 'done\\n', 'first-', 'masters.', 'abilities ', 'nineteen ', 'far\\n', 'qualified ', 'competent ', 'instruction ', 'parted ', 'promote,', 'young;', 'sharing,', 'judicious\\n', 'future,', 'sobering ', 'suggestions ', 'remind\\n', 'particular,', 'party\\n', 'beauty\\n', 'acquirements.', 'unseen ', 'unfelt ', 'parents.', 'unabated\\n', 'luck ', 'defies ', 'anticipation ', 'acquainted;', 'eligibly\\n', 'bread ', 'earn.', 'path\\n', 'beginning.', 'fortitude ', 'novitiate,', 'sacrifice,', 'retire ', 'did.', 'lived,', 'hers ', 'retained ', 'wholly;', 'selfishness:', 'kinder\\n', 'wiser ', 'resisted ', 'enjoyments ', 'relinquished.', 'catch\\n', 'strength,', 'forbid ', 'engaging ', 'compatible ', 'weakened ', 'frame ', 'varying ', 'seemed,', 'require ', 'human ', 'perfection ', 'discharged ', 'truths ', 'told.', 'spend,', 'relations ', 'dear:', 'motives,', 'double,', 'treble,', 'sanction,', 'recovery ', 'ertain ', 'welcoming ', 'novelty ', 'freshness\\n', 'absence.', 'months!', 'ought!', 'ane\\n', 'difficult ', 'answer;', 'accusation ', 'refuted ', 'examination ', 'acquit ', 'coldness ', 'reserve-', 'eternal ', 'talker!', 'fuss\\n', 'intimate-', 'same,', 'reasons-', 'just-', 'imputed ', 'magnified\\n', 'injured ', 'paid,', 'interval,', 'appearance\\n', 'depreciating.', 'elegant,', 'elegant;', 'elegance.', 'graceful;', 'medium,', 'fat ', 'likeliest ', 'face-', 'features-', 'remembered;', 'regular,', 'grey,', 'dark ', 'lashes ', 'eyebrows,', 'denied\\n', 'praise;', 'skin,', 'cavil ', 'at,', 'colour,', 'needed\\n', 'fuller ', 'bloom.', 'reigning ', 'principles,', 'admire ', 'vulgar,', 'merit.', 'sat,', 'airfax\\n', 'twofold ', 'complacency;', 'rendering ', 'justice,', 'determining ', 'dislike\\n', 'history,', 'from,', 'compassion\\n', 'respect;', 'especially,', 'entitling\\n', 'probable ', 'started\\n', 'pitiable\\n', 'sacrifices ', 'seduced\\n', 'actions ', 'mischievous\\n', 'suggested ', 'first.', 'simple,', 'successless ', 'unconsciously ', 'sucking ', 'poison,', 'sharer ', 'best,', 'purest ', 'resolving ', 'effectually ', 'career ', 'laborious ', 'duty.', 'whole,', 'softened,', 'around ', 'ighbury\\n', 'independence;', 'efore ', 'committed ', 'profession ', 'recantation ', 'prejudices\\n', 'handsome!', 'artfield\\n', 'relapsing ', 'state.', 'ormer ', 'provocations ', 'reappeared.', 'aunt\\n', 'tiresome,', 'powers;', 'description ', 'butter\\n', 'ate ', 'breakfast,', 'exhibitions ', 'caps ', 'workbags ', 'offences ', 'play;', 'necessarily\\n', 'affectation ', 'candour,', 'air\\n', 'greatness,', 'performance.', 'cautious!', 'rapt ', 'cloak ', 'disgustingly,', 'suspiciously ', 'reserved.', 'most,', 'eymouth ', 'ixons ', 'bent ', 'insight ', 'suitableness\\n', 'smoothness;', 'delineated ', 'distinguished.', 'caution ', 'artifice,', 'returned\\n', 'surmises.', 'conceal\\n', 'preference;', 'changing ', 'pounds.', 'prevailed ', 'topics.', 'hurchill\\n', 'procure ', 'handsome?', 'believed\\n', 'agreeable?', 'information?', 'points.', 'anners ', 'pleasing.', 'forgive ', 'provocation ', 'resentment\\n', 'whole;', 'openly ', 'intelligible ', 'improvement.', 'papers ', 'swept ', 'pleasant.', 'music.', 'luxurious ', 'entertained\\n', 'women;', 'music\\n', 'conversation.', 'undone.', 'play ', 'instrument\\n', \"grandmother'\", 'indulgence.', 'approved,', 'smiling;', 'deficient ', 'guests ', 'instantly;', 'attentive.', 'muffin ', 'night-', 'handed ', 'deficient;', 'comprehension.', 'arch ', 'expressed-', 'overcome\\n', 'overcome,', 'diffidence.', 'arises ', 'discretion\\n', 'honoured.', 'chair ', 'perseverance ', 'asking ', 'questions;', 'obtained.', 'nce,', 'fire ', 'little,', 'quick.', 'friends;', 'appease ', 'sincerity ', 'question-', 'admire;', 'cared\\n', 'express;', 'reply,', 'confined!', 'wished-', 'presents,', 'uncommon-', 'porker,', 'loin ', 'leg;', 'delicate-', 'pork ', 'pork-', 'steaks,', 'fried,', 'ours ', 'grease,', 'leg-', 'dear?', 'hind-', 'leg ', 'salted,', 'nice,', 'salt ', 'boiled,', 'boils ', 'ours,', 'eaten ', 'moderately ', 'turnip,', 'carrot ', 'parsnip,', 'news-', 'article ', 'hither ', 'ews!', 'news.', 'door\\n', 'ull ', 'thanks,', 'news,', 'quickest.', 'communication ', 'pork!', 'bountiful!', 'news?', 'start,', 'sound.', 'news:', 'implied ', 'conviction\\n', 'nightley?', 'minutes\\n', 'note-', 'ten-', 'bonnet ', 'spencer ', 'atty ', 'passage-', 'ane?', 'salting-', 'pan\\n', 'instead?', 'washing ', 'kitchen.', 'note.', 'awkins-', 'awkins ', 'ath.', 'ole\\n', 'quite-', 'interesting.', 'bountiful.', 'desires ', 'regards,', 'oppress ', 'pork,', 'than-', 'who,', 'wealth\\n', 'lot ', 'goodly ', 'heritage.', 'short-', 'announce-', 'exulting,', 'sly ', 'glance ', 'precise ', 'words-', 'awkins.', 'settle,', 'observation.', 'neighbour ', 'joyfully;', 'pleased!', 'mistress.', 'absorbing ', 'wholly\\n', 'starting ', 'appeal;', 'he-', 'question?', 'medium.', 'standard\\n', 'remember,', 'yesterday\\n', 'awkins,', 'pew,', 'deaf,', 'deaf.', 'bath-', 'benefit.', 'angel.', 'charming\\n', 'awkins;', 'people;', 'errys-', 'neighbours.', 'known.', 'wonderings,', 'silent,', 'airfax-', 'subjects,', 'deep\\n', 'account-', 'interested-', 'requires ', 'impression\\n', 'worn ', 'observe,', 'awkins!', 'hereabouts;', 'ever-', 'whispered ', \"but'\", 'discoveries.', 'aspired-', 'lets ', 'chatter ', 'humouredly.', 'offend ', 'person-', 'look-', 'talkative.', 'aunt;', 'beforehand.', 'runs ', 'strictly ', 'speaking,', 'andsome!', 'plain.', 'regard,', 'looking.', 'grandmama ', 'oodhouse;', 'leave.', 'minutes:', 'directly-', 'shower!', 'boiled_', 'pork:', 'dress ', 'very!', 'tired,', 'lamented ', 'marry-', 'strangers ', 'too-', 'amusing\\n', 'long;', 'arriet:', 'abruptly\\n', 'call.', 'rain,', 'detaining ', 'rush ', 'preparation.', 'shower ', 'heavy,', 'short;', 'heated,', 'thither ', 'happened!', 'instantly\\n', 'forth,', 'evidence ', 'corresponding ', 'perturbation.', 'greater\\n', 'listening;', 'unchecked,', 'eagerly\\n', 'rain-', 'pour ', 'gown ', 'step\\n', 'fast\\n', \"ord'\", 'principal\\n', 'woollen-', 'draper,', \"haberdasher'\", 'shop ', 'united;', 'fashion ', 'sudden,', 'dealt ', 'brother!', 'think.', 'fainted.', 'door-', 'umbrella.', 'took\\n', 'notice;', 'shop;', 'door!', 'miserable!', 'gown.', 'rain;', 'anywhere\\n', 'buyings,', 'whispering ', 'forward-', 'used;', 'altered;', 'try_', 'friendly,', 'tremble!', 'remember\\n', 'ear,', 'away-', 'spoke,', 'dreadfully,', \"can'\", 'how;', 'courage,', 'go;', 'round\\n', 'stables,', 'floated\\n', 'rain.', 'less;', 'stables-', 'did-', 'happen:', 'behave ', 'kindly.', 'sincerely ', 'thoroughly\\n', 'described ', 'mixture\\n', 'wounded ', 'genuine ', 'behaviour.', 'connexion?', 'disturbed ', 'sorry\\n', 'mbition,', 'mortified.', 'rise\\n', 'acquaintance:', 'description?', 'pleased-', 'discerning;', 'praise?', 'exerted ', 'trifle,', 'distressing,', 'never-', 'meeting,', 'need\\n', 'rejoice ', 'angry,', 'state\\n', 'conclusion ', 'rights,', 'revived.', 'increased;', 'curiosity,', 'regret,', 'place\\n', 'subordination ', 'learned ', 'serviceable ', 'deadening ', 'shock,', 'retaining\\n', 'alarm.', 'seeking ', 'hitherto ', 'courage ', 'condescension ', 'necessity,', 'speech.', 'uman ', 'situations,', 'marries\\n', 'dies,', 'kindly ', \"awkins'\", 'discovered ', 'mind;', 'amiable:', 'arrived ', 'prospects,', 'circulate ', 'hristian ', 'whose\\n', 'played.', 'rejected\\n', 'mortified-', 'disappointed ', 'series\\n', 'encouragement;', 'losing\\n', 'debased ', 'deeply ', 'offended-', 'engaged\\n', 'another-', 'gay ', 'caring ', 'defying ', 'ugusta ', 'advantages\\n', 'thousands ', 'ten;', 'dignity,', 'convenience:', '0', 'l.', 'thereabouts;', 'rapidity-', 'distinguishing ', 'affair ', 'glorious-', 'steps\\n', 'accidental ', 'rencontre,', \"reen'\", \"rown'\", 'blushes ', 'importance-', 'agitation ', 'richly ', 'scattered-', 'impressed-', 'sweetly ', 'disposed-', 'contented.', 'shadow-', 'concerns-', 'congratulated-', 'cordial,', 'fearless ', 'smiles,', 'addressing\\n', 'cautiously ', 'gallant.', 'event,', 'preparations ', 'for;', 'expectation,', 'contradict,', 'bride.', 'uring ', 'stay,', 'pique\\n', 'pretension,', 'spread ', 'inseparably ', 'moral ', 'light,', 'penance,', 'lesson,', 'profitable ', 'humiliation ', 'thankful ', 'welfare\\n', 'administer ', 'lessened ', 'vain ', 'solicitudes ', 'prevented-', 'awkwardnesses ', 'smoothed ', 'lton_', 'intercourse;', 'remark.', 'individually,', 'ighbury-', 'enough-', 'persuaded,', 'vaunted ', 'disdain ', 'article,', 'attainable.', 'hat_', 'uncertain;', 'who_', 'blood,', 'alliance.', 'ristol-', 'merchant,', 'called;', 'profits ', 'mercantile ', 'moderate,', 'trade ', 'ristol ', 'ristol;', 'remained-', 'line-', 'distinctly ', 'hazarded\\n', 'line;', 'lived.', 'guessed ', 'drudge ', 'attorney,', 'stupid ', 'rise.', 'grandeur ', 'married_', 'great_', 'way_', 'ristol,', 'carriages!', 'wind-', 'history;', 'glory ', 'alas!', 'vacancies\\n', 'superseded\\n', 'another;', 'clearer;', 'sufficient;', 'feared,', 'girl!', 'reappearance ', 'glimpse ', 'somewhere ', 'once;', 'just_', 'shoulder,', 'favouring ', 'warmth ', 'conjecture.', 'perpetually ', 'concerns;', 'report,', 'guess-', 'occurred,', 'comprehending ', 'servants,', 'furniture,', 'continually\\n', 'invariable ', 'irritated ', 'ceaseless ', 'repetitions ', 'attached!', 'house-', 'hat,', 'love!', 'allowable ', 'entertainment,', 'pain\\n', 'reproach ', 'waverings ', 'variations.', 'ometimes ', 'predominated,', 'artins;', 'check ', 'unhappiness ', 'afterwards.', 'touch;', 'reproach,', 'kindness;', 'pondering ', 'dared ', 'confess.', 'driven ', 'cares.', 'staid,', 'forgotten;', 'dissipate ', 'occasioned,', 'acknowledged-', 'necessary-', 'safest,', 'doubtful\\n', 'bsolute ', 'neglect ', 'ingratitude.', 'be:', 'acquaintance!', 'determine ', 'formal ', 'drove ', 'applications ', 'dangerous\\n', 'recurrences ', 'future.', 'better:', 'approve-', 'ingratitude,', 'glossed ', 'mall ', 'visiting.', 'stars ', 'spot ', 'trunk,', 'ev.', 'hilip_', 'hite-', 'art_', 'ath_', 'operation ', 'lifted ', \"butcher'\", 'cart,', 'coaches ', 'past;', 'trunk ', 'blank.', 'farm,', 'gravel ', 'espalier ', 'trees ', 'revive ', 'agitation;', 'portion\\n', 'onwell.', 'punctually ', 'summons,', 'unattended ', 'solitarily\\n', 'walk-', 'parting ', 'collected ', 'girls.', 'doubtingly,', 'merest ', 'commonplace ', 'grown,', 'measured ', 'eptember,', 'pencilled ', 'marks ', 'memorandums ', 'wainscot ', 'window.', 'regrets-', 'understanding;', 'cordial ', 'happy,', 'reappeared,', 'shortness ', 'decisive.', 'ourteen ', 'thankfully\\n', 'ago!', 'justly ', 'resent,', 'naturally\\n', 'suffer.', 'deal,', 'artins\\n', 'deserving,', 'enough:', 'otherwise?', 'mpossible!', 'separated;', 'process-', 'artins.', 'refreshment ', 'necessary.', 'master ', 'provoking!', 'leaned ', 'indulge\\n', 'murmurs,', 'commonest ', 'process ', 'resently ', 'stopt;', 'stopt\\n', 'instant ', 'sound-', 'accosted\\n', 'morrow-', 'certainty-', 'xford ', 'fortnight;', 'days;', 'hristmas;', 'fine,', 'dry,', 'completely;', 'resisting ', 'quieter,', 'reanimation\\n', 'exhausted ', 'worn-', 'rapidity ', 'engagements ', 'route ', 'congratulated.', 'detaining\\n', 'ready;', 'extraordinary:', 'sparkling ', 'unconscious ', 'innocent,', 'hink ', 'clock,', 'injunction;', 'clock!', 'three,', 'amendment;', 'mounted ', 'happiness;', 'wore\\n', 'air;', 'sluggish\\n', 'spring,', 'xford?', 'augur ', 'geography ', 'tranquillity ', 'faithful ', 'pupil ', 'ten,', 'eleven,', 'four.', 'soliloquy,', 'downstairs ', 'overcareful\\n', 'fidgets,', 'hall.', 'twelve;', 'hence;', 'later,', 'finished ', 'midst ', 'congratulations,', 'introduction,', 'unexceptionable,', 'liveliness\\n', 'sensible.', 'intending\\n', 'alter ', 'earlier,', 'quicker,', 'exultation,', 'told\\n', 'named.', 'creep ', 'faster ', 'planned;', 'begins,', 'needs.', 'presume ', 'far;', 'home_', 'complacency.', 'followed.', 'admirably ', 'interest\\n', 'own_', 'gives,', 'suspiciously\\n', 'brain;', 'falsehood,', 'handled.', 'study\\n', 'exaggeration.', 'inquiries,', 'horsewoman?', 'leasant ', 'rides?', 'walks?', 'neighbourhood?', 'enough?', 'houses\\n', 'alls-', 'balls?', 'musical ', 'society?', 'acquaintance\\n', 'proportionably ', 'advanced,', 'fathers ', 'introducing\\n', 'reception ', 'please-', 'welcome;', 'wisest ', 'blessing ', 'conferred ', 'obligation\\n', 'thanking ', 'qualify ', 'object,', 'legant,', 'age;', 'eighteen_', 'using\\n', 'replied;', 'extravagant ', 'possession\\n', 'his;', 'acquiescence,', 'defiance.', 'detected ', 'expression;', 'even,', 'listening.', 'exemption ', 'penetration\\n', 'suspicion,', 'circumstance.', 'appily ', 'approving ', 'foreseeing ', 'objecting ', 'arranged,', 'any;', \"persons'\", 'blindness.', 'surmise,', 'treachery ', 'kind-', 'solicitous\\n', 'nights ', 'road,', 'express\\n', 'unmixed ', 'escaped\\n', 'move.', 'rown ', 'hay,', 'errands\\n', 'hint,', 'also,', 'yours,', 'name-', 'arnes,', 'name?', 'acquainted\\n', 'which-', 'rank;', 'avoided.', 'mixed ', 'slight.', 'convinced.', 'concurrence;', 'distinct\\n', 'fashionable ', 'ordinarily ', 'gifted ', 'tongue.', 'conversation;', 'sure;', 'rown,', 'street,', 'houses;', 'loss,', 'dirty ', 'footpath;', 'cross ', 'declined ', 'hearty ', 'unnecessary;', 'puddle ', 'water ', 'sees ', 'rown\\n', 'hop,', 'step,', 'jump.', 'permitted ', 'alone;', 'nod ', 'bow ', 'engage ', 'cordially.', 'companionably ', 'chuse\\n', 'airy,', 'happy-', 'constant ', 'attraction.', 'bearing ', 'construction ', 'plans;', 'whom\\n', 'depend.', 'amends ', 'words\\n', 'hyperbolical ', 'denote ', 'securing ', 'shrubberies ', 'ear;', 'confessed ', 'oftener ', 'supposed.', 'recollecting\\n', 'living,', 'quest\\n', 'positive ', 'shewed,', 'shewn,', 'voluntarily\\n', 'insincere ', 'professions;', 'pause ', 'nn,', 'inconsiderable ', 'principal ', 'pair ', 'post-', 'kept,', 'convenience ', 'neighbourhood\\n', 'road;', 'added;', 'built\\n', 'ball-', 'populous,', 'such;', 'brilliant ', 'whist\\n', 'interested.', 'sashed ', 'windows ', 'contemplate\\n', 'capabilities,', 'original ', 'ceased.', 'suggested.', 'enough,', 'balls ', 'winter.', 'room?', 'ighbury!', 'environs ', 'tempted ', 'attend,', 'furnish ', 'meeting;', 'particulars ', 'described,', 'argued ', 'dancing;', 'prevail\\n', 'inclinations\\n', 'pride,', 'indifference\\n', 'inelegance ', 'holding ', 'cheap.', 'rown;', 'facing ', 'ateses ', 'recollected ', 'yes\"', 'successful ', 'visit:', 'ladies;', 'preparatory ', 'betrayed ', 'pause;', 'utter ', 'else)', 'looking?', 'll,', 'admissible,', 'adies ', 'pale,', 'deplorable ', 'complexion.', 'defence ', 'brilliant,', 'hue ', 'softness ', 'skin ', 'peculiar ', 'deference;', 'glow ', 'indifferent,', 'complexion ', 'effect ', 'fortunately ', 'disputing ', 'taste.', 'laughed.', 'eymouth?', 'attends ', 'lives,', 'informs ', 'seven,', 'inconvenient ', 'prove\\n', 'citizen ', 'buy ', 'freedom.', 'sell ', 'gloves.', 'gloves ', 'patriotism.', 'adored ', 'popular ', 'guinea ', 'virtues.', 'sleek,', 'tied ', 'parcels ', \"en'\", 'eavers\"', 'ork ', 'an\"', 'displaying ', 'counter,', 'burst\\n', 'amor_', 'patriae_', 'utmost\\n', 'stretch ', 'pronounce ', 'commit ', 'claiming ', 'allow.', 'word!', 'discreetly ', 'leaves ', 'guessed,', 'reserved,', 'ampbells\\n', 'set.', 'conclude;', 'hesitatingly)', 'knows\\n', 'sentiment.', 'bought,', 'play?', 'belongs\\n', 'lives ', 'began.', 'plays ', 'judge.', 'skill\\n', 'admired;', 'woman-', 'marriage-', 'instrument,', 'instead-', 'roof ', 'amused.', 'musical,', 'vouchsafed ', 'persons;', 'ertainly-', 'was;', 'stronger ', 'than,', 'love-', 'sensibility ', 'sounds ', 'comfort!', 'laughing.', 'stranger\\n', 'recur ', 'oneself!', 'better-', 'worse:', 'which.', 'stupidity ', 'dulness ', 'feeling-', 'improper\\n', 'being,', 'play\\n', 'chuses.', 'quickly,', 'checking ', 'terms ', 'scenes.', 'smoothness ', 'outwardly.', 'critical ', 'undoubtedly;', 'intimate,', 'whenever\\n', 'happened;', 'wickedness ', 'prone ', 'idolized\\n', 'attach\\n', 'repulsive ', 'quality,', 'ftentimes\\n', 'convenient,', 'safety\\n', 'reserve,', 'ceases ', 'oneself;', 'attraction\\n', 'greater.', 'conquering ', 'ntimacy ', 'least-', 'perpetual ', 'cautiousness ', 'suggest ', 'conceal.', 'alike,', 'expected;', 'notions,', 'warmer.', 'church,', 'pitied ', 'having.', 'shared ', 'loved,', 'blockhead ', 'sed ', 'accommodations ', 'privations ', 'inevitably ', 'did_', 'inroads ', 'occasioned ', \"housekeeper'\", \"butler'\", 'pantry,', 'willingly\\n', 'establishment.', 'shaken\\n', 'cut.', 'freak ', 'chaise ', 'travelling\\n', 'errand;', 'foppery ', 'accord ', 'rationality ', 'expense,', 'unselfish ', 'anity,', 'extravagance,', 'restlessness ', 'heedlessness ', 'became\\n', 'charges.', 'story;', 'quickly ', 'possible,', 'comment ', 'exception ', 'blot,', 'altogether.', 'temper-', 'one;', 'gratitude,', 'promising;', 'cut,', 'unworthy\\n', 'distinguished ', 'saved ', 'indifference-', 'marrying)', 'marked ', 'joint ', 'weight.', 'extremely-', 'charming;', 'harshly.', 'people\\n', 'leniently ', 'disposed.', 'judged,', 'parishes\\n', 'candour;', 'allowances\\n', 'excesses ', 'bowed ', 'spirit\\n', 'censure,', 'bows\\n', 'smiles-', 'silent;', 'newspaper ', 'um!', 'trifling,', 'resent;', \"instant'\", 'relieve ', 'provoke;', 'lthough ', 'instance ', 'bearers ', 'tidings,', 'opportune.', 'advice;', 'gave.', 'occurrence:', 'unpretending;', 'origin,', 'genteel.', 'unexpensively;', 'last\\n', 'increase ', 'means-', 'yielded ', 'profits,', 'wealth,', 'larger ', 'company.', 'expenses ', 'fortune\\n', 'company;', 'among\\n', 'invite-', 'did;', 'regretted ', 'terms\\n', 'insult ', 'affected.', 'accounting ', 'sufficient.', 'refusal;', 'assembled ', 'consisting ', 'accept.', 'ateses.', 'dance?', 'bare ', 'acted ', 'spirits;', 'grandeur,', 'omission\\n', 'arrival ', 'acceptable;', 'remark,', 'declined,', 'successful.', 'owned ', 'properly-', 'solicited ', 'folding-', 'screen\\n', 'draught\\n', 'readily ', 'persuadable;', 'briefly ', 'neglecting ', 'comfort-', 'acquiescence ', 'spending\\n', 'his_', 'numerous.', 'resigned.', 'visiting,', 'afternoon ', 'us-', 'walk;', 'dews ', 'summer\\n', 'desirous ', 'damp,', 'windy.', 'reproach-', 'incumbent ', 'moment_', 'increasing,', 'lessening,', 'allay ', 'deliberately ', 'arranged.', 'treatment,', 'usual.', 'oddard.', 'oddard;', 'excuses,', 'civilly ', 'invalid,', 'decline ', 'invitation;', 'compliments_', 'uesday.', 'safely.', 'tea\\n', 'tired.', 'noise.', 'sooner\\n', 'breaks ', 'oles.', 'offence.', 'claims;', 'compliment;', \"person'\", 'disappoint\\n', 'mortify ', 'ten_', 'years.', 'reminding ', 'pain.', 'tells\\n', 'touches ', 'malt ', 'liquor.', 'bilious-', 'bilious.', 'risk ', 'hurting\\n', 'piquet,', 'side:', 'thoroughly;', 'hungry,', 'eat;', 'maid\\n', 'butler ', 'waiting,', 'concealed.', 'grace,', 'ashamed\\n', 'face;', 'unspent,', 'undaunted ', 'moralised ', 'things\\n', 'impudent ', 'ickedness ', 'wickedness,', 'folly.', 'handle ', 'gloried\\n', 'achievement,', 'ostentation ', 'evasions ', 'defend ', 'vanities.', 'silly.', 'hitherto;', 'inference,', 'guessing ', 'coldness\\n', 'observations ', 'scene ', 'laid ', 'failings\\n', 'favour,', 'disturbed\\n', 'propensity ', 'amply ', 'secured,', 'respects ', 'dinner;', 'fondly\\n', 'noticing ', 'helping ', 'slices ', 'cake\\n', 'glasses ', 'denial ', 'practise\\n', 'meal.', 'plentiful ', 'door;', 'keeping\\n', 'activity,', 'apt,', 'owner ', 'stopped ', 'gentleman.', 'same\\n', 'es ', 'should.', 'bravado,', 'unconcern;', 'circumstances.', 'ow_', 'ashamed.', 'taller ', 'onsensical ', 'anger.', 'strongest ', 'marked\\n', 'seated\\n', 'dexterity\\n', 'proper\\n', 'unobjectionable ', 'male ', \"ox'\", 'females ', 'mith;', 'numerous ', 'politics ', 'surrender ', 'pleasantness ', 'neighbour.', 'remote ', 'sound ', 'relating ', 'pianoforte-', 'instrument-', 'grand,', 'large-', 'square ', 'pianoforte;', 'story,', 'dialogue ', 'ensued ', 'inquiry,', 'congratulations ', 'explanations ', 'pianoforte ', \"roadwood'\", 'niece-', 'unexpected;', 'bewildered ', 'quarter;', 'doubt.', 'seems,', 'best;', 'rejoiced ', 'declare,', 'satisfaction!', 'delightfully,', 'instrument.', 'shame,', 'instruments ', 'slap,', 'pitifullest\\n', 'spinet ', 'indulging\\n', 'purchase,', 'hoping ', 'instrument ', 'bought-', 'acquiescence;', 'entrapped ', 'smile?', 'liberal.', 'ery.', 'untouched ', 'pianoforte,', 'large\\n', 'say_', 'chuse-', 'testifies\\n', 'thoughts_', 'acuteness ', 'probably\\n', 'suspect;', 'ixon?', 'ixon.', 'mode ', 'mystery,', 'elderly ', 'guide ', 'extend ', 'r_', 'ixon\\n', 'admirer ', 'entertained ', 'reflect ', 'help\\n', 'suspecting ', 'guess\\n', 'ere,', 'privation ', 'penance;', 'trying ', 'look\\n', 'summer ', 'passed;', 'ebruary,', 'arch?', 'fires ', 'cases ', 'adopt ', 'suspicions,', 'noble ', 'honestly\\n', 'probability.', 'decided.', 'party;', 'accident ', 'overboard.', 'there-', 'really?', 'would;', 'dashed ', 'vessel ', 'consequent\\n', 'shock ', 'durable-', 'peculiar\\n', 'observable.', 'interrupted.', 'share\\n', 'courses,', 'orderly ', 'covered,', 'dish ', 'placed\\n', 'restored,', 'conclude ', 'ampbells.', 'puzzled,', 'injure ', 'unconvinced.', 'reasonings\\n', 'entirely.', 'giver,', 'paternal ', 'real;', 'dessert ', 'amid ', 'silly,', 'proportion\\n', 'other-', 'everyday ', 'remarks,', 'repetitions,', 'jokes.', 'ladies,', 'divisions,', 'arrived.', 'entree ', 'exult ', 'dignity\\n', 'blooming ', 'artless ', 'heartily ', 'unsentimental ', 'alleviations\\n', 'pangs ', 'sat-', 'shedding?', 'dressed,', 'nothing,', 'superior;', 'glad\\n', 'purchased ', 'loved-', 'vain-', 'curiosity\\n', 'purposely ', 'distance;', 'introduced,', 'congratulations\\n', 'received,', 'guilt ', 'interested\\n', 'dwelling ', 'subject;', 'tone,', 'pedal,', 'unsuspicious\\n', \"heroine'\", 'countenance.', 'gentlemen;', 'walked,', 'handsomest;', 'passant ', 'niece,', 'divined ', 'convenient\\n', 'naivete.', 'restrained ', 'room-', 'hated ', 'could-', 'ox,', 'business-', 'gentlemanlike,', 'men;', 'abundant ', 'families-', 'despise ', 'questioned ', 'orkshire-', 'answers ', 'nscombe\\n', 'visitings\\n', 'near;', 'accepted,', 'going;', 'times_', 'satisfy,', 'reasonably ', 'retirement ', 'importance ', 'evident.', 'boast,', 'excepting\\n', 'points)', 'with_', 'time_', 'failed,', 'mentioned.', 'travel-', 'mention,', 'guessed\\n', 'pause.', 'fast.', 'morrow!', 'myself\\n', 'restored\\n', 'across ', 'opposite.', 'matter?', 'started.', 'rousing ', 'hair\\n', 'outree!', 'curls!', 'rish ', 'fashion.', '?', 'will-', 'colours.', 'improvidently ', 'distinguish ', 'longing\\n', 'discoveries ', 'here?', 'ow?', 'invited,', 'hither?', 'coming?', 'conclude.', 'come?', 'advantage,', 'wishes;', 'soul!', 'thanks-', 'brought,', 'glad,', 'attention-', 'thoughtful ', 'attention!', 'assisting ', 'considerate,', 'benevolent.', 'humane ', 'humanity ', 'unostentatious ', 'betray.', 'disinterested ', 'appears.', 'match\\n', 'ee ', 'company!', 'marry!', 'onwell?', 'consent ', 'marrying;', 'amazed ', 'enry-', 'supplanted.', 'women!', 'imprudence ', 'match!', 'prudence;', 'foundation\\n', 'humanity,', 'ateses,', 'mistress\\n', 'bbey!', 'revolts.', 'mad ', 'mprudent,', 'mad.', 'unsuitable.', 'marry?', 'sheep,', 'library,', 'manage;', 'extremely\\n', 'but-', 'shameful ', 'connexion.', 'haunting ', 'bbey,', 'obliging!', 'neighbour!', 'sentence,', 'petticoat.', 'petticoat ', 'either-', 'while-', 'thankfully ', 'petticoats ', 'mimic ', 'divert ', 'conscience.', 'irritate ', 'louder,', 'drown ', 'speak,', 'prospect!', 'points!', 'performance ', 'voice!', 'occurred\\n', 'somebody-', 'mysteriously.', 'lamenting ', 'repeatedly;', 'dinner.', 'reproached ', 'sign ', 'attachment-', 'convince\\n', 'combated ', 'gaining ', 'yield;', 'preparation;', 'entreaties;', 'as,', 'compliance.', 'limitations ', 'attempt\\n', 'perform ', 'credit;', 'acceptable,', 'accompaniment ', 'song\\n', 'surprize-', 'correctly\\n', 'pardon ', 'duly ', 'song,', 'accused\\n', 'denied;', 'roundly ', 'asserted.', 'sang ', 'together\\n', 'resign ', 'performance,', 'vocal ', 'instrumental,', 'sung ', 'twice,', 'attentive,', 'voices ', 'momentary ', 'interruptions.', 'objections ', 'subside.', 'injury ', 'mortifying ', 'deduction ', 'to!', 'warm;', 'touchstone,', 'conveying ', 'niece;', 'cutting ', 'indicate ', 'disinclination ', 'dwell ', 'concern,', 'occasions.', 'wish;', 'ames\\n', 'conviction,', 'proceed ', 'step.', 'she-', 'pianoforte\\n', 'urprizes ', 'enhanced,', 'considerable.', 'oath ', 'preference-', 'owards ', 'thick.', 'aloud-', 'evening-', 'fatigue ', 'trifling.', 'song ', 'falls ', 'fellow,', 'indignantly,', 'shewing\\n', 'touching ', 'near-', 'mad,', 'manner?', 'interfere.', 'mercy ', 'grateful,', 'concert ', 'performers;', 'minutes)', 'originating ', 'where-', 'promoted\\n', 'clearing ', 'space.', 'capital ', 'country-', 'dances,', 'seated,', 'waltz;', 'top.', 'trial.', 'dancer ', 'alert ', 'something.', 'o;', 'ole-', 'unconcerned;', 'enry;', 'safe;', 'dance ', 'mustered;', 'rarity ', 'suddenness ', 'delightful,', 'matched ', 'partner.', 'allowed.', 'attempts,', 'sorrowful,', 'languid\\n', 'dignified ', 'seclusion,', 'repaid ', 'splendour\\n', 'popularity.', 'oles-', 'happy!', 'erfect ', 'memory,', 'common;', 'doubted ', 'transgressed ', 'betraying\\n', 'submission ', 'told,', 'penetration,', 'difficult\\n', 'related ', 'unfeignedly ', 'unequivocally\\n', 'inferiority ', 'idleness ', 'childhood-', 'vigorously ', 'interrupted ', 'comforted.', 'lamp ', 'sunshine.', 'praised,', 'had;', 'valued ', 'execution.', 'sure?', 'execution,', 'talian ', 'esides,', 'teach.', 'oxes ', 'looked?', 'vulgar.', 'hesitatingly;', 'fearful\\n', 'producing ', 'dined ', 'aturday.', 'nne ', 'ox.', 'impertinently ', 'curious,', 'ox\\n', 'vulgar\\n', 'dangerous.', 'swayed ', 'muslins\\n', 'amusement.', 'traffic ', 'busiest ', 'ox ', 'office-', 'carriage-', 'stray ', 'obstinate ', 'mule,', 'liveliest\\n', 'expect;', 'butcher ', 'tray,', 'tidy ', 'homewards ', 'basket,', 'curs ', 'quarrelling ', 'bone,', 'string ', 'dawdling ', \"baker'\", 'bow-', 'window\\n', 'eyeing ', 'gingerbread,', 'complain,', 'ease,', 'enlarged;', 'appeared;', 'law;', 'stopping,', 'knocked,', 'eye.', 'mmediately ', 'road\\n', 'agreeableness ', 'promised\\n', 'equally\\n', 'shopping.', 'fidget\\n', 'death;', 'waiting\\n', 'ell-', 'smile)', 'careless ', 'tone-', 'palatable ', 'lips,', 'wretchedest ', 'falsehood.', 'persuaded\\n', 'neighbours,', 'necessary;', 'indifferent.', 'disagreeable\\n', 'long.', 'reward ', 'trying,', 'muslin ', 'figured;', 'ribbon,', 'beautiful,', 'yellow ', 'parcel.', 'hould ', 'ord.', 'ribbon ', 'ribbon.', 'parcels,', 'ord,', 'trouble\\n', 'parcels.', 'advise?', 'oices ', 'shop-', 'ladies:', 'latter,', 'instrument;', 'begged\\n', 'succeeding.', 'are-', 'delightfully ', 'across,', 'refuse.', 'finished\\n', 'job;', 'fastening ', 'rivet ', 'spectacles-', 'spectacles;', 'aunders ', 'hindered ', 'morning;', 'what,', 'kitchen ', 'chimney ', 'sweeping.', 'rivet\\n', \"mistress'\", 'spectacles ', 'baked ', 'apples ', 'allis ', 'boy;', 'allises,', 'always-', 'uncivil ', 'custom ', 'bread,', 'eats ', 'nothing-', 'eats-', 'passes ', 'gets ', 'likes\\n', 'apples,', 'wholesome,', 'erry;', 'apple.', 'fruit ', 'wholesome.', 'dumplings,', 'dumpling.', 'oblige ', 'shop,', 'ord?', 'pardon.', 'collection ', 'ribbons\\n', 'town.', 'wrist;', 'medley,', 'fix.', 'hurchill!', 'fasten ', 'rivet;', 'job\\n', 'excessively.', 'exceeds ', 'warmly.', 'fondest ', 'parent ', 'rivet.', 'job ', 'baked\\n', 'closet,', 'some,', 'finest-', 'looking\\n', 'justice-', 'apples\\n', 'baking,', 'sack ', 'apple ', 'trees-', 'orchard ', 'famous\\n', 'shocked ', 'enjoyed ', 'stock.', 'supply;', 'use.', 'arkins ', 'left-', 'already;', 'quarrelled ', 'quarrelled,', 'distressed\\n', 'gone;', 'left.', 'basket ', 'bushel ', 'obliged,', 'suppose.', 'atty,', 'bake ', 'boil.', 'many;', 'illiam,', 'odges,', 'tart ', 'spring.', 'odges ', 'would_', 'sometimes,', 'sacks ', 'sold,', 'signify ', 'remainder.', 'unluckily,', 'visitors\\n', 'upstairs ', 'narration ', 'pursued ', 'desultory ', 'care,', 'turning.', 'staircase-', 'narrower ', 'care.', 'foot.', 'entered,', 'itself;', 'deprived ', 'employment,', 'slumbering ', 'table\\n', 'deedily ', 'spectacles,', 'pianoforte.', 'usy ', 'earlier ', 'calculated.', 'useful;', 'succeed.', 'yet?', 'earn ', 'livelihood ', 'silversmith ', 'rate.', 'uninterruptedly,', 'steadily,', 'firm;', 'unevenness ', 'floor,', 'wedging ', 'paper.', 'trying\\n', 'nerves;', 'possessed ', 'emotion;', 'performance;', 'bars ', 'feebly ', 'discrimination,', 'pronounced ', 'promise.', 'employ,', 'eymouth;', 'notes ', 'all_', 'party_', 'prize.', 'directions,', 'roadwood ', 'round.', 'whisper;', 'random ', 'guess.', 'mercy.', 'reland ', \"instrument'\", 'business\\n', 'time?', 'commission ', 'indefinite ', 'contingencies ', 'conveniences?', 'paused.', 'calmness,', 'confidence.', 'onjecture-', 'aye,', 'conjectures ', 'conjecture ', 'firm.', 'talks,', 'workmen,', 'tongues;', 'labourers ', 'word-', 'conjecturing.', 'restoring ', 'healed ', 'escape\\n', 'waltzes\\n', 'longer;', 'worlds-', 'worlds ', 'give-', 'tune ', 'has_', 'coloured ', 'deeply,', 'played\\n', 'ramer.', 'melodies.', 'quarter,', 'expect.', 'thoughtful\\n', 'particularly;', 'shews ', 'hastily\\n', 'incomplete.', 'rue ', 'amused;', 'caught\\n', 'blush\\n', 'compunction\\n', 'upright,', 'apparently ', 'cherishing ', 'reprehensible ', 'whispering,', 'meaning.', 'idea.', 'communicated ', 'key ', 'obin_', 'dair_', 'hortly ', 'window,', 'descried ', 'horse-', 'declare!', 'cold;', 'dare\\n', 'delightful\\n', 'honoured!', 'casement ', 'apartment.', 'turn,', 'commandingly ', 'airfax?', 'listeners ', 'scepticism.', 'ingston-', 'send.', 'deliberating ', 'friends!', 'minutes.', 'sorry!', 'dancing?', 'delightful?', 'more)', 'dances\\n', 'ngland.', 'consequence-', 'shocked!', 'apples!', 'store ', 'apples.', 'thanked.', 'stop.', 'offers,', 'might,', 'loud.', 'ingston?', 'going?', 'watches,', 'nstances ', 'successively,', 'description,', 'injury\\n', 'accrue ', 'made-', 'felicities ', 'motion ', 'slightly,', 'felt-', 'idea;', 'zeal ', 'difficulties,', 'accommodation\\n', 'danced-', 'compare\\n', 'wicked ', 'aids ', 'pacing ', 'hold-', 'dimensions ', 'discovering,', 'largest.', 'request,', 'collected,', 'musician ', 'readiest ', 'acquiescence.', 'willingly ', 'undertook ', 'dance;', 'followed,', 'reckoning ', 'portioning ', 'space ', 'couple.', 'five,', 'ilberts,', 'five;', 'couple?', 'worth\\n', 'invite_', 'iss_', 'ilbert ', 'rs_', 'ox;', 'cousins ', 'included,', 'speculation ', 'rooms,', 'passage?', 'awkward;', 'supper;', 'opposed ', 'earnestly,', 'score ', 'persevered ', 'imprudence.', 'wild ', 'lower)', 'thoughtless.', 'inconsiderately.', 'draught.', 'charge.', 'passage ', 'scheme\\n', 'resorted ', 'space\\n', 'deemed ', 'sufficient\\n', 'couple,', 'endeavoured ', 'magnificent,', 'unnecessary ', 'demurred.', 'crowd-', 'crowd;', 'in?', 'gravely ', 'measuring,', 'unreasonable.', 'dreadful\\n', 'close!', 'crowd ', 'room!', 'pictures ', 'xquisite,', 'exquisite!', 'stand\\n', 'willed,', 'forgave\\n', 'marry_', 'consider,', 'preference,', 'temper;', 'purposes ', 'entered\\n', 'certified ', 'continuance\\n', 'scheme.', 'terrors ', 'rooms.', 'proposal\\n', 'subject:', 'waits ', 'upon.', 'dances ', 'projected ', 'ball,', 'nn?', 'rown!', 'cannot,', 'accommodations,', 'grateful\\n', 'sees\\n', 'right!', 'securing\\n', 'any_', 'thing_', 'yield.', 'exchange?', 'consent-', 'consent?', 'admirable;', 'improvement\\n', 'improvement?', 'repeat ', 'explain ', 'fully\\n', 'comprehended;', 'new,', 'representations\\n', 'acceptable.', 'improvement-', 'plan-', 'inn ', 'damp\\n', 'dangerous;', 'aired,', 'inhabited.', 'dance,', 'recommendations ', 'andalls!', 'alteration,', 'safer ', 'larger,', 'evening;', 'windows,', 'cold\\n', 'heated ', 'bodies,', 'sir)', 'windows!', 'surely,', 'imprudent!', 'ancing ', 'was)', 'thoughtless ', 'window-', 'curtain,', 'sash,', 'suspected.', 'difference;', 'limited-', 'contrived\\n', 'stable.', 'complains;', 'aired-', 'tokes ', 'trusted?', 'undertakes ', 'carefulness ', 'measles?', 'aylor_', 'undertakes\\n', 'wrap ', 'fears,', 'measles;', \"erry'\", 'sort-', 'measles\\n', 'ones\\n', 'measles,', 'capabilities ', 'advice\\n', 'spot.', 'both.', 'satisfactorily ', 'council;', 'rown.', 'distress;', 'ook!', 'dirty;', 'wainscot\\n', 'forlorn ', 'signify?', 'candlelight.', 'clean ', 'club-', 'nights.', 'exchanged ', 'omen ', 'nonsenses\\n', 'needless ', 'perplexity,', 'disdain.', \"ballroom'\", 'built,', 'addition.', 'conveniently ', 'voted\\n', 'selves,', 'supper?', 'draughts\\n', 'passage;', 'miserably ', 'crowded\\n', 'supper.', 'sandwiches,', 'scouted ', 'suggestion.', 'supper,', 'infamous ', 'fraud ', 'expediency,', 'is_', 'small.', 'briskly ', 'passage,', 'draught ', 'stairs.', 'generally\\n', \"neighbours'\", 'opinions.', 'chief ', 'instance.', 'them?', 'nearer.', 'understand\\n', 'inclinations ', 'council.', 'uppose ', 'us?', 'hesitating,', 'amusing,', 'amusing!', 'fond\\n', 'talk.', 'approbation.', 'scheme,', 'properer ', 'etch ', 'lesson ', 'oth ', 'lady?', 'lady!', 'blockhead,', 'recollect.', 'ndoubtedly ', 'ran.', 'ong ', 'brisk-', 'tempered\\n', 'trifling;', 'decision.', 'rest,', 'smooth.', 'minor ', 'arrangements ', 'lights ', 'trifles\\n', 'tokes.', 'fortnight,', 'cordially,', 'must.', 'wanted;', 'approver,', 'welcome.', 'incessant,', 'fro,', 'suggesting,', 'attending,', 'hero ', 'overhearing ', 'whisper ', 'would!', 'ball\\n', 'within\\n', 'granted ', 'term ', 'spite\\n', 'confidence,', 'impossible\\n', 'feasible.', 'properly\\n', 'planning,', 'proceeding ', 'uncertainty-', 'risk-', 'risk,', 'gracious,', 'opposed.', 'prosperous;', 'removal ', 'consulted,', 'affording\\n', 'noisy ', 'over\\n', \"arkins'\", \"week'\", 'leasure ', 'dancing!', 'ine ', 'dancing,', 'virtue,', 'reward.', 'usually\\n', 'aimed ', 'indignant;', 'reprobating ', 'degree.', 'animated-', 'hearted-', 'said;', 'ball.', 'arkins.', 'surmise.', 'las!', 'joyful ', 'urge ', \"nephew'\", 'unwell-', 'unwell ', 'husband)', 'unwillingness ', 'constant\\n', 'delay.', 'forwarded ', 'inevitable.', 'lessen ', 'repugnance.', 'illnesses;', 'convenience.', 'finale ', 'lament\\n', 'exclaim.', 'feeling!', 'wretched!', 'been!', 'partner ', 'happiest!', 'consolation.', 'distinct.', 'treated;', 'disappointed;', 'reflected ', 'sorrowful\\n', 'total ', 'redeem ', 'dejection\\n', 'minutes;', 'horrid ', 'worst.', 'head)', 'uncertainty ', 'return!', 'zeal!', 'cares!', 'town\\n', 'spring-', 'afraid-', 'ball!', 'seize ', 'once?', 'destroyed ', 'preparation,', 'preparation!', 'merry ', 'wise.', 'engagement.', 'graciously.', 'continued;', 'before!', 'appy ', 'doubtfully ', 'first?', 'surpass ', 'expectations?', 'consciously;', 'sentiment,', 'here:', 'unlucky!', 'argumentative ', 'yours.', 'have_', 'absent.', 'must_', 'at;', 'then\"', 'hesitated,', 'suspicion\"', 'forerunner ', 'orcing ', 'calmly ', 'reflecting\\n', 'cause_', 'encouraging ', 'warm\"', 'embarrassed.', 'ended,', 'appearance?', 'followed;', 'composed.', 'completed ', 'incapable ', 'procrastinating ', 'inevitable,', 'doubtful,', 'agree,', 'correspond ', 'correspondent,', 'absent!', 'ood-', 'hort ', 'notice-', 'weeks-', 'liveliness,', 'manners!', 'almost_', 'constancy ', 'point;', 'previous\\n', 'listlessness,', 'weariness,', 'stupidity,', \"thing'\", 'insipid ', 'oddest ', 'fellow-', 'mourners ', 'likes.', 'triumphant ', 'contradicted ', 'opportunities ', 'luck;', 'luck!', 'honest ', 'woeful ', 'odious.', 'headache ', 'impute ', 'unbecoming\\n', 'languor ', 'varied ', 'nor,', 'usual;', 'cheerful;', 'faults;', 'working,', 'thousand\\n', 'dialogues,', 'inventing ', 'letters;', 'imaginary ', 'refused_', 'subside ', 'quit ', 'struggle ', 'foresee ', 'sacrifice_', 'replies,', 'negatives,', 'allusion ', 'sacrifice.', 'denotes ', 'continue,', 'guard ', 'inexcusable ', 'hitherto.', 'wretched.', 'supposition\\n', 'is;', 'will;', 'build ', 'constancy.', 'changeable.', 'thankful\\n', 'involved.', 'easily.', 'perusal ', 'undervalued ', 'strength.', 'honourable,', 'exterior ', 'local\\n', 'attractive,', 'precision.', 'suspicious ', 'flourishes ', 'apology ', 'keenly ', 'restraints ', 'propriety.', 'oodhouse_', 'unadorned ', 'wreath ', 'discern\\n', 'conveyed.', 'ompressed ', 'lowest ', 'vacant\\n', 'uesday,', 'adieus ', 'remembered ', 'anticipated;', 'recovering,', 'imagination,', 'ratifying,', 'stimulative ', 'sentiments,', 'folded ', 'warmth,', 'writer,', 'learn\\n', 'unchanged.', 'subsequent ', 'clothed ', 'affections.', 'impossible?', 'o.', 'greatly ', 'probabilities ', 'advantageous ', 'indulging ', 'speculations.', 'confirming ', 'behalf,', 'seldom;', 'latest ', 'disappearance,', 'bride\"', 'mouth,', 'forgotten.', 'lately\\n', 'things;', 'evident ', 'attained ', 'approach-', 'bell-', 'ringing,', 'reasonings ', 'soothings ', 'give.', 'ingenuity ', 'patience;', 'convincing ', 'producing\\n', 'submissively,', 'true-', 'described-', 'longer\"', 'avail,', 'ground.', 'reproof ', 'into.', 'eceived ', 'painful ', 'exclamation.', 'exert ', 'important\\n', 'consideration\\n', 'tranquillity.', 'motives ', 'important-', 'due-', 'appeal ', 'extremely,', 'violence ', 'comforted ', 'remained\\n', 'ant ', 'nobody\\n', 'ungrateful ', 'tenderness ', 'armth ', 'beat ', 'attraction,', 'beloved-', 'prize ', 'gives.', 'clearest-', 'headed,', 'longest-', 'sighted,', 'breathing.', 'such-', 'invaluable.', 'names;', 'changes ', 'church:', 'devotion ', 'interrupted,', 'bride ', 'respects;', 'artifice ', 'retreated ', 'recollecting_', 'vexatious\\n', 'recur.', 'ompliments,', 'blunders;', 'embarrassment ', 'shorten ', 'elegance;', 'stranger,', 'bride,', 'face\\n', 'unpretty;', 'feature,', 'elegant.', 'permit ', 'hasty ', 'witty ', 'visits,', 'clothes,', 'bashfulness,', 'peculiarly\\n', 'wise,', 'affectedly,', 'quitted\\n', 'charming?', 'very-', 'beautiful.', 'fortune;', 'might;', 'afraid;', 'deserves.', 'ugusta.', 'delightful!', 'composedly ', 'importance;', 'shine ', 'familiar;', 'living;', 'were;', 'aple ', 'rove,', \"uckling'\", 'seat;', 'rove.', 'grounds ', 'pretty;', 'built.', 'favourably\\n', 'entrance,', 'imagine.', 'rove ', 'likeness!', 'size\\n', 'rove;', 'appealed ', 'astonishingly ', 'like?', 'staircase ', 'exclaiming!', 'reminded ', 'sentiment)', 'undoubtedly.', 'transplanted,', 'matrimony.', 'rove!', 'grounds,', 'strikingly\\n', 'laurels ', 'profusion ', 'lawn;', 'bench ', 'enchanted ', 'eople ', 'extensive ', 'grounds\\n', 'style.', 'attack ', 'double-', 'dyed,', 'overrated ', 'beauties.', 'ngland,', 'counties,', 'urry.', 'smile.', 'county ', 'silenced.', 'farthest,', 'exploring.', 'explore\\n', 'barouche-', 'landau,', 'perfectly;', 'saying\\n', 'our_', 'explore ', 'beauties ', 'chaise,', 'draws ', 'landau;', 'preferable.', 'wishes\\n', 'uckling ', 'explored ', \"ing'\", 'landau.', 'summer?', 'attract ', 'believe;', 'disposed\\n', 'am.', 'proverb ', 'elina ', 'stuck ', 'landau ', 'ugusta,', 'stir\\n', 'park ', 'paling.', 'seclusion.', 'advisable ', 'mix ', 'oodhouse)', 'drawback.', 'ath?', 'formerly;', 'receiving\\n', 'benefit;', 'unknown\\n', 'pity;', 'waters ', 'wonderful ', 'relief\\n', 'instances ', 'depressed.', 'ath\\n', 'understood.', 'secluded ', 'host ', 'artridge,', 'resided\\n', 'ath,', 'impolite.', 'called\\n', 'introduction_', 'auspices\\n', 'dashing ', 'widow,', 'boarder,', 'live!', 'reproofs ', 'outrage ', 'changed ', 'precedes ', 'performer.', 'performer!', 'onsider ', 'came.', 'doatingly ', 'music-', 'passionately ', 'fond;', 'friends\\n', 'devoid ', 'mediocre_', 'delightfully.', 'honestly ', 'expressing\\n', 'accustomed ', 'apprehension.', 'the_', 'world_', 'balls,', 'plays-', 'fear\\n', 'retirement.', 'lessed ', 'resources ', 'smaller-', 'rooms\\n', 'thought.', 'description.', 'spacious ', 'apartments.', 'blank\\n', 'hesitate\\n', 'outstepped ', 'pardoned,', 'motive.', 'circle.', 'concerts ', 'establish ', 'club,', 'weekly ', 'meetings\\n', 'ours.', 'plan?', 'ourselves,', 'allies.', 'practice;', 'surely?', 'tremble.', 'touches\\n', 'sweetly.', 'effereys-', 'lara ', 'ilmans,', 'ird ', 'ooper;', 'enumerate.', 'fright.', 'elina;', 'housekeeper.', 'train-', 'extremely.', 'motherly\\n', 'wins ', 'think?', 'affirmative ', 'aving ', 'lady-', 'like!', 'gentlewoman.', 'simplicity,', 'safest\\n', 'there?', 'acquaintance-', 'lucky?', 'mentioned,', 'caro ', 'sposo ', 'ecidedly,', 'appily,', 'breathe.', 'nsufferable ', 'orse ', 'bsolutely ', 'discover ', 'gentleman!', 'upstart,', 'caro_', 'sposo_', 'resources,', 'airs ', 'pretension ', 'underbred ', 'finery.', 'club!', 'bosom ', 'stonished ', 'gentlewoman!', 'equal.', 'comparison.', 'diverted ', 'am-', 'lways ', 'of!', 'out!', 'glibly ', 'thoughts,', \"ltons'\", 'departure,', 'attending.', 'lady;', 'hurts ', 'ear.', 'nice;', 'voices;', 'speaks\\n', 'occasion;', 'should_', 'remiss.', 'invalid ', 'ane.', 'es:', 'respects\\n', 'deficient.', 'matrimony;', 'bride_', 'neglected.', 'ore ', 'avowedly ', 'lending ', 'baits ', 'ladies.', 'breeding,', 'offences,', 'retract ', 'ill\\n', 'correct.', 'interview,', 'important,', 'presuming,', 'familiar,', 'bred.', 'accomplishment,', 'enliven ', 'improve\\n', 'neighbourhood;', 'held\\n', 'surpass.', 'differently\\n', 'proud.', 'congratulating ', 'commend,', 'judging,', 'satisfied;', 'unimpeded ', 'contribution ', 'dressed.', 'ffended,', 'distant;', 'necessarily ', 'dislike.', 'sneering ', 'negligent.', 'work\\n', 'cure;', 'behaviour\\n', 'conjugal ', 'colouring ', 'favourable\\n', 'begin\\n', 'enmity ', 'shew\\n', 'disrespect ', 'broader ', 'vent ', 'contemptuous\\n', 'treatment ', 'warfare ', 'admiration-', 'solicitation,', 'plea,', 'privilege,', 'befriend ', 'forfeited ', 'knight-', 'errantry ', 'rave ', 'ladylike-', 'talents!', 'talents.', 'decidedly\\n', 'charming!', 'warmth-', 'calculated ', 'one!', 'forward.', 'suffered\\n', 'unknown.', 'poet,', 'flower ', 'unseen,', 'fragrance ', 'desert ', 'verified ', 'calm ', 'answer-', 'retirement,', 'obscurity,', 'end!', 'timid ', 'timidity-', 'prepossessing.', 'than\"', 'act.', 'example,', 'situations.', 'more_', 'partake ', 'housekeeping,', 'expense.', 'be-', 'uckling,', 'income.', 'introduce\\n', 'can,', 'eligible ', 'extensive,', 'shortly.', 'extremely;', 'gets\\n', 'wear ', 'conciliating.', 'exploring ', 'punishment ', 'merited!', 'protection\\n', 'eavens!', 'dares ', 'ing ', 'limits ', 'licentiousness\\n', 'tongue!', 'paradings ', 'exclusively\\n', 'herself-', 'disgustingly ', 'decorated ', 'peace-', 'guidance,', 'patroness ', 'sharing ', 'meditated,', 'guileless\\n', 'warmth.', 'worthies-', 'affable,', 'condescending ', 'considered.', 'accept\\n', 'ltons,', 'ltons!', 'astonishing!', 'riddle,', 'riddle!', 'sort!', 'penury\\n', 'professedly ', 'months;', 'idsummer,', 'ccording ', 'pressingly.', 'sent,', 'contrived-', 'exist;', 'motive,', 'appears,', 'refusing\\n', 'inflicted ', 'fear,', 'somewhere.', 'ixons_', 'decree ', 'issued ', 'ltons?', 'puzzle.', 'tiresome.', 'quits,', 'condemn ', 'associate,', 'reproachful ', 'mma)', 'receives\\n', 'glance;', 'faint ', 'imagined,', 'gratify ', 'inviting.', 'eagerness\\n', 'dictated,', 'to_', 'of_', 'pronouns ', 'thou,', 'plainest\\n', 'amongst ', 'implanted.', 'hints ', 'awes\\n', 'treats ', 'fell\\n', 'prevent\\n', 'comparative ', 'littleness ', 'action,', 'delicacy\\n', 'irresolute ', 'stopping-', 'once-', 'on-', 'lower ', 'buttons ', 'thick\\n', 'leather ', 'gaiters,', 'colour ', 'answered,', 'behindhand.', 'stopped.', 'foot ', 'pressure ', 'exclaim,', 'thoughtful-', 'settling ', 'reverie ', 'surprize.', 'silenced ', 'suppose?', 'hint;', 'mistaken;', 'wiser\\n', 'wittier ', 'unlike ', 'calls ', 'appellation ', 'familiar ', 'vulgarity?', 'nightley-', 'ole?', 'accepts ', 'consents ', 'weighs ', 'faith ', 'deed;', 'restraint ', 'breeding.', 'insulting ', 'visitor\\n', 'service;', 'detailing ', 'magnificent ', 'intentions,', 'procuring\\n', 'permanent ', 'accuse ', 'sensibilities,', 'strong-', 'forbearance,', 'controul;', 'openness.', 'alluded ', 'conversed ', 'beyond.', 'triumphantly ', 'inner-', 'invitations\\n', 'flowed ', 'apprehending\\n', 'lead\\n', 'dissipated.', 'formidable.', 'fewer\\n', 'dinners.', 'rout-', 'cakes,', 'ice ', 'behind-', 'knowledge\\n', 'party-', 'tables\\n', 'candles ', 'unbroken ', 'packs\\n', 'style-', 'waiters ', 'establishment ', 'furnish,', 'refreshments ', 'order.', 'dinner\\n', 'ltons.', 'exposed ', 'odious ', 'pitiful ', 'resentment.', 'unwillingness,', 'stipulation ', 'bottom\\n', 'deciding\\n', 'esides ', 'eighth:', 'accounts ', 'begging ', 'help.', 'uncomfortable.', 'wishing.', 'fortitude\\n', 'eighth,', 'ince ', 'conscience-', 'stricken ', 'relates ', 'meant-', 'shameful.', 'neglected ', 'occurred.', 'grandpapa ', 'papa ', 'professional ', 'eight\\n', 'bear-', 'ninth-', 'ninth ', 'forty-', 'nine,', 'immaterial.', 'reality ', 'exchange ', 'reluctant ', 'came;', 'unexpectedly ', 'summoned ', 'ease;', 'boys\\n', 'fate,', 'vexation.', 'assembled,', 'devote ', 'waited\\n', 'elegant\\n', 'pearls ', 'silence-', 'information-', 'breakfast ', 'returning\\n', 'wet.', 'office,', 'fetch\\n', 'saves ', 'trouble,', 'six\\n', 'drops ', 'count ', 'lives.', 'situated ', 'simply\\n', 'ndifferent!', 'etters ', 'indifference;', 'curse.', 'business;', 'letters\\n', 'usiness,', 'difference,', 'outlived ', 'imply ', 'brings.', 'ime ', 'circle-', 'ten\\n', 'hence ', 'concentrated ', 'pleasant\\n', 'you\"', 'quivering ', 'lip,', 'tear ', 'claimed ', 'guests,', 'mildest ', 'urbanity,', 'oung ', 'plants.', 'stockings?', 'grand-', 'mama ', 'goodness,', 'polite ', 'remonstrances ', 'hear?', 'office\\n', 'rain!', 'patiently ', 'positively\\n', 'persuasively,', 'iable ', 'colds,', 'careful,', 'letters,', 'cough ', 'had?', 'reasonable.', 'shall_', 'rejoined\\n', 'again:', 'nodding ', 'significantly-', 'fetches\\n', 'name)', 'yours ', 'obviate\\n', 'accommodation.', 'somewhere,', 'object;', 'affectedly)', 'determine\\n', 'concurrence ', 'lord ', 'cautious ', 'insuperable ', 'xcuse ', 'consent\\n', 'arrangement,', 'needlessly ', 'servant.', \"grandmama'\", 'conquered;', 'instead\\n', 'establishment!', 'regularity ', 'regulated.', 'negligence ', 'blunder ', 'appears!', 'passing\\n', 'kingdom,', 'wrong-', 'million,', 'lost!', 'variety\\n', 'deciphered,', 'increases ', 'clerks ', 'habit.', 'improves ', 'explanation,', 'capacity.', 'served ', 'varieties ', 'handwriting ', 'made.', 'asserted,', 'prevails ', 'teaches,', 'females,', 'teaching ', 'get.', 'apart.', 'hesitatingly,', 'strongest.', 'beautifully,', 'eston\"', 'sigh\\n', 'handwriting\"', 'also\\n', 'perceiving ', 'reflect,', 'people?', 'necessary\\n', 'roundabout ', 'phrase?', 'correspondent ', 'orkshire;', 'distress.', 'saw.', 'small-', 'writing.', 'vindicated ', 'base ', 'aspersion.', 'strength-', 'put\\n', 'desk,', 'specimen.', 'employing ', 'employed\"', 'dryly,', 'inner ', 'request\\n', 'fetching ', 'wet ', 'suspected\\n', 'had_', 'encountered\\n', 'usual-', 'expedition\\n', 'mails;', \"tongue'\", 'end-', 'abstained.', 'followed\\n', 'parties;', 'engross ', 'choice.', 'repressed ', 'whisper,', 'subjects:', 'letters-', 'discussion;', 'meditated ', 'activity.', 'pril ', 'come!', 'une ', 'month-', 'nothing?', 'inquiry;', 'aware!', 'candidates ', 'first_', 'cousin ', 'ragge,', 'infinity\\n', 'applications;', 'moves ', 'ax-', 'schoolroom!', 'desirable!', 'kingdom\\n', \"ragge'\", 'midsummer,', 'dispose ', 'inquiries\\n', 'rouble!', 'trouble;', 'artridge ', 'strict\\n', 'eligible.', 'nearer,', 'trouble.', 'pril,', 'uly,', 'accomplish ', 'inexperience ', 'amuses ', 'deserve,', 'occurrence,', 'intention;', 'unemployed.', 'offices,', 'something-', 'ffices ', 'sale-', 'flesh-', 'intellect.', 'flesh!', 'fling\\n', 'slave-', 'abolition.', 'governess-', 'view;', 'widely ', 'victims,', 'where\\n', 'lies.', 'advertising ', 'applying ', 'offer,', 'obliging;', 'indifferent;', 'rich;', 'mortifications,', 'greater;', 'entitle ', 'chose;', 'harp,', 'stipulate ', 'honourably ', 'before\\n', 'gaily,', 'change\\n', 'beau ', 'protest!', 'men!', 'quaint,', 'politeness;', 'disgusts ', 'assure\\n', 'jealous.', \"elina'\", 'choice-', 'trimmed;', 'trimmed-', 'ornaments ', 'simplicity;', 'infinitely\\n', 'preferable ', 'minority,', 'show ', 'finery\\n', 'trimming\\n', 'silver ', 'poplin.', 'reassembled ', 'judges,', 'mute ', 'astonishment.', 'finishing\\n', 'efforts ', 'numbers,', 'deeply.', 'motion\\n', 'crowd,', 'alone!', 'sleety ', 'finger ', 'motive;', 'prolong ', 'shrugged ', 'shoulders,', 'unsuspicious ', 'indignation\\n', 'exciting,', 'talker,', 'confers,', 'rest;', 'servants\\n', 'forgotten,', 'communication,', 'lines-', 'smiling\\n', 'subdued,', 'audible ', 'see;', 'nne,', 'latest,', 'wanted.', 'all?', 'open;', 'fluently.', 'weighing ', 'agitation,', 'observant,', 'communicative\\n', 'overheard ', 'granted,', 'delighted.', 'entitled,', 'happy;', 'conversation\\n', 'positive\\n', 'interruption;', 'disengaged,', 'intended\\n', 'presume,', 'continued-', 'icarage.', 'directed\\n', 'eston-', 'precedent ', 'follow\\n', 'example.', 'expect,', 'ourselves!', 'fellows.', 'hurry,', 'southward ', 'orkshire,', 'orkshire?', 'ninety ', 'journey.', 'ixty-', 'distance,', 'fortune?', 'ragge ', 'again\\n', 'as_', 'understand_', 'complained,', 'conservatory ', 's!', 'weakness-', 'constitutions,', 'grant ', 'sex.', 'antagonist ', 'inn,', 'incredible ', 'nicety.', 'travels ', 'sheets;', 'precaution.', 'same?', 'land ', 'for\"', 'interposed ', 'beheld.', 'disclaiming ', 'sister\\n', 'retract,', 'suspect-', 'illness.', 'lifton?', 'stationary ', 'retired ', 'retired.', 'ye-', 'immense ', 'plantation ', 'elina\\n', 'r,', 'resources-', 'independent\\n', 'ebruary ', 'addition_', 'presume\\n', 'madam!', 'uncertain ', 'persuasion ', 'desponding.', 'spare\\n', 'again?', 'forth-', 'happen\\n', 'untowardly ', 'mend ', 'courtship,', 'exclaim ', 'ay_', \"ymen'\", 'saffron ', 'robe ', 'dispel ', 'gloomy ', 'cheerfuller ', 'views!', 'disappointments ', 'carriage;', 'despair.', 'coughing,', 'mentioning ', 'ay.', 'ordered,', 'nscombe-', 'longest;', 'genial ', 'inviting ', 'hot ', 'exercise.', 'wet,', 'cheerless ', 'prodigy.', 'gratifying ', 'implicitly ', 'notice\\n', 'flatterer.', 'musing.', 'injustice;', 'traits ', 'instigator.', 'pride;', \"wife'\", 's:', 'indolent,', 'nobody,', 'helpless ', 'tiresome;', 'insolence!', 'inclines ', 'less\\n', 'blood.', 'mighty ', 'claims:', 'upstart.', 'upstarts.', 'disgust\\n', 'annoyance ', 'airs\\n', 'themselves!', 'upman,', 'encumbered ', 'airs,', 'families.', 'est ', 'knows.', 'irmingham,', 'irmingham.', 'direful ', 'sound:', 'upmans,', 'evidently\\n', 'happens\\n', 'nearest ', 'eleven ', 'resident ', 'ea ', 'round,', 'tea,', 'cards.', 'pay,', 'worry ', 'talkative ', 'boys;', 'concise ', 'comprised ', 'spoil ', 'physic ', 'preclude ', 'indulgence ', 'physic.', 'troublesome,', 'encumbrance ', 'engagements\\n', 'ncrease!', 'ertainly;', 'ifference!', 'company\\n', 'itness ', 'party!', 'gaieties;', 'dinners ', 'goings-', 'heretofore,', 'leisure\\n', 'boys.', 'mine-', 'been?', 'ining ', 'nightley)', 'unnoticed.', 'series ', 'dissipation ', 'unt ', 'fare ', 'ncle ', 'accounts.', 'smile;', 'succeeded\\n', 'embarrassed;', 'subsided ', 'distressing.', 'separation\\n', 'cooled ', 'evils\\n', 'entangled ', 'absolute ', 'anticipating ', 'crisis,', 'tranquil ', 'rode\\n', 'hours;', 'observation,', 'speedily ', 'influenced,', 'friendliness.', 'bsence,', 'stories:', 'calm;', 'fluttered;', 'ively ', 'liveliness ', 'belief ', 'group ', 'passed-', 'call,', 'discreet ', 'trusting ', 'hoping,', 'prevented.', \"andall'\", 'sincere,', 'inferred ', 'wilful ', 'disorder.', 'certain;', 'declared ', 'weaker ', 'medicine ', 'remove,', 'existence ', 'doubts,', 'complaints ', 'imaginary,', 'irritation\\n', 'suffering;', 'end,', 'remove\\n', 'ichmond.', 'recommended\\n', 'medical ', 'eminent ', 'ready-', 'favourite\\n', 'appreciate ', 'friends-', 'une.', 'prospects.', 'offered.', 'indisputable.', 'neighbourhood.', 'miles\\n', 'ride.', 'ichmond ', 'miles-', 'nay,', 'eighteen-', 'eighteen\\n', 'anchester-', 'obstacle.', 'returning.', 'nscombe;', 'intercourse.', 'nearer!', 'resumed,', 'ichmond,', 'morrows\\n', 'lightened ', 'ebruary.', 'sanguinely ', 'approached,', 'arrived;', 'watching,', 'witness ', 'crowd.', 'arriving ', 'quiet\\n', 'watch;', 'contents ', 'early!', 'exclaim;', 'desire,', 'judgment;', 'closely ', 'cousins,', 'earnestness,', 'errand,', 'inspection.', 'depended,', 'intimates ', 'confidantes,', 'scale ', 'vanity.', 'heartedness\\n', 'eneral ', 'benevolence,', 'looked,', 'modes,', 'started,', 'privy ', 'councillors ', 'larger.', 'stopped\\n', 'steadily;', 'restlessness,', 'carriages,', 'begin,', 'proprieties ', 'graciousness.', 'qualifying\\n', 'returned.', 'umbrellas,', 'father:', 'forgotten:', 'went.', 'following;', 'slowly,', 'hearing.', 'candidly ', 'precisely\\n', 'gentleman,', 'puppyism.', 'puppies-', 'tolerated ', 'elina,', 'chained;', 'expeditious!', 'gestures ', 'movements ', 'admitted\\n', 'signify.', 'thick ', 'declares-', 'door)', 'brilliant\\n', 'xcellently ', 'contrived,', 'lighted ', 'up!', 'look!', \"laddin'\", 'lamp.', 'tokes\\n', 'entrance.', 'tokes,', 'headache!', 'elighted ', 'ready.', 'score.', 'shawl-', 'hesitated ', 'olive.', 'feet?', 'drop ', 'afraid:', 'mat ', 'upon-', 'politeness.', 'since;', 'hurchill?', \"here'\", 'fairy-', 'land!', 'transformation!', 'complacently)', 'rude-', 'hair?', 'hair!', 'hairdresser ', 'ughes ', 'declare-', 'ughes.', 'ichard?', 'town-', 'tway,', 'tway ', 'aroline.', 'host\\n', 'eorge ', 'rthur!', 'carriage?', 'fire!', 'roasted.', 'coffee,', 'coffee.', 'hurry-', 'thoughtful.', 'determine.', 'complimented ', 'gown?', 'trimming?', 'patient ', 'estons-', 'honour-', 'inferior\\n', 'dancer,', 'styles ', 'suit.', 'vigorously,', 'praises,', 'drowned ', 'suspension ', 'tones ', 'distinctly\\n', 'exclaiming,', 'seclusion?', 'ane!', 'displeasure.', 'easy-', 'disapprove ', 'whisper.', 'ungrateful.', 'ngrateful!', 'frown ', 'smile-', 'mean.', 'father?', 'ball;', 'interfered ', 'fortitude.', 'marrying.', 'rub,', 'forming,', 'festivity ', 'standers-', 'classing ', 'husbands,', 'fathers,', 'players,', 'pretending ', 'rubbers ', 'firm,', 'bulky ', 'forms ', 'shoulders ', 'partner,', 'row ', 'steps ', 'gentlemanlike\\n', 'danced,', 'ballroom ', 'criticising ', 'flirtation ', 'between\\n', 'indubitable.', 'pleasantly.', 'cares,', 'incessant\\n', 'bestowed ', 'recordable ', 'events,', 'productive\\n', 'supper ', 'partner;', 'down;', 'dancers,', 'wonder!', 'sauntering ', 'avoided:', 'scape,', 'sitters-', 'liberty,', 'maintaining ', 'omit ', 'bottom,', 'significant ', 'glances.', 'readily,', 'dancer.', 'ilbert.', 'observed.', 'obliging-', 'command-', 'seat.', 'arranging ', 'glee ', 'glow,', 'feared\\n', 'hot.', 'set!', 'delighted,', 'instant.', 'cruel ', 'distinction\\n', 'bounded ', 'middle,', 'trusted)', 'foolish.', 'hardened ', 'audibly ', 'goodnatured,', 'declare.', 'interruption,', 'spoon.', 'tippet.', 'begs ', 'draughts ', 'done-', 'nailed ', 'uantities ', 'matting-', 'on!', 'gratified!', 'xcellent ', 'randmama ', 'chat,', 'backgammon.', 'downstairs,', 'biscuits ', 'away:', 'throws:', 'inquired ', 'partners.', 'forestall ', 'tway;', 'morrow:', 'next,', 'rather?', 'helpless.', 'top,', 'looks!', 'eautiful ', 'lace!', 'train.', 'queen ', 'evening!', 'steps,', 'steps.', 'andles ', 'everywhere.', 'telling\\n', 'biscuits,', 'fricassee ', 'sweetbread ', 'asparagus\\n', 'asparagus ', 'asparagus-', 'concerned!', 'amazement!', 'uch\\n', 'profusion!', 'since-', 'sit?', 'nywhere,', 'side?', 'dishes ', 'grandmama?', 'oup ', 'smells ', 'excellent,', 'irresistibly ', 'reprobation ', 'conduct;', 'unpardonable ', 'rudeness;', 'due\\n', 'censure.', 'wounding ', 'why\\n', 'enemies?', 'penetration;', 'scold ', 'reflections.', 'flatterers?', 'wrong?', 'spirit.', 'leads\\n', 'discovered,', 'not:', 'blunders!', 'justice\\n', 'without.', 'unpretending,', 'single-', 'minded,', 'girl-', 'conversable ', 'gratified.', 'bustle\\n', 'doing?', 'lazy!', 'asleep!', 'hom ', 'with?', 'improper.', 'rother ', 'sister!', 'considerable\\n', 'lawn ', 'enjoy.', 'respecting\\n', 'alike;', 'concession ', 'gratifying.', 'impertinence ', 'threatened ', 'ruin ', 'satisfactions;', 'result-', 'infatuation.', 'ballroom,', 'suddenly ', 'enabled ', 'fever\\n', 'harbour ', 'pulse ', 'quickened ', 'injurious ', 'courtesy.', 'pointed\\n', 'requisite.', 'stopping\\n', 'through,', 'freshened ', 'demands ', 'grandpapa,', 'iron ', 'leaning ', 'gates ', 'front-', 'asunder;', 'hall,', 'fainted ', 'faints,', 'recovered;', 'surprizes ', 'explained.', 'events ', 'ickerton,', 'public\\n', 'bout ', 'mile\\n', 'shaded ', 'elms\\n', 'retired;', 'patch ', 'greensward ', 'gipsies.', 'beg;', 'scream,', 'steep ', 'bank,', 'hedge ', 'follow.', 'cramp ', 'mount ', 'bank\\n', 'powerless-', 'terrified,', 'remain.', 'trampers ', 'behaved,', 'courageous,', 'doubtful;', 'attack\\n', 'resisted;', 'assailed ', 'clamorous,', 'impertinent ', 'purse,', 'shilling,', 'purse ', 'tempting,', 'surrounded,', 'gang,', 'demanding ', 'trembling\\n', 'conditioning,', 'insolent.', 'delayed ', 'pleasantness\\n', 'scissors ', 'intended;', 'portion.', 'frightened;', 'clinging ', 'overcome.', 'artfield:', 'amount ', 'senses ', 'delays\\n', 'lose;', 'utter\\n', 'adventure ', 'suggesting\\n', 'coldest ', 'steadiest ', 'brain.', 'linguist,', 'grammarian,', 'mathematician ', 'witnessed ', 'interesting\\n', 'other?', 'imaginist,', 'foresight!', 'groundwork ', 'memory;', 'happened\\n', 'chancing ', 'rescue ', 'extraordinary!', 'knowing,', 'period,', 'mania ', 'consequences.', 'occurrence ', 'strongly\\n', \"minutes'\", 'partially ', 'insensible,', 'terror,', 'fervour ', 'clung ', 'delighted;', 'abominable ', 'ickerton ', 'impelled\\n', 'assisted.', 'harm\\n', 'passive ', 'eyond ', 'proceed.', 'occasion:', 'concealment ', 'ithin ', 'low;', \"night'\", 'trembled ', 'shrubbery ', 'neighbours\\n', 'after)', 'indifferent-', 'interfere ', 'indisposition ', 'invent ', 'illnesses ', 'message.', 'gipsies ', 'operations ', 'justice;', 'dwindled ', 'nephews:', 'ground,', 'gipsies,', 'tenaciously ', 'slightest ', 'recital.', 'adventure,', 'began:', 'leisure-', 'seriousness ', 'ordinary.', 'reserves ', 'respect_', 'madness!', 'least;', 'done:', 'disagreeable-', 'pang:', 'destroy-', 'kept-', 'blushing ', 'spoke)', 'presence,', 'grown.', 'holds?', 'look.', 'gifts;', 'ost_', 'precious_', 'treasures_', 'excited.', 'unfolded ', 'impatience.', 'abundance ', 'unbridge-', 'ware ', 'box,', 'opened:', 'lined ', 'softest ', 'cotton;', 'cotton,', 'court-', 'plaister.', 'plaister,', 'throat-', 'finger\\n', 'penknife,', 'plaister?', 'desired\\n', 'piece;', 'smaller,', 'kept\\n', 'left,', 'used,', 'treat.', 'jumping ', 'bear.', 'emember ', 'saving\\n', 'relic-', 'cutting\\n', 'finger,', 'sins,', 'sins!', 'pocket!', 'senseless ', 'tricks!', 'again)', 'else?', 'yourself?', 'naturally.', 'plaister ', 'sake!', 'divided\\n', 'secretly ', 'bless ', 'cotton\\n', 'pulling ', 'about!', 'box ', 'been_', 'treasure.', 'end\\n', 'lead.', 'ednesday ', 'evening_', 'memorandum ', 'pocket-', 'book;', 'spruce-', 'beer.', 'brewing ', 'beer,', 'dared,', 'alking ', 'top;', 'odd,', 'say-', 'treasuring ', 'things?', 'was!', 'burn ', 'wrong\\n', 'remembrances,', 'plaister\\n', 'goes,', 'gipsy,', 'told_', 'alarm,', 'undesignedly.', 'so\"', \"minute'\", 'debate,', 'unnoticed ', 'indignantly.', 'no\"', 'proceed\\n', 'farther?', 'pass,', 'drive\\n', 'frequent\\n', 'chances,', 'resolved.', 'lain ', 'dealing ', 'application ', 'judicious ', 'speed.', 'spoke-', 'results ', 'suppose-', 'distance-', 'veneration,', 'especially.', 'rendered\\n', 'ervice!', 'inexpressible ', 'obligation!', 'coming-', 'change!', 'misery\\n', 'happiness!', 'honourable.', 'gratefully.', 'can:', 'observant ', 'sensations.', 'enceforward ', 'obstacles ', 'disparity.', 'sanguine;', 'kissed ', 'gratitude.', 'saving ', 'schemes,', 'hopes,', 'connivance,', 'opened\\n', 'ucklings,', 'delayed,', 'ugust,', 'defeat ', 'double ', 'unison;', 'discretion,', 'indiscretion,', 'story.', 'trifle ', 'void ', 'errors ', 'imagination.', 'dining\\n', 'remembering\\n', 'seen;', 'owper ', 'twilight,', 'yself ', 'liking,', 'returning,', 'met.', 'drink ', 'speech\\n', 'horseback.', 'horse.', 'impossible!', 'somebody,', 'ever!', 'dreamt ', 'persuaded-', 'rank?', 'particulars-', 'dream.', 'dreamer.', 'dream ', 'dreaming ', 'happen,', 'premature.', 'dream!', 'heap ', 'absurdities\\n', 'dreamer,', 'guests\\n', 'prepare ', 'reach\\n', 'vain\\n', 'have-', 'dreams ', 'world-', 'spring;', 'oles\\n', 'ourselves-', 'secret,', 'prevailed.', 'home?', 'confidence;', 'beyond:', 'soul ', 'pop ', 'talker;', 'erfectly ', 'xtraordinary ', 'dream,', 'preceded\\n', 'suppressed ', 'involuntarily ', 'hers;', 'behind,', 'shawl.', 'intently-', 'explanation.', 'circular ', 'use,', 'embroke,', 'meals ', 'crowded.', 'alphabets-', 'letters?', 'dull-', 'treated ', 'amusement\\n', 'puzzle ', 'thought;', 'scattered ', 'alphabets,', 'selves.', 'forming\\n', 'puzzled.', 'quietness ', 'game ', 'distressed ', 'lamenting,', 'melancholy,', 'departure\\n', 'pointing ', 'buried ', 'mixed;', 'blunder_', 'exultingly ', 'proclaimed ', 'cheek ', 'ostensible.', 'dream;', 'discretion ', 'involvement.', 'isingenuousness ', 'vehicle ', 'trick.', 'deeper ', 'indignation ', 'distrust,', 'blinded ', 'demure.', 'entertaining,', 'shame!', 'complaisance,', 'sedate ', 'excessive ', 'seize\\n', 'darting ', 'ixon_', 'perception\\n', 'equal\\n', 'covert ', 'intelligence,', 'watched,', 'names ', 'averted ', 'attack,', 'closing ', 'moving,', 'preconceived.', 'quit\\n', 'table;', 'anxiously\\n', 'unexamined.', 'also-', 'dusk,', 'confusion;', 'full,', 'assist\\n', 'must-', 'sting ', 'entertaining ', 'confused.', 'explanation;', 'removed,', 'imparted ', 'embarrassment,', 'joke ', 'joke,', 'gravely,', 'nterference-', 'fruitless ', 'confusion,', 'engaged.', 'unwelcome ', 'interference,', 'welfare;', 'cause.', 'eagerness-', 'twentieth ', 'head?', 'expressive ', 'public.', 'vouchsafe ', 'wander-', 'essay-', 'arisen ', 'circumstances-', 'nature-', 'explain:', 'communicated,', 'beings ', 'presume_', 'answer_', 'indifference.', 'staggered,', 'satisfaction\\n', 'silenced,', 'prolonged ', 'particulars\\n', 'wheres ', 'hows\\n', 'gaiety ', 'talking.', 'irritated\\n', 'tender\\n', 'leave,', 'coolness\\n', 'solitude ', 'fed ', 'speedy ', 'mortification\\n', 'importation ', 'novelties ', 'stores\\n', 'interchange ', 'restricted ', 'topics ', \"ucklings'\", 'eventually ', 'parade.', 'introductions ', 'wait,', 'ucklings ', 'known:', 'ill;', 'seeing,', 'agreed\\n', 'thither.', 'picnic ', 'ucklings.', 'surprise,', 'hearing\\n', 'proposing ', 'unite,', 'acceded\\n', 'objection.', 'reproof\\n', 'avoid;', 'offended;', 'forbearance\\n', 'arrear ', 'severity\\n', 'goodwill ', 'approve ', 'secures ', 'denied ', 'aloud,', 'private.', 'fine;', 'pigeon-', 'pies ', 'lamb,', 'lame ', 'threw\\n', 'uncertainty.', 'useable;', 'preparations\\n', 'stagnation.', 'attack.', 'vexations,', 'cried.', 'exploring!', 'delays ', 'ings ', 'strawberries.', 'ripening ', 'delight;', 'plainer ', 'famous ', 'strawberry-', 'beds,', 'plea ', 'invitation:', 'cabbage-', 'beds ', 'doubted-', 'ame ', 'others\\n', 'carte-', 'blanche.', 'ady ', 'atroness,', 'he:', 'invitations.', 'sly.', 'consider-', 'delegating ', 'preferment.', 'arried ', 'authorised.', 'manage\\n', 'humourist,', 'humourist.', 'objections\\n', 'scruple.', 'prevail;', 'day:', 'bonnet,', 'baskets\\n', 'pink ', 'parade-', 'gipsy ', 'gardens,', 'gather ', 'strawberries ', 'trees;', 'provide,', 'doors-', 'idea?', 'quite.', 'simplicity\\n', 'doors.', 'eating\\n', 'meat ', 'opinion?', 'inspect ', 'anything-', 'arise,', 'housekeeper\\n', 'clever.', 'spurn ', 'donkey.', 'donkeys,', 'purchasing ', 'country\\n', 'shut\\n', 'walks,', 'dust,', 'dirt.', 'dusty,', 'dry.', 'donkey,', 'borrow ', 'nder ', 'blunt ', 'shade.', 'doors\\n', 'specious ', 'drive,', 'faith.', 'lurking ', 'horrors ', 'upbraid\\n', 'credulity.', 'consent.', 'gardens.', 'exceedingly,', 'sensible-', 'concurrence.', 'high\\n', 'unasked,', 'dispensed ', 'writing,', 'meanwhile ', 'consideration;', 'onwell\\n', 'bright ', 'mid-', 'sun,', 'al-', 'fresco ', 'placed,', 'achieved,', 'remained,', 'listener ', 'sympathiser.', 'correct ', 'complacency ', 'alliance\\n', 'proprietor ', 'warrant,', 'viewed ', 'building,', 'becoming,', 'characteristic ', 'sheltered-', 'gardens ', 'stretching ', 'meadows ', 'washed ', 'stream,', 'prospect,', 'sight-', 'timber ', 'rows ', 'avenues,', 'extravagance ', 'rooted ', 'covering ', 'rambling ', 'gentility,', 'untainted ', 'blood ', 'unexceptionably.', 'names,', 'blush.', 'indulged ', 'collect ', 'beds.', 'ichmond;', 'apparatus ', 'bonnet\\n', 'gathering,', 'accepting,', 'talking-', 'strawberries,', 'ngland-', 'favourite-', 'beds\\n', 'sorts.', 'elightful ', 'orning ', 'tired-', 'hautboy ', 'superior-', 'comparison-', 'eatable-', 'hautboys ', 'scarce-', 'hili ', 'wood ', 'flavour ', 'price ', 'ondon-', 'rove-', 'cultivation-', 'renewed-', 'gardeners ', 'rule-', 'delicious ', 'fruit-', 'cherries-', 'currants ', 'refreshing-', 'gathering ', 'strawberries\\n', 'stooping-', 'sun-', 'death-', 'uch,', 'shade ', 'overhear ', 'raptures.', 'splendour ', 'elightful,', 'circles,', 'spheres,', 'ranks,', 'triumph-', 'refused\\n', 'negative,', 'repeating ', 'insisted ', 'authorised ', 'acquiescence\\n', \"morrow'\", 'post.', 'astonishing\\n', 'vexed,', 'pointedly-', 'removal.', 'walk?', 'gardens-', 'gardens?', 'extent.', 'pertinacity\\n', 'hot;', 'scattered,', 'insensibly\\n', 'avenue ', 'limes,', 'river,', 'grounds.', 'stone\\n', 'wall ', 'pillars,', 'intended,', 'erection,', 'isputable,', 'termination,', 'view\\n', 'slope,', 'nearly\\n', 'stood,', 'steeper\\n', 'grounds;', 'abruptness ', 'wood;', 'bottom ', 'favourably ', 'sheltered,', 'front,', 'river\\n', 'curve ', 'view-', 'verdure,', 'culture,', 'sun ', 'bright,', 'oppressive.', 'assembled;', 'tete;', 'scorned\\n', 'ceremony.', 'spot\\n', 'arm;', 'appendages ', 'prosperity\\n', 'pastures,', 'spreading ', 'flocks,', 'blossom,', 'column ', 'smoke ', 'ascending.', 'wall,', 'around.', 'modes ', 'agriculture,', 'etc.', 'shade\\n', 'refreshing,', 'remove ', 'uneasy,', 'fears;', 'mare.', 'remind ', 'variation ', 'dependence-', 'emotion.', 'repast ', 'seen,', 'fish-', 'ponds;', 'clover,', 'hot,', 'cool ', 'damps ', 'river ', 'stirred ', 'entertainment.', 'ooks ', 'engravings,', 'drawers ', 'medals,', 'cameos,', 'corals,', 'shells,', 'cabinets,', 'slow,', 'constant,', 'methodical.', 'sake\\n', \"moments'\", 'entrance ', 'ground-', 'plot\\n', 'escape.', 'start\\n', 'quest ', 'absent-', 'ponds,', 'lime ', 'gone?', 'walk\\n', 'alone?', 'feelingly ', 'danger.', 'fatigued ', 'fatigued;', 'fatigue-', 'wearied ', 'ine,', 'exhausted.', 'oppose.', 'quitting ', 'parting\\n', 'grateful-', 'continual\\n', 'endurance ', 'aunt!', 'sensibility\\n', 'horrors,', 't.', \"ark'\", 'lace,', 'enice,', 'mare ', 'blameless;', 'they_', 'seizure,', 'hours-', 'late;', 'hot\\n', 'excessive;', 'staid\\n', 'heat-', 'intolerable-', 'deplorable.', 'cooler,', 'spared-', 'coming!', 'suppose;', 'adness ', 'weather!', 'defined ', 'phrase ', 'incidental ', 'refreshment;', 'abundance\\n', 'humanely ', 'pointed ', 'hungry;', 'hotter.', 'relented ', 'secret-', 'discomposed ', 'cool-', 'employment;', 'agreeably.', 'wisserland.', 'abroad,', 'sketches,', 'tour\\n', 'read-', 'poem.', 'sketches ', 'climate ', 'prescribed\\n', 'abroad.', 'travel.', 'tired\\n', 'penetrating ', 'prosperity ', 'invent\\n', 'hardships ', 'stay?', 'indulgence!', 'prosperous ', 'indulged.', 'thwarted ', 'material.', 'miserable,', 'meat,', 'adeira ', 'par ', 'cure.', 'wisserland,', 'while.', 'crosser ', 'still.', 'huse ', 'crossness.', 'collected.', 'composedly;', 'distress\\n', 'disappearance ', 'concluded ', 'final ', 'exclude ', 'increased\\n', 'ell;', 'acceptance;', 'summons ', 'outward\\n', 'accommodation,', 'punctuality,', 'officiating ', 'ltons;', 'travelled\\n', 'arriving;', 'deficiency.', 'languor,', 'union,', 'separated ', 'tried,', 'harmonise ', 'division,', 'varied.', 'mix,', 'hours\\n', 'hill,', 'principle ', 'separation,', 'collation,', 'remove.', 'stupid.', 'hearing-', 'seeing-', 'intelligence-', 'dull,', 'likewise;', 'insufferable.', 'gay,', 'enlivened,', 'flattered,', 'admission ', 'gallant,', 'estimation,', 'nglish\\n', 'flirted ', 'laying\\n', 'phrase-', 'felicity;', 'playfulness,', 'judicious,', 'winning\\n', 'cross;', 'humble.', 'commanded ', 'overcame ', 'hotter ', 'command.', 'command?', 'broken ', 'bounds ', 'management;', 'ating ', 'yesterday!', 'date.', 'unanswerable.', 'lowering ', 'voice)', 'entertainment ', 'impudence.', 'accents ', 'swell ', 'ickleham ', 'orking\\n', 'whispering-', 'rouse ', 'serve.', 'presides)', 'swelled ', 'presiding;', 'carelessly ', 'brunt ', 'knowing.', 'emphatically,', 'hough,', 'haperon_', 'parties-', 'ladies-', 'mutterings ', 'husband;', 'murmured,', 'unheard ', 'affronted.', 'address.', 'gentlemen-', 'waives ', 'prose\\n', 'verse,', 'repeated-', 'clever-', 'engages ', 'heartily\\n', 'open\\n', \"shan'\", 'assent)', 'shall?', 'resist.', 'ardon ', 'number-', 'mock ', 'greed,', 'agreed.', 'conundrum.', 'conundrum ', 'reckon?', 'low,', 'indulgent-', 'leads ', 'reckon ', 'low.', 'alphabet ', 'perfection?', 'letters!', 'perfection!', 'm-', 'ma.', 'understand?', 'nderstanding ', 'gratification ', 'laugh\\n', 'equally;', 'stupid\\n', 'explains ', 'knocked ', 'erfection_', 'excused,', 'attempt-', 'acrostic ', 'puppy!', 'hristmas,', 'exploring\\n', 'wit.', 'vivacity\\n', 'ass ', 'consciousness;', 'entertain\\n', 'ugusta?', 'couple!', 'hearing:', 'another!', 'lucky-', 'ath!', 'eculiarly ', 'lucky!', 'homes,', 'luck-', 'rued ', 'confederates,', 'occur,', 'cough.', 'gravely.', 'circumstances\\n', 'arise-', 'weak,', 'characters,', 'inconvenience,', 'oppression ', 'submission;', 'father)', 'ind ', 'dopt ', 'educate ', 'undertake ', 'commission.', 'lively,', 'emember.', 'forgetting.', 'described?', 'azle ', 'excepted,', 'eferring ', 'overtake ', 'car ', 'remained;', 'pitch ', 'unpleasant.', 'grew\\n', 'flattery ', 'merriment,', 'depart,', 'questionable ', 'assorted ', 'remonstrance.', 'unfeeling ', 'insolent ', 'situation?', 'recollected,', 'blushed,', 'did?', 'generosity.', 'honouring ', 'irksome.', 'world:', 'allow,', 'unfortunately ', 'blended ', 'blended,', 'acknowledge;', 'prosperous,', 'prevalence ', 'ridiculous\\n', 'absurdity ', 'liberties ', 'situation-', 'poor;', 'live\\n', 'badly ', 'infant,', 'some_', 'counsel,', 'talked,', 'advancing ', 'averted,', 'tongue ', 'motionless.', 'combined ', 'anger\\n', 'speak;', 'overcome-', 'reproaching ', 'acknowledgment,', 'sullenness,', 'motion.', 'speed,', 'vexed ', 'mortified,', 'grieved,', 'forcibly ', 'struck.', 'denying.', 'brutal,', 'valued!', 'concurrence,', 'kindness!', 'fagged,', 'hey,', 'misspent,', 'rational\\n', 'abhorred ', 'recollection,', 'back-', 'gammon ', 'sweetest ', 'unmerited ', 'confiding ', 'esteem,', 'reproach.', 'remiss,', 'fact;', 'scornful,', 'ungracious.', 'contrition,', 'penitence,', 'justly\\n', 'sound\\n', 'stairs,', 'conferring ', 'obligation,', 'deriving ', 'ridicule.', 'approach;', 'hurry;', 'ushered ', 'escaping ', 'tell_', 'chair.', 'etty ', 'able-', 'presently.', 'obliged\"', 'volubility ', 'immediate.', 'heard-', 'joy,', 'twinkling ', 'two)', 'morning:', \"yourself'\", 'perpetually.', 'fortunate-', 'surprising ', 'dispersing\\n', 'tears)', 'headache\\n', 'has.', 'lie ', 'bed.', 'bed:', 'ashamed-', 'bustle-', 'knock,', 'early.', 'got,', 'waiting-', 'growing\\n', 'acted\\n', 'ungenerous ', 'gentle\\n', 'solicitude-', 'actually\\n', 'advantage\\n', 'always;', 'ask?', 'mallridge-', 'girls-', 'mpossible ', 'except,', 'mallridge ', 'neighbourhood:', 'owes-', 'indefatigable,', 'denial.', 'reasons ', 'fails ', 'wait-', 'aside,', \"mallridge'\", 'fagged ', 'fatiguing-', 'possible-', 'xcept ', 'ucklings\\n', 'ragges,', 'mallridge,', 'salary!', 'salary ', 'sums,', 'amount\\n', 'earned.', 'ideas!', 'return?', 'declining.', 'congratulating\\n', 'stay-', 'cards-', 'thinking-', 'recollect,', \"bdy'\", 'clerk\\n', 'ridden,', 'poorly ', 'rheumatic ', 'gout ', 'joints-', \"ohn'\", 'parish;', 'ostler,', 'help;', 'ostler\\n', 'tea.', 'spoke\\n', 'ignorant ', 'ostler ', 'accumulation ', \"ostler'\", 'messenger ', 'messenger,', 'om ', 'pace,', 'steady.', 'astonish ', 'houseroom\\n', 'back.', 'remembrance\\n', 'pleasing,', 'pensive ', 'meditations,', 'interrupted;', 'graver ', 'spare,', 'carries?', 'scheme?', 'rather-', 'forgiven ', 'going-', 'inquiries.', 'safely?', 'daughter?', 'heightened ', 'instantaneous ', 'gratified-', 'movement ', 'hand;', 'lips-', 'scruple,', 'perceive.', 'indubitable;', 'happened,', 'undecided ', 'dilatory,', 'disappearance.', 'earlier;', 'quare,', 'enjoyed-', 'unfinished ', 'gallantry;', 'found.', 'earlier!', 'diverting ', 'disagreeableness\\n', 'suddenly;', 'horseback,', 'dependence\\n', 'justified;', 'check,', 'interested,', 'disturbing ', 'cheerfully,', 'unexpected ', 'blow.', 'dry ', 'health\\n', 'background.', 'nephew\\n', 'hasten ', 'six-', 'seizure ', 'foreboded\\n', 'struggle.', 'felt.', 'gravity ', 'sorrow;', 'departed,', 'surviving ', 'buried.', 'oldsmith ', 'stoops ', 'clearer ', 'fame.', 'disliked ', 'allowances.', 'justified.', 'acquitted ', 'fancifulness,', 'selfishness\\n', 'complaints.', 'deal:', 'supposed-', 'event-', 'shock-', 'loss\\n', 'solemn,', 'resolved,', 'mourning ', 'sighing\\n', 'moralising ', 'hems ', 'commiseration ', 'earliest\\n', 'husband-', 'awe ', 'compassion-', 'rested\\n', 'benefited,', 'freed.', 'encounter.', 'nobody;', 'guidable ', 'nephew.', 'formed.', 'gratified,', 'refrained ', 'endanger ', 'maintenance.', 'communicating\\n', 'plans.', 'departure ', 'funeral ', 'indsor,', 'closing,', 'coldness;', 'neglecting,', 'lavished ', 'sympathy.', 'testify ', 'prevail ', 'refused,', 'verbal ', 'write;', 'visited,', 'consent,', 'headaches,', 'proposed.', 'deranged-', 'appetite ', 'gone-', 'symptoms,', 'pulmonary ', 'uneasy ', 'undertaken ', 'disorder:', 'otherwise-', 'questioned;', 'derived ', 'discover\\n', 'scene,', 'favour\\n', 'patient.', 'note:', 'unequal\\n', 'tremulous ', 'inequality\\n', 'plainly,', 'drove\\n', 'airing ', 'service-', 'tried-', 'success;', 'unpersuadable;', 'body-', 'denied-', 'point-', 'classed ', 'errys,', \"niece'\", 'diet,', 'assist.', 'communicative;', 'thing:', 'nourishing ', 'food;', 'neighbours)', 'distasteful.', 'stores;', 'arrowroot ', 'quality\\n', 'despatched ', 'thanks\\n', 'back;', 'take-', 'wandering\\n', 'afternoon\\n', 'peremptorily ', 'doubt-', 'pitiable ', 'inconsistency ', 'mortified\\n', 'esteemed\\n', 'reprove.', 'decease,', 'unwell?', 'agitated.', 'alone_', 'umph!', 'ertainly.', 'ill?', 'unaccountable ', 'business!', 'hush,', 'hush!', 'announced ', 'looks;', 'sweep ', 'impatient,', 'reak ', 'terror.', 'dearest\\n', 'sacred,', 'concealment.', 'honour!', 'broke_', 'relate ', 'family?', 'expression.', 'wait;', 'effort.', 'concern-', 'active.', 'undesirable,', 'agony ', 'inspired ', 'horseback?', 'view.', 'tways.', 'indsor\\n', 'then?', 'demure,', 'perturbation,', 'occurred;', 'suspense.', 'abhor ', 'distress,', 'resuming ', 'engagement-', 'engaged;', 'engaged!', 'surprize;', 'horror-', 'struck,', 'serious?', 'amazed,', 'averting ', 'eagerness,', 'recover-', 'amazed.', 'solemn\\n', 'ctober-', 'themselves-', 'wonderful,', 'ideas-', 'conversations ', 'confirmation,', 'confirmation.', 'winter-', 'ighbury?', 'ngaged ', 'equally.', 'ome_', 'part_', 'pondered ', 'pretend\\n', 'believing ', 'attached-', 'cease,', 'ortunately,', 'cease.', 'joy;', 'utterance,', 'protestation ', 'darling ', 'magine ', 'escaped;', 'escape,', 'blame.', 'disengaged?', 'persevering ', 'belonged\\n', 'mischief ', 'imagine-', 'behaviour!', 'omposure ', 'witness!', 'resent ', 'placidity,', 'misunderstandings ', 'expressly.', 'agitation\\n', 'impropriety ', 'conduct.', 'mpropriety!', 'impropriety!', 'integrity,', 'strict ', 'adherence ', 'truth\\n', 'littleness,', 'transaction ', 'part;', 'qualities;', 'governess!', 'indelicacy?', 'measure!', 'communicated\\n', 'how,', 'message-', 'project\\n', 'miserable ', 'extenuations.', 'excusable ', 'severe,', 'patience.', 'system ', 'secresy ', 'sufferings,', 'nephew-', 'onceive ', 'family!', 'possibility;', 'vault,', 'undue ', 'survive ', 'grave!', 'light\\n', 'hither;', 'agitated-', 'secresy?', 'ixons,', 'engagement?', 'proceeding.', 'hypocrisy ', 'deceit,', 'espionage,', 'treachery?', 'openness ', 'league ', 'duped,', 'ourselves\\n', 'comparing ', 'agreeable!', 'rue.', 'blunder,', 'watch.', 'intreat ', 'gratify;', 'we?', 'steadiness\\n', 'deviation ', 'error!', 'feelingly.', \"their'\", \"world'\", 'condolence,', 'congratulation.', 'proclaimed;', 'briskness:', 'prove,', 'palliate ', 'imprudence,', 'objections;', 'reconciled,', 'words;', 'tormenting ', 'constituted\\n', 'behaved\\n', 'scrape ', 'deepest ', 'dupe ', 'misconceptions ', 'prophetically,', 'disservice.', 'former,', 'original\\n', 'author ', 'mischief;', 'guilty ', 'repressed.', 'sentiments.', 'conscious\\n', 'risking ', 'insufficient ', 'ommon ', 'insignificance ', 'prosperous.', 'slighted.', 'smaller ', 'open.', 'rival;', 'repulsed.', 'rack,', 'storeroom ', 'poison.', 'disengage ', 'itself\\n', 'injustice ', 'selfishness ', 'acknowledged\\n', 'elevation ', 'desert.', 'engrossing ', 'charge!', 'sympathy ', 'sadly ', 'claims\\n', 'communicate ', 'injunction ', 'secret.', 'token ', 'recently ', 'lost;', 'promised;', 'excepted.', 'beat\\n', 'footstep ', 'voice;', 'disclosure ', 'resemblance!', 'was?', 'unable ', 'strange?', 'owning ', 'secret;', 'mentioning\\n', 'perplexed.', 'privately\\n', 'odd;', 'changed.', 'discovery.', 'might.', 'heart;', 'talent.', 'tacitly,', 'openly-', 'feelings?', 'cautioned ', 'colouring,', 'astonished.', 'stoutly ', 'reason\\n', 'im!', 'distressed.', 'pause-', 'istake ', 'misunderstood ', 'mistaken,', 'amazing!', 'almost,', 'words)', 'resolutely-', 'knew.', 'clear\\n', 'quite,', 'assert ', 'named_', 'protecting ', 'forget!', 'attachment;', 'natural:', 'rescue.', 'memory.', 'mean;', 'gipsies-', 'meant.', 'elevation)', 'circumstance-', 'action;', 'benevolence\\n', 'generosity;', 'earth.', 'unfortunate-', 'mistake!', 'now-', 'moments.', 'million ', 'supposing-', 'if-', 'greater_', 'disparity\\n', 'fortunate,', 'expression,', 'really-', 'disparity,', 'consternation,', 'affection?', 'modestly,', 'fearfully-', 'withdrawn;', 'silently ', 'meditating,', 'progress.', 'touched-', 'admitted-', 'speed ', 'arrow,', 'improperly ', 'acting\\n', 'inconsiderate,', 'indelicate,', 'irrational,', 'blindness,', 'force,', 'demerits-', 'compassion_', 'required\\n', 'kindness.', 'enquired ', 'forfeit ', 'maintained-', 'deserve\\n', 'counsels ', 'ousing ', 'emotion,', 'renewed\\n', 'reverie,', 'tremblings ', 'concealed ', 'less.', 'unsteady;', 'perturbation\\n', 'threatening ', 'perplexing ', 'emotions,', 'create.', 'inward ', 'detail.', 'ethodical,', 'delivered,', 'contained,', 'feebleness ', 'tautology ', 'narration,', 'spirit-', 'corroborating ', 'memory\\n', 'dances.', 'sweetness!', 'atterly ', 'delightfully!', 'closest ', 'agreement ', 'affectation,', 'generous,', 'dwelt\\n', 'implied,', 'unnoticed,', 'unsuspected,', 'ircumstances ', 'relation,', 'multiplied ', 'undiscerned ', 'occurrences\\n', 'apart ', 'lime-', 'convinced)', 'farming:', 'minutes-', 'felt)', 'marked,', 'enquiring,', 'alluding ', 'artin-', 'view?', 'evidence,', 'carefully,', 'wonderful.', 'bitter ', 'bitter\\n', 'intentionally ', 'worship ', 'sentence ', 'fondness,', 'footsteps.', 'alarmed-', 'spontaneous\\n', 'amidst ', 'rushed ', 'hours.', 'deceptions ', 'practising\\n', 'under!', 'blunders,', 'blindness ', 'heart!', 'shrubbery-', 'posture,', 'weakly;', 'imposed\\n', 'degree;', 'imposing\\n', 'wretchedness.', 'involuntary\\n', 'influence,', 'begun?', 'occupied?', \"latter'\", 'felicity,', 'institute\\n', 'fancying,', 'delusion,', 'heart-', 'reached;', 'sorrowfully ', 'sensation\\n', 'revealed ', 'disgusting.', 'beginning;', 'union ', 'commonplace,', 'threadbare,', 'stale ', 'comparison,', 'affording ', 'side!', 'debasement ', 'his!', 'horrible\\n', 'sneers,', 'merriment ', 'expense;', 'inconveniences ', 'captivated ', 'powers?', 'unequal,', 'inconsistent,', 'incongruous-', 'causes)', 'fate?', 'forward!', 'express,', 'belong-', 'sequel ', 'raise\\n', 'formerly.', 'stoop\\n', 'too?', 'worldly ', 'establishment?', 'atisfied ', 'supplanted,', 'inexpressibly\\n', 'ong,', 'past.', 'perverse,', 'wilfully ', 'insensible ', 'own-', 'habit,', 'shared.', 'peculiarly,', 'exclusively,', 'recent ', 'impartiality.', 'subject!', 'offence-', 'issue ', 'clear-', 'sighted ', 'goodwill.', 'overrating ', 'ish ', 'sake-', 'continue\\n', 'arriage,', 'incompatible ', 'henceforward ', 'observance;', 'wretchedly\\n', 'given-', 'frightfully ', 'opposing\\n', 'irritate.', 'kindly,', 'decisively,', 'confidential ', 'avoided;', 'others-', 'forgotten\\n', 'grateful.', 'waking,', 'daughter-', 'elect,', 'interview.', 'essential ', 'handsomely;', 'airing,', 'afforded.', 'related.', 'instead,', \"engagement'\", 'known;', 'reports:', 'differently;', 'anxious\\n', 'action\\n', 'rapturous ', 'delight\\n', 'gratifying,', 'affecting,', 'scene.', 'disinterested\\n', 'sensation;', 'plea\\n', 'airing;', 'yielded;', 'converse\\n', 'pologies ', 'ungracious\\n', 'reception,', 'effusions ', 'pent ', 'suffered,', 'concealment\\n', 'energetic.', 'expressions.', 'moments;', 'hour:', 'uttered ', 'attestation\\n', 'consented ', 'rong!', 'misconduct ', 'misconduct.', 'ain ', 'expiation.', 'blameless.', 'contrary ', 'reflection\\n', 'give,', 'excessively,', 'overpowered\\n', 'sighing,', 'contributed ', 'unhappy.', 'alluding\\n', 'unreasonable_', 'consciousness\\n', 'amiss,', 'inquietudes,', 'captious ', 'irritable ', 'been-', 'allowances,', 'spirits-', 'gaiety,', 'playfulness\\n', 'illness;', 'scrupulous\\n', 'conscience,', 'thanks;', 'lively)', 'particulars.', 'unanswered ', 'earnest.', 'affection-', 'gone\\n', 'onwell;', 'listen;', 'random,', 'food ', 'esteem ', 'bitterly\\n', 'closer ', 'wishes,', 'paying\\n', 'due;', 'intimacy;', 'irth,', 'abilities,', 'gratitude;', 'upposing ', 'probable-', 'abominable\\n', 'improper ', 'foolishly ', 'harboured ', 'unpardonably ', 'imparted;', 'levity ', 'carelessness ', 'sources\\n', 'surrounding ', 'enemy.', 'stabbed ', 'instances;', 'gloom.', 'stormy ', 'uly ', 'shrubs,', 'wind ', 'despoiling,', 'sights ', 'visible.', 'cost ', 'tete,', 'dissipated ', \"artfield'\", 'shortly ', 'erroneous;', 'deserted ', 'pleasures\\n', 'forebodings ', 'experience ', 'dispelled-', 'brightened.', 'deserted;', 'ruined ', 'tie ', 'dearer\\n', 'cease\\n', 'losses,', 'reach?', 'endured?', 'hereafter,', 'dearest,', 'work?', 'seconds-', 'consolation\\n', 'drawn,', 'loneliness,', 'reign ', 'cleared;', 'wind\\n', 'transition ', 'smell,', 'tranquil,', 'storm,', 'attractive ', 'serenity ', 'introduce;', 'shrubbery.', 'freshened,', 'relieved,', 'intimation ', 'unquestionably ', 'distant.', 'quickest ', 'calm.', \"do'\", 's\"', 'constrained ', 'cheerfully;', 'communicating ', 'pained ', 'dread.', 'begin.', 'unnatural.', 'considered-', 'resolved-', 'began-', 'nature?', 'possible?', 'cheeks\\n', 'composure,', 'suspicions.', 'caution.', 'sigh)', 'doomed ', 'arm\\n', 'sensibility,', 'heal ', 'wound.', 'subdued ', 'friendship-', 'ndignation-', 'bominable ', 'scoundrel!', 'steadier ', 'orkshire.', 'fate.', 'conjectures,', 'earlier.', 'becomes\\n', 'reason.', 'ortunate ', 'entangled!', 'preference\\n', 'rewarded ', 'confused-', 'error;', 'impression,', 'reverse.', 'clemency;', 'lower\\n', 'tempted\\n', 'probably-', 'case-', 'hundreds ', 'excusable\\n', 'sets ', 'nderstanding.', 'temptation.', 'pleasant-', 'ingeniously,', 'last-', 'attentions.', 'atterly,', 'however-', 'trick,', 'imposed ', 'effectually\\n', 'blinded-', 'intelligible;', 'underrated ', 'underrated\\n', 'hitherto,', 'attached.', 'energy.', 'chuses ', 'prize!', 'calculation,', 'ssured ', 'character\\n', 'vouches ', 'disinterestedness;', 'regards ', 'purity ', 'bestow ', 'wants.', 'from;', 'happiest\\n', 'mortals.', 'meets ', 'gains ', 'weary ', 'treatment-', 'dies.', 'envied ', 'envy.', 'sentence\\n', 'avert ', 'breath ', 'startled ', 'wise-', 'unsaid ', 'confide ', 'reconcile ', 'indecision,', 'intolerable ', 'alternative ', 'added-', 'ungraciously,', 'contemplation-', 'wish-', 'tay,', 'offer-', 'seem,', 'refer ', 'succeeding?', 'animation;', 'silent!', 'awakened ', 'speeches,', 'mma:', 'resumed;', 'tone\\n', 'convincing.', 'blamed ', 'lectured ', 'od ', 'knows,', 'wonderful\\n', 'velocity ', 'groundless,', 'delusion ', 'reluctance,', 'discouragement,', 'discouragement\\n', 'attendant ', 'resolve\\n', 'render ', 'transfer ', 'affection\\n', 'sublimity ', 'vouchsafing ', 'contrition;', 'flight ', 'generosity ', 'astray,', 'degrading.', 'clear,', 'entreated.', 'despair-', 'despaired ', 'period;', 'crushed\\n', 'refusing ', 'sudden;', 'renewing ', 'inconsistency;', 'eldom,', 'seldom,', 'disclosure;', 'disguised,', 'relenting ', 'possessed,', 'influence.', 'endeavouring,', 'opening,', 'soothe ', 'rest\\n', 'disengaged\\n', 'gain\\n', 'conquest ', 'aspired ', 'enchanting.', 'create,', 'er_', 'beloved,', 'jealousy,', 'distrust.', 'enlightened ', 'jealousy ', 'witnessing ', 'permitted,', 'domestic\\n', 'wore ', 'differing ', 'striking\\n', 'inferiorities,', 'brilliancy ', 'stayed ', 'post ', 'gladness ', 'feel,', 'solicitude,', 'keen ', 'ridden ', 'sweetest\\n', 'faultless ', 'villain.', 'desperate.', 'fellow.', 'daring ', 'respite ', 'exquisite\\n', 'moreover ', 'table-', 'collected!', 'shrubs ', 'western ', 'sun!', 'self ', 'plotting ', 'breast ', 'cordially ', 'welcoming,', 'lungs;', 'impending ', 'comfortably\\n', 'articles ', 'contentment,', 'tranquillised\\n', 'subdued-', 'sleepless ', 'tax ', 'serious\\n', 'alloy.', 'utmost,', 'ask;', 'wept ', 'sin ', 'engagement;', 'divested ', 'decision;', 'pain;', 'atonement;', 'enemy?', 'perplexity ', 'great-', 'inexpressibly ', 'more-', 'resolve,', 'invitation\\n', 'benefited\\n', 'variety,', 'streets,', 'shops,', 'present;', 'averting\\n', 'employment\\n', 'sad,', 'stolen ', 'literally ', 'figuratively,', 'reinstate\\n', 'andalls-', 'contain,', 'deprecated ', 'explanations,', 'waded ', 'packet;', 'surely ', 'forwarding\\n', 'enclosed.', 'writer ', 'preface.', 'nervousness ', 'ungenial ', 'north-', 'east ', 'wind.', 'uesday\\n', 'parts ', 'resent.', 'rises ', 'write.', 'success\\n', 'hazards.', 'fact.', 'concealment,', 'discuss ', 'think_', 'caviller ', 'brick ', 'below,', 'casements ', 'openly;', 'definition;', 'prevail,', 'female\\n', 'creation ', 'stoop ', 'to?', 'bursts,', 'sickness.', 'obtaining ', 'correspondence.', 'inheriting\\n', 'inheritance ', 'lands ', 'these\\n', 'paid.', 'absented ', 'reprehension,', 'principal,', 'excites ', 'humiliation.', 'dropped ', 'censure ', 'indicated,', 'thrown.', 'declaration,', 'miable ', 'attached;', 'goodhumoured ', 'expiration ', 'suspicion;', 'penetrated ', 'freed ', 'restraints,', 'extenuation ', 'amiss.', 'sinned ', 'either.', 'cquit ', 'procure\\n', 'allowable,', 'acquittal ', 'brotherly ', 'queernesses,', 'unknown ', 'designedly ', 'suppress ', 'foresaw,', 'complains,', 'delay;', 'bewildered,', 'state:', 'insane ', 'generosity,', 'mad\\n', 'joy:', 'forgiven,', 'again!', 'encroach.', 'add\\n', 'detail ', 'yesterday;', 'suddenness,', 'unseasonableness ', 'needs ', 'ult.', 'conclude,', 'measures,', 'lose.', 'shrunk ', 'hasty,', 'refinement.', 'abruptly,', 'retrospect\\n', 'shamefully.', 'admit,', 'blameable.', 'disapproved ', 'so:', 'cautious:', 'subdued\\n', 'quarrelled.', 'dissatisfaction ', 'crisis.', 'consistent ', 'discretion.', 'objectionable ', 'particularity ', 'consenting ', 'useless?', 'shameful,', 'endure,', 'resentment ', 'blameless ', 'mine;', 'reconciled ', 'advances.', 'appears\\n', 'produced:', 'officious ', 'filled ', 'hatred.', 'extended ', 'loudly\\n', 'hink,', 'bandied ', 'vulgarity ', 'repetition,', 'insolence ', 'felt_', 'engagement_', 'be_', 'a_', 'source_', 'repentance_', 'and_', 'misery_', 'each_', ':', 'dissolved_', 'it_', 'multiplicity ', 'locked ', 'desk;', 'speedily;', 'add?', 'captious.', 'indsor;', 'returned!', 'post,', 'stating ', 'reply\\n', 'last;', 'adding,', 'misconstrued,', 'subordinate ', 'conveyance,', 'requested,', 'period\\n', 'stared ', 'accordant ', 'possess;', 'secrecy ', 'maintained,', 'descriptive\\n', 'delicacy.', 'threaten ', 'shock;', 'raved ', 'only.', 'uncle.', 'softened\\n', 'complying;', 'stake?', 'wan,', 'release ', 'dictate ', 'happier\\n', 'undoubted,', 'subscribe\\n', 'foretold.', 'irresistible;', 'relating\\n', 'ceased,', 'wishing\\n', 'seems\\n', 'offered\\n', 'opening:', \"another'\", 'severe.', 'time:', 'alacrity.', 'trifles ', 'urge.', 'ad.', 'disposition:', 'unjust,', 'sanguine\\n', 'exertions;', 'earned ', 'endeavoured\\n', 'handsomely-', 'impartial ', 'think-', 'distrusted ', 'disapprobation;', 'required;', 'concluding,', 'bad-', 'laying ', 'game.', 'oo ', 'acquittal.', 'ancying ', 'fathomed ', 'atural ', 'enough!', 'intrigue,', 'ystery;', 'inesse-', 'pervert ', 'understanding!', 'pianoforte!', 'boyish ', 'shamefully\\n', 'passing.', 'line.', 'basis\\n', 'disagreement,', 'pause\\n', 'uneasiness,', 'unnecessarily.', 'contend ', 'correspondence,', 'scruples,', 'hers\\n', 'punishment.', 'improper!', 'remark;', 'withdrawn,', 'pain-', 'exist.', 'entirely!', 'repentance ', 'each-', 'dissolved ', 'extraordinary-', 'suffers.', 'mallridge!', 'disappointment?', 'page ', 'writes!', 'finding\\n', 'earer,', 'dearer ', 'reconciliation.', 'thanker,', 'tens ', 'thousands.', 'appier ', 'ending-', 'fortune!', 'inconsideration ', 'thoughtlessness;', 'deserves:', 'constantly\\n', 'improve,', 'acquire ', 'principle\\n', 'nglish,', 'attacking ', 'inadmissibility\\n', 'intently;', 'induce\\n', 'feasible,', 'suffer\\n', 'transplantation ', 'hazarded.', 'artfield!', 'attempted.', 'trusted\\n', 'objectionable;', 'likewise.', 'ike ', 'evinced.', 'sacrificing ', 'independence\\n', 'unprovided ', 'promised,', 'remarkable,', 'rights\\n', 'heir-', 'expectant ', 'formerly ', 'regarded.', 'saucy ', 'detecting ', 'violent\\n', 'contemplated ', 'became.', 'lessen,', 'increase,', 'outweigh ', 'periods ', 'cheerlessness ', 'duties ', 'melancholy!', 'involve ', 'sufferings\\n', 'loser ', 'deplore ', 'otherwise;', 'supplanted;', 'considerate ', 'worshipped ', 'three_', 'desirous\\n', 'painful\\n', 'reproaches,', 'usage;', 'fancied\\n', 'bordering ', 'desirableness ', 'separate.', 'angel ', 'stroke.', 'resorting ', 'invention.', 'tooth ', 'dentist.', 'dentist ', 'ingfield,', 'persuadable.', 'completed,', 'visits;', 'unchecked ', 'injustice,', 'guilt,', 'painful,', 'haunted ', 'remembering ', 'enduring ', 'astray ', 'sensations;', 'occupied.', 'defer\\n', 'additional\\n', 'appointed ', 'crown ', 'warmer,', 'agitating,', 'go-', 'secret_', 'satisfaction;', 'similarity ', 'communicate.', 'went-', 'unsuccessfully ', 'unsuspected.', 'unwelcome,', 'intelligible.', 'eg ', 'stairs ', 'engaging.', 'warmth;', 'express-', 'believe-', 'checked ', 'expedient ', 'compress ', 'friendly\\n', 'congratulatory ', 'accounted ', 'elsewhere;', 'patience\\n', 'graciousness,', 'rencontre ', 'penetrate ', 'appearing\\n', 'fold ', 'apparently\\n', 'purple\\n', 'gold ', 'reticule ', 'nods,', 'opportunities.', 'admits\\n', 'apology,', 'offended.', 'delightfully\\n', 'writes.', 'doated\\n', 'discreet-', 'ush!', 'poem ', 'mum!', 'representation,', 'knitting,', 'names_', 'minister ', 'managed ', 'palpable ', 'display,', 'harmony\\n', 'charmingly ', 'recovered?', 'credit?', 'time!', 'worst!', 'assistance_', 'physician ', 'indsor.', 'scarce ', 'cloud ', 'some.', 'lasts?', 'exception.', 'diverted\\n', 'resulting,', 'impatience ', 'prospects-', 'recovered.', 'glad.', 'friendly;', 'erry!', 'commonly\\n', 'graciously ', 'whispers,', 'apologise;', 'magistrates,', 'overseers,', 'churchwardens,', 'crayons ', 'applicants.', 'bar ', 'you:', 'putting\\n', 'screen ', 'indispensable.', 'happily!', 'consultation.', 'denoted ', 'parish\\n', 'smallness ', 'patronage ', 'ragge;', 'brain\\n', 'make,', 'solidity\\n', 'insinuate,', 'latter ', 'evident,', 'greeted ', 'vivacity.', 'dutiful ', 'sample ', 'obedience-', 'wanted?', 'paid;', 'subsequent\\n', 'unaccountable!', 'onwell!', 'broiling ', 'morning!', 'fields ', 'usage,', 'message\\n', 'woods.', 'protesting ', 'extraordinary,', 'indignity ', 'forgotten!', 'eccentric;', 'case:', 'arry ', 'sideboard\\n', 'holds\\n', 'cheap ', 'receipt,', 'arkins,', \"illiam'\", 'wants,', 'sinking ', 'aggression\\n', 'downstairs;', 'impertinent.', 'composure-', 'danger\\n', 'wearying ', 'collectedly,', 'misconduct,', 'preserving,', 'disgusted ', 'apologies,', 'due.', 'unfortunately-', 'scrupulous,', 'owe ', 'apologies;', 'even-', 'artificial!', 'deceit!', 'quickest,', 'indsor?', 'safe)', 'mourning;', 'open!', 'bye.', 'safety;', 'sons;', 'older-', 'hence-', 'fireside ', 'enlivened ', 'sports ', 'freaks\\n', 'fancies ', 'teach,', 'practising ', 'aronne ', 'lmane ', 'omtesse ', 'stalis,', 'adame ', 'de ', \"enlis'\", 'delaide ', 'heodore,', 'infancy,', 'grows ', 'older.', 'bitterness ', 'spoilt ', 'ingratitude ', 'replied:', 'endeavours ', 'corrected ', 'ature ', 'understanding:', 'principles.', 'interference ', 'lecture ', 'tenderest\\n', 'doating\\n', 'dint ', 'thirteen ', 'influenced ', 'nna ', 'spoiled,', 'thirteen.', 'looks-', \"leave'\", 'hold\\n', 'remembrance.', 'formal.', 'what.', 'eorge,', 'fits,', \"eorge'\", 'terseness ', 'promise,', 'blushing-', 'where;', 'building ', 'womanly ', 'follies-', 'attribute ', 'corresponded ', 'rested,', 'practise ', 'consulted;', 'observer;', 'alive\\n', 'unmentioned.', 'enters ', 'complimenter;', 'flourishes,', 'praise.', 'sincerity.', 'growing,', 'worthy\\n', 'construction,', 'differ ', 'estimation ', 'reserve\\n', 'merit\\n', 'oppressed ', 'unprepared ', 'by?', 'prepare\\n', 'tried.', 'bound ', 'make.', 'misfortune.', 'strange,', 'approbation\\n', 'obtained-', 'tried\\n', 'reminded,', 'single;', 'hung\\n', 'affectionately,', 'marriages\\n', 'change:', 'much?', 'spot?', 'reconciled;', 'approbation;', 'light-', 'secondly,', 'upon,', 'feigning ', 'eligible,', 'singularly ', 'renounced ', 'disposing ', 'impediment-', 'shifted ', 'baby ', 'knee,', 'these,', 'outgrown ', 'caps.', 'spread;', 'familiarise ', 'principals ', 'sagacity.', 'predict ', 'disagreements\\n', 'servants;', 'raised,', 'habitation,', 'contented;', 'point\\n', 'daringly ', 'ather ', 'concerned;', 'eccentric,', 'qualities.', 'xtremely ', 'disagreeable!', 'abused ', 'hocking ', 'aple\\n', 'morrows,', 'arriving.', 'agitate ', 'bad?', 'called.', 'composing ', 'recollect?', 'flushed ', 'worst,', 'prepared-', 'gaze,', 'lips ', 'closed.', 'amazement.', 'feared.', 'exerting ', 'impossibility!', 'intends ', 'decision,', 'accepted.', 'recourse ', 'workbasket,', 'expressing,', 'when?', 'surprized-', 'ow-', 'delivered ', 'chambers,', \"stley'\", 'ohn-', 'understand)', 'acceptance,', 'deserving.', 'coach,', 'report\\n', 'proceedings,', 'when.', 'particulars,', 'overflowing;', 'mith\\n', 'unhappy;', 'evil-', 'satisfies\\n', 'arkins;', 'broadly-', 'respectability ', 'merely,', 'soft-', 'downright\\n', 'accepted_', 'already?', 'misunderstand ', 'shows ', 'cattle,', 'drills-', 'recently\\n', 'emphasis,', 'intelligence\\n', 'otherwise.', 'deserve?', 'are?', 'apply ', 'oddard?', 'brightest ', 'fool.', 'also;', 'ometimes,', 'placing\\n', 'utility ', 'singing,', 'exclaiming ', 'laughed\\n', 'reflected,', 'rational.', \"ames'\", 'disappearing.', 'sensations\\n', 'grievance ', 'welfare,', 'security.', 'for?', 'othing,', 'lessons\\n', 'teach ', 'humility ', 'circumspection ', 'erious ', 'thankfulness,', 'resolutions;', 'laugh,', 'midst\\n', 'doleful\\n', 'back!', 'returning-', 'igh ', 'heartfelt ', 'felicities,', 'disguise,', 'equivocation,', 'hateful ', 'practise,', 'gayest ', 'conniving ', 'glimpse\\n', 'blind,', 'figures ', 'arrive\\n', 'stays ', 'confusion-', 'embarrassing ', 'indulged,', 'yield ', 'baby\\n', 'fetched,', 'animation-', 'forgiving\\n', 'doat ', 'named\\n', 'forbade ', 'pronounced\\n', 'shame.', 'suspicion?', 'arly,', 'none.', 'smallest,', 'had-', 'transgression ', 'bond\\n', 'northward.', 'accession\\n', 'demure ', 'coloured\\n', 'congratulations.', 'skin?', 'smoothness!', 'delicacy!', 'hair-', 'archly;', 'pale?', 'forgotten?', 'dog ', 'dare-', 'perplexities ', 'tricking ', 'wretch!', 'mirth.', 'readier ', 'because,', 'bowed.', 'dispositions,', 'destiny;', 'bids ', 'characters ', 'gesture?', 'bserve ', 'turn\\n', 'inclining ', 'seriously)', 'jewels.', 'ornament ', \"infant'\", 'commended ', 'disordered,', 'considering,', 'erry?', 'mine!', 'cheek,', 'frown.', 'passage\\n', 'others?', 'completely,', 'smile\\n', 'partly ', 'conscious,', 'recollections,', 'astonishing ', 'obtrude-', 'court ', 'entertainingly;', 'argument;', 'regarding ', 'completion,', 'contemplation ', 'produced.', 'intervals,', 'cured\\n', 'unbiased ', 'supplanted ', 'distressed-', 'first:', 'presumptuous ', 'die\\n', 'fullest ', 'future;', 'unqualified ', 'explain?', 'acknowledge,', 'irresistible.', 'unintelligible\\n', 'joyful;', 'tradesman,', 'afford\\n', 'maintenance ', 'decent\\n', 'blood\\n', 'vouch ', 'untainted,', 'gentleman:', 'hurchills-', 'stain ', 'illegitimacy,', 'unbleached ', 'nobility ', 'liberally;', 'offered,', 'security,', 'stability,', 'cheerfulness.', 'temptation,', 'created ', 'luckiest,', 'regretted.', 'sink;', 'goodwill;', 'fortunately,', 'gradual,', 'stood\\n', 'impair.', 'erhaps,', 'clergyman ', 'altar ', 'intermediate ', 'marriage\\n', \"fortnight'\", 'tour ', 'seaside,', 'sounded ', 'hopeless.', 'allusion,', 'resignation.', 'failed.', 'neglected;', 'acquiesced ', 'nightleys,', 'hesitated-', 'befriended,', 'illumination ', 'system,', 'poultry-', 'robbed ', 'turkeys-', 'ther ', 'suffered.', 'ilfering ', 'housebreaking_', 'fears.', 'uneasy;', 'protection,', 'alarm\\n', 'presence\\n', 'protected ', 'voluntary,', 'weddings,', 'finery ', 'parade;', 'detailed ', 'shabby,', 'satin,', 'veils;', 'stare ', 'deficiencies,', 'predictions ', 'band\\n', 'answered\\n', 'union.'])"
      ]
     },
     "execution_count": 21,
     "metadata": {},
     "output_type": "execute_result"
    }
   ],
   "source": [
    "pattern= r'''[a-z]*.'''\n",
    "tokens = regexp_tokenize(doc, pattern)\n",
    "data=nltk.Text(tokens)\n",
    "print(len(data.tokens)) #returns number of tokens\n",
    "#print(set(data.tokens)) #returns number of unique tokens\n",
    "x = data.vocab()  #returns frequency distribution\n",
    "x.keys()\n"
   ]
  },
  {
   "cell_type": "markdown",
   "metadata": {},
   "source": [
    " Plot frequency distribution"
   ]
  },
  {
   "cell_type": "code",
   "execution_count": 22,
   "metadata": {},
   "outputs": [
    {
     "data": {
      "image/png": "[encoded data removed]",
      "text/plain": [
       "<matplotlib.figure.Figure at 0x20fb4da5198>"
      ]
     },
     "metadata": {},
     "output_type": "display_data"
    }
   ],
   "source": [
    "data.plot(50) # Plot sorted frequency of top 10 tokens #빈도수 그래프를 그려줌\n"
   ]
  },
  {
   "cell_type": "markdown",
   "metadata": {},
   "source": [
    "# 2-2.Stop words with NLTK "
   ]
  },
  {
   "cell_type": "markdown",
   "metadata": {},
   "source": [
    "The process of converting data to something a computer can understand. \n",
    "\n",
    "In natural language processing, useless words (data), are referred to as stop words."
   ]
  },
  {
   "cell_type": "code",
   "execution_count": 23,
   "metadata": {},
   "outputs": [
    {
     "name": "stdout",
     "output_type": "stream",
     "text": [
      "{'couldn', 'haven', 'has', 'you', 'over', 'with', 'themselves', 'through', 'all', 'not', 'this', 'under', 'at', 'didn', 'from', 'after', 'did', 'then', 'wasn', 'about', 'hasn', 'more', 'than', 'can', 'isn', 'hers', 'very', 'out', 'theirs', 'their', 'into', 'she', 'itself', 'our', 'yourself', 'further', 'both', 'having', 'only', 'needn', 'd', 'won', 'other', 'your', 'herself', 'ain', 'me', 'but', 'against', 'we', 'mustn', 'being', 'when', 'above', 'be', 'shouldn', 'yourselves', 'or', 'aren', 'same', 'is', 'most', 'should', 'what', 'too', 'myself', 'a', 'up', 'during', 'now', 'on', 'them', 'himself', 'just', 'down', 'who', 'while', 'been', 'of', 'mightn', 'here', 'his', 'll', 'it', 'doing', 'any', 'again', 'nor', 'shan', 'because', 'weren', 'whom', 't', 'he', 'how', 'does', 'for', 'which', 'don', 'between', 'was', 'ours', 'these', 'until', 'off', 'there', 'each', 'doesn', 've', 'such', 'and', 'if', 'why', 'him', 'had', 'no', 'own', 'are', 'below', 's', 'will', 'am', 'in', 'its', 'm', 'to', 'those', 'o', 'hadn', 'where', 'some', 'few', 'wouldn', 'ourselves', 'i', 'do', 'ma', 'y', 'once', 'they', 're', 'yours', 'by', 'as', 'an', 'my', 'her', 'have', 'the', 'so', 'that', 'were', 'before'}\n"
     ]
    }
   ],
   "source": [
    "from nltk.corpus import stopwords # remove words that just contain no meaning\n",
    "\n",
    "stop_words=set(stopwords.words('english'))\n",
    "\n",
    "print(stop_words)"
   ]
  },
  {
   "cell_type": "markdown",
   "metadata": {},
   "source": [
    "# 연습 #1: 주어진 텍스트에서 stop word을 제거하기"
   ]
  },
  {
   "cell_type": "code",
   "execution_count": 24,
   "metadata": {},
   "outputs": [
    {
     "name": "stdout",
     "output_type": "stream",
     "text": [
      "['This', 'is', 'a', 'sample', 'sentence', ',', 'showing', 'off', 'the', 'stop', 'words', 'filtration', '.']\n",
      "['This', 'sample', 'sentence', 'showing', 'stop', 'words', 'filtration']\n"
     ]
    }
   ],
   "source": [
    "import nltk\n",
    "from nltk.corpus import stopwords\n",
    "from nltk.tokenize import word_tokenize\n",
    "\n",
    "sentence = \"This is a sample sentence, showing off the stop words filtration.\"\n",
    "\n",
    "stop_words = set(stopwords.words('english'))\n",
    "stop_words.add(\".\")\n",
    "stop_words.add(\",\")\n",
    "\n",
    "tokens = word_tokenize(sentence)\n",
    "\n",
    "filtered_sentence = [w for w in tokens if not w in stop_words] #이 부분은 무엇인지?\n",
    "\n",
    "\n",
    "print(tokens)\n",
    "print(filtered_sentence)"
   ]
  },
  {
   "cell_type": "markdown",
   "metadata": {},
   "source": [
    "# 2.3.Stemming words with NLTK"
   ]
  },
  {
   "cell_type": "markdown",
   "metadata": {},
   "source": [
    "Stemming is a sort of normalizing method. \n",
    "\n",
    "Many variations of words carry the same meaning, other than when tense is involved :\n",
    "\n",
    "Highly redundant and inefficient, especially since, once we convert to numbers, the \"value\" is going to be identical."
   ]
  },
  {
   "cell_type": "code",
   "execution_count": 33,
   "metadata": {
    "collapsed": true
   },
   "outputs": [],
   "source": [
    "from nltk.stem import PorterStemmer\n",
    "ps = PorterStemmer()\n",
    "\n"
   ]
  },
  {
   "cell_type": "markdown",
   "metadata": {},
   "source": [
    "# 연습 #2 :다음 문장을 stemming하여 그 결과를 출력하기(10분)"
   ]
  },
  {
   "cell_type": "markdown",
   "metadata": {},
   "source": [
    "new_text = \"\"\"It is important to by very pythonly while \n",
    "you are pythoning with python. All pythoners \"\"\""
   ]
  },
  {
   "cell_type": "code",
   "execution_count": 34,
   "metadata": {},
   "outputs": [
    {
     "name": "stdout",
     "output_type": "stream",
     "text": [
      "['It', 'is', 'import', 'to', 'by', 'veri', 'pythonli', 'while', 'you', 'are', 'python', 'with', 'python', '.', 'All', 'python']\n"
     ]
    }
   ],
   "source": [
    "from nltk.stem import PorterStemmer\n",
    "from nltk.tokenize import word_tokenize\n",
    "new_text = \"\"\"It is important to by very pythonly\n",
    "while you are pythoning with python. All pythoners \"\"\"\n",
    "words = word_tokenize(new_text)\n",
    "ps = PorterStemmer()\n",
    "stemmed=[ps.stem(w) for w in words]\n",
    "print(stemmed)\n"
   ]
  },
  {
   "cell_type": "markdown",
   "metadata": {},
   "source": [
    "# 2.4.Part of Speech Tagging and Chunking with NLTK"
   ]
  },
  {
   "cell_type": "markdown",
   "metadata": {},
   "source": [
    "POS tagging means labeling words in a sentence as nouns, adjectives, verbs...etc. "
   ]
  },
  {
   "cell_type": "markdown",
   "metadata": {},
   "source": [
    "Chunking means grouping words into hopefully meaningful chunks. \n",
    "\n",
    "One of the main goals of chunking is to group into what are known as \"noun phrases.\" \n",
    " \n",
    "The idea is to group nouns with the words that are in relation to them."
   ]
  },
  {
   "cell_type": "code",
   "execution_count": 25,
   "metadata": {},
   "outputs": [
    {
     "data": {
      "text/plain": [
       "[('The', 'DT'),\n",
       " ('little', 'JJ'),\n",
       " ('yellow', 'JJ'),\n",
       " ('dog', 'NN'),\n",
       " ('barked', 'VBD'),\n",
       " ('at', 'IN'),\n",
       " ('the', 'DT'),\n",
       " ('Persian', 'JJ'),\n",
       " ('cat', 'NN')]"
      ]
     },
     "execution_count": 25,
     "metadata": {},
     "output_type": "execute_result"
    }
   ],
   "source": [
    "words = nltk.word_tokenize(\"The little yellow dog barked at the Persian cat\")\n",
    "tagged = nltk.pos_tag(words)\n",
    "tagged\n"
   ]
  },
  {
   "cell_type": "code",
   "execution_count": 26,
   "metadata": {},
   "outputs": [
    {
     "name": "stdout",
     "output_type": "stream",
     "text": [
      "(S\n",
      "  (NP The/DT little/JJ)\n",
      "  (NP yellow/JJ dog/NN)\n",
      "  barked/VBD\n",
      "  at/IN\n",
      "  (NP the/DT Persian/JJ cat/NN))\n"
     ]
    }
   ],
   "source": [
    "chunkGram = r\"\"\"NP: {<DT>? <JJ>? <NN.*>* }\"\"\"\n",
    "chunkParser = nltk.RegexpParser(chunkGram)\n",
    "\n",
    "chunked = chunkParser.parse(tagged)\n",
    "\n",
    "print(chunked)\n",
    "\n",
    "\n",
    "chunked.draw()     \n"
   ]
  },
  {
   "cell_type": "markdown",
   "metadata": {},
   "source": [
    "# 연습 #3 :다음 코퍼스을 Tagging & Chunking하여 정보 추출하기(10분)"
   ]
  },
  {
   "cell_type": "markdown",
   "metadata": {},
   "source": [
    "Extract special characters using NLTK RegexpParser Chunk for POS_tagged words "
   ]
  },
  {
   "cell_type": "code",
   "execution_count": 38,
   "metadata": {},
   "outputs": [
    {
     "name": "stdout",
     "output_type": "stream",
     "text": [
      "Mr. Speaker, Vice President Cheney, members of Congress, members of the Supreme Court and diplomatic corps, distinguished guests, and fellow citizens: Today our nation lost a beloved, graceful, courageous woman who called America to its founding ideals and carried on a noble dream.\n",
      "(S\n",
      "  (NP Mr./NNP Speaker/NNP)\n",
      "  ,/,\n",
      "  (NP Vice/NNP President/NNP Cheney/NNP)\n",
      "  ,/,\n",
      "  (NP members/NNS)\n",
      "  of/IN\n",
      "  (NP Congress/NNP)\n",
      "  ,/,\n",
      "  (NP members/NNS)\n",
      "  of/IN\n",
      "  (NP the/DT Supreme/NNP Court/NNP)\n",
      "  and/CC\n",
      "  (NP diplomatic/JJ corps/NN)\n",
      "  ,/,\n",
      "  (NP distinguished/JJ guests/NNS)\n",
      "  ,/,\n",
      "  and/CC\n",
      "  (NP fellow/JJ citizens/NNS)\n",
      "  :/:\n",
      "  Today/VB\n",
      "  our/PRP$\n",
      "  (NP nation/NN)\n",
      "  lost/VBD\n",
      "  (NP a/DT)\n",
      "  beloved/VBN\n",
      "  ,/,\n",
      "  (NP graceful/JJ)\n",
      "  ,/,\n",
      "  (NP courageous/JJ woman/NN)\n",
      "  who/WP\n",
      "  called/VBD\n",
      "  (NP America/NNP)\n",
      "  to/TO\n",
      "  its/PRP$\n",
      "  (NP founding/NN ideals/NNS)\n",
      "  and/CC\n",
      "  carried/VBD\n",
      "  on/IN\n",
      "  (NP a/DT noble/JJ dream/NN)\n",
      "  ./.)\n"
     ]
    }
   ],
   "source": [
    "import nltk\n",
    "from nltk.corpus import state_union\n",
    "from nltk.tokenize import PunktSentenceTokenizer\n",
    "\n",
    "train_text = state_union.raw(\"2005-GWBush.txt\")\n",
    "sample_text = state_union.raw(\"2006-GWBush.txt\")\n",
    "\n",
    "custom_sent_tokenizer = PunktSentenceTokenizer(train_text)\n",
    "\n",
    "tokenized = custom_sent_tokenizer.tokenize(sample_text)\n",
    "\n",
    "print(tokenized[1])\n",
    "\n",
    "words = nltk.word_tokenize(tokenized[1]) #tokenizing\n",
    "\n",
    "tagged = nltk.pos_tag(words) #tagging\n",
    "\n",
    "\n",
    "chunkGram = r\"\"\"NP: {<DT>? <JJ>? <NN.*>* }\"\"\" #regular expression \n",
    "                                  \n",
    "chunkParser = nltk.RegexpParser(chunkGram)\n",
    "chunked = chunkParser.parse(tagged) #chunking with nouns\n",
    "            \n",
    "print(chunked)\n",
    "\n",
    "chunked.draw()\n",
    "\n"
   ]
  },
  {
   "cell_type": "code",
   "execution_count": 39,
   "metadata": {},
   "outputs": [
    {
     "name": "stdout",
     "output_type": "stream",
     "text": [
      "52\n",
      "13\n",
      "Displaying 2 of 2 matches:\n",
      "ellow citizens : Today our nation lost a beloved , graceful , courageous woman \n",
      " to its founding ideals and carried on a noble dream .\n",
      "\n"
     ]
    }
   ],
   "source": [
    "data=nltk.Text(words)  \n",
    "\n",
    "print(len(data.tokens))  # returns number of tokens (document length)\n",
    "\n",
    "print(len(set(tokens))) # returns number of unique tokens\n",
    "\n",
    "data.vocab() # returns frequency distribution\n",
    "\n",
    "data.plot(15)  # Plot sorted frequency of top 50 tokens\n",
    "\n",
    "data.count('PRESIDENT')  # Counts occurrences\n",
    "\n",
    "data.concordance('a', lines=2)\n",
    "\n",
    "data.collocations()"
   ]
  },
  {
   "cell_type": "markdown",
   "metadata": {
    "collapsed": true
   },
   "source": [
    "# 2.5. Named Entity Recognition with NLTK"
   ]
  },
  {
   "cell_type": "markdown",
   "metadata": {},
   "source": [
    "One of the most major forms of chunking in natural language processing is called \"Named Entity Recognition.\" The idea is to have the machine immediately be able to pull out \"entities\" like people, places, things, locations, monetary figures, and more.\n",
    "\n",
    "\n"
   ]
  },
  {
   "cell_type": "code",
   "execution_count": 40,
   "metadata": {
    "collapsed": true
   },
   "outputs": [],
   "source": [
    "import nltk\n",
    "from nltk.corpus import state_union\n",
    "from nltk.tokenize import PunktSentenceTokenizer\n",
    "\n",
    "train_text = state_union.raw(\"2005-GWBush.txt\")\n",
    "sample_text = state_union.raw(\"2006-GWBush.txt\")\n",
    "\n",
    "custom_sent_tokenizer = PunktSentenceTokenizer(train_text)\n",
    "\n",
    "tokenized = custom_sent_tokenizer.tokenize(sample_text)\n",
    "\n",
    "words = nltk.word_tokenize(tokenized[0])\n",
    "tagged = nltk.pos_tag(words)\n",
    "namedEnt = nltk.ne_chunk(tagged, binary=False)\n",
    "namedEnt.draw()\n",
    "\n",
    "\n",
    "\n",
    "\n"
   ]
  },
  {
   "cell_type": "markdown",
   "metadata": {},
   "source": [
    "# 2.6. Lemmatizing with NLTK"
   ]
  },
  {
   "cell_type": "markdown",
   "metadata": {},
   "source": [
    "A very similar operation to stemming \n",
    "\n",
    "Stemming can often create non-existent words, whereas lemmas are actual words.\n",
    "\n",
    "Root stem, meaning the word you end up with, is not something you can just look up in a dictionary, but look up a lemma.\n",
    "\n",
    "Parameter, \"pos.\" If not supplied, the default is \"noun.\" "
   ]
  },
  {
   "cell_type": "code",
   "execution_count": 41,
   "metadata": {},
   "outputs": [
    {
     "name": "stdout",
     "output_type": "stream",
     "text": [
      "cat\n",
      "cactus\n",
      "goose\n",
      "rock\n",
      "python\n",
      "good\n",
      "best\n",
      "run\n",
      "run\n"
     ]
    }
   ],
   "source": [
    "from nltk.stem import WordNetLemmatizer\n",
    "\n",
    "lemmatizer = WordNetLemmatizer()\n",
    "\n",
    "print(lemmatizer.lemmatize(\"cats\"))\n",
    "print(lemmatizer.lemmatize(\"cacti\"))\n",
    "print(lemmatizer.lemmatize(\"geese\"))\n",
    "print(lemmatizer.lemmatize(\"rocks\"))\n",
    "print(lemmatizer.lemmatize(\"python\"))\n",
    "print(lemmatizer.lemmatize(\"better\", pos=\"a\"))\n",
    "print(lemmatizer.lemmatize(\"best\", pos=\"a\"))\n",
    "print(lemmatizer.lemmatize(\"run\"))\n",
    "print(lemmatizer.lemmatize(\"run\",'v'))"
   ]
  },
  {
   "cell_type": "markdown",
   "metadata": {},
   "source": [
    "# #Wordnet with NLTK"
   ]
  },
  {
   "cell_type": "markdown",
   "metadata": {},
   "source": [
    "Wordnet is a collection of words, definitions, examples of their use, synonyms, antonyms, and more.\n",
    "\n",
    "https://wordnet.princeton.edu/wordnet/\n",
    "\n",
    "WordNet is a lexical database for the English language, which was created by Princeton, and is part of the NLTK corpus. \n",
    "\n",
    "You can use WordNet alongside the NLTK module to find the meanings of words, synonyms, antonyms, and more.\n"
   ]
  },
  {
   "cell_type": "code",
   "execution_count": 43,
   "metadata": {
    "collapsed": true
   },
   "outputs": [],
   "source": [
    "from nltk.corpus import wordnet"
   ]
  },
  {
   "cell_type": "code",
   "execution_count": 49,
   "metadata": {},
   "outputs": [
    {
     "name": "stdout",
     "output_type": "stream",
     "text": [
      "[Synset('plan.n.01'), Synset('program.n.02'), Synset('broadcast.n.02'), Synset('platform.n.02'), Synset('program.n.05'), Synset('course_of_study.n.01'), Synset('program.n.07'), Synset('program.n.08'), Synset('program.v.01'), Synset('program.v.02')]\n",
      "plan.n.01\n",
      "plan\n",
      "a series of steps to be carried out or goals to be accomplished\n"
     ]
    }
   ],
   "source": [
    "syns=wordnet.synsets(\"program\") #An example of a synset:\n",
    "print(syns)\n",
    "print(syns[0].name()) \n",
    "\n",
    "print(syns[0].lemmas()[0].name()) #just the word\n",
    "\n",
    "print(syns[0].definition()) # definition of the first synset"
   ]
  },
  {
   "cell_type": "markdown",
   "metadata": {},
   "source": [
    "Next, how might we discern synonyms and antonyms to a word? The lemmas will be synonyms, and then you can use .antonyms to find the antonyms to the lemmas. "
   ]
  },
  {
   "cell_type": "markdown",
   "metadata": {},
   "source": [
    "문법:\n",
    "\n",
    "list=[]\n",
    "\n",
    "for x in range(10):\n",
    "    list.append(x)\n",
    "    \n",
    "print(set(list))"
   ]
  },
  {
   "cell_type": "code",
   "execution_count": 50,
   "metadata": {},
   "outputs": [
    {
     "name": "stdout",
     "output_type": "stream",
     "text": [
      "{'expert', 'beneficial', 'in_effect', 'near', 'thoroughly', 'salutary', 'sound', 'adept', 'dependable', 'right', 'in_force', 'safe', 'full', 'estimable', 'skillful', 'dear', 'skilful', 'undecomposed', 'proficient', 'honorable', 'unspoiled', 'effective', 'soundly', 'unspoilt', 'trade_good', 'ripe', 'secure', 'commodity', 'honest', 'upright', 'goodness', 'practiced', 'respectable', 'just', 'serious', 'well', 'good'}\n",
      "{'evilness', 'bad', 'evil', 'badness', 'ill'}\n"
     ]
    }
   ],
   "source": [
    "synonyms = []\n",
    "antonyms = []\n",
    "\n",
    "for syn in wordnet.synsets(\"good\"):\n",
    "    for x in syn.lemmas():\n",
    "        synonyms.append(x.name())\n",
    "        if x.antonyms():\n",
    "            antonyms.append(x.antonyms()[0].name())\n",
    "\n",
    "print(set(synonyms))\n",
    "print(set(antonyms))"
   ]
  },
  {
   "cell_type": "markdown",
   "metadata": {},
   "source": [
    "use WordNet to compare the similarity of two words and their tenses, by incorporating the Wu and Palmer method for semantic related-ness.\n",
    "\n",
    " compare the noun of \"ship\" and \"boat:\""
   ]
  },
  {
   "cell_type": "code",
   "execution_count": 51,
   "metadata": {},
   "outputs": [
    {
     "name": "stdout",
     "output_type": "stream",
     "text": [
      "0.9090909090909091\n"
     ]
    }
   ],
   "source": [
    "w1 = wordnet.synset('ship.n.01')\n",
    "w2 = wordnet.synset('boat.n.01')\n",
    "print(w1.wup_similarity(w2))"
   ]
  },
  {
   "cell_type": "markdown",
   "metadata": {},
   "source": [
    "# # Text Classification with NLTK : Movie reviewer"
   ]
  },
  {
   "cell_type": "markdown",
   "metadata": {},
   "source": [
    "The goal with text classification can be pretty broad.\n",
    "\n",
    "Maybe we're trying to classify text as about politics or the military. \n",
    "\n",
    "Maybe we're trying to classify it by the gender of the author who wrote it. \n",
    "\n",
    "A fairly popular text classification task is to identify a body of text as either spam or not spam, for things like email filters.\n",
    "\n",
    "we're going to try to create a sentiment analysis algorithm with customer reviewers"
   ]
  },
  {
   "cell_type": "markdown",
   "metadata": {},
   "source": [
    "To do this, \n",
    "\n",
    "1. start by trying to use the movie reviews database that is part of the NLTK corpus. \n",
    "\n",
    "2. use words as \"features\" which are a part of either a positive or negative movie review. \n",
    "\n",
    "3. the NLTK corpus movie_reviews data set has the reviews, and they are labeled already as positive or negative. \n",
    "\n",
    "4. train and test with this data. "
   ]
  },
  {
   "cell_type": "code",
   "execution_count": 52,
   "metadata": {},
   "outputs": [
    {
     "name": "stdout",
     "output_type": "stream",
     "text": [
      "[['i', 'had', 'been', 'looking', 'forward', 'to', ...], 'neg']\n",
      "[(',', 77717), ('the', 76529), ('.', 65876), ('a', 38106), ('and', 35576), ('of', 34123), ('to', 31937), (\"'\", 30585), ('is', 25195), ('in', 21822), ('s', 18513), ('\"', 17612), ('it', 16107), ('that', 15924), ('-', 15595)]\n",
      "143\n"
     ]
    }
   ],
   "source": [
    "import nltk\n",
    "import random\n",
    "from nltk.corpus import movie_reviews\n",
    "\n",
    "documents = [[movie_reviews.words(fileid), category]\n",
    "             for category in movie_reviews.categories()\n",
    "             #if category=='pos'\n",
    "             for fileid in movie_reviews.fileids(category)]\n",
    "\n",
    "\n",
    "random.shuffle(documents)\n",
    "\n",
    "print(documents[1])\n",
    "\n",
    "all_words = []\n",
    "\n",
    "for w in movie_reviews.words():\n",
    "    all_words.append(w.lower())\n",
    "\n",
    "all_words = nltk.FreqDist(all_words)\n",
    "\n",
    "print(all_words.most_common(15))\n",
    "print(all_words[\"terrible\"])"
   ]
  },
  {
   "cell_type": "markdown",
   "metadata": {},
   "source": [
    "# 1.Converting words to Features with NLTK"
   ]
  },
  {
   "cell_type": "code",
   "execution_count": 54,
   "metadata": {},
   "outputs": [
    {
     "name": "stdout",
     "output_type": "stream",
     "text": [
      "<FreqDist with 39768 samples and 1583820 outcomes>\n"
     ]
    }
   ],
   "source": [
    "print(all_words)\n",
    "\n",
    "word_features=[w for w in all_words][:3000] #set word_features, which contains the top 3,000 most common words.\n",
    " \n",
    "#print(word_features)"
   ]
  },
  {
   "cell_type": "code",
   "execution_count": 56,
   "metadata": {
    "collapsed": true
   },
   "outputs": [],
   "source": [
    "def find_features(document):   # find these top 3,000 words in our positive and negative documents, \n",
    "                               #marking their presence as either positive or negative:\n",
    "    words = set(document)\n",
    "    features = {}\n",
    "    for w in word_features:\n",
    "        features[w] = (w in words)\n",
    "\n",
    "    return features\n",
    "\n",
    "#print((find_features(movie_reviews.words('neg/cv000_29416.txt'))))\n"
   ]
  },
  {
   "cell_type": "code",
   "execution_count": 57,
   "metadata": {
    "collapsed": true
   },
   "outputs": [],
   "source": [
    "# do this for all of our documents, \n",
    "# saving the feature existence booleans \n",
    "#  and their respective positive or negative categories \n",
    "featuresets = [(find_features(rev), category) for (rev, category) in documents] \n",
    "                      "
   ]
  },
  {
   "cell_type": "markdown",
   "metadata": {},
   "source": [
    "# 2. Supervised Machine learning \n",
    "\n"
   ]
  },
  {
   "cell_type": "markdown",
   "metadata": {},
   "source": [
    "1.Chose an algorithm : the Naive Bayes classifier. This is a pretty popular algorithm used in text classification, so it is only fitting that we try it out first. \n",
    "\n",
    "2.Separate our data into training and testing sets\n",
    "\n",
    "3. To do this :\n",
    "\n",
    "Shuffle our data se\n",
    "\n",
    "Assign the first 1,900 shuffled reviews, consisting of both positive and negative reviews, as the training set. \n",
    "\n",
    "Then, test against the last 100 to see how accurate we are.\n",
    "\n",
    "This is called supervised machine learning, because we're showing the machine data, and telling it \"hey, this data is positive,\" or \"this data is negative.\" Then, after that training is done, we show the machine some new data and ask the computer, based on what we taught the computer before, what the computer thinks the category of the new data is.\n"
   ]
  },
  {
   "cell_type": "code",
   "execution_count": 58,
   "metadata": {
    "collapsed": true
   },
   "outputs": [],
   "source": [
    "training_set = featuresets[:1900] # set that we'll train our classifier with\n",
    "\n",
    "testing_set = featuresets[1900:] # set that we'll test against."
   ]
  },
  {
   "cell_type": "code",
   "execution_count": 59,
   "metadata": {
    "collapsed": true
   },
   "outputs": [],
   "source": [
    "classifier = nltk.NaiveBayesClassifier.train(training_set) # train our classifier like:"
   ]
  },
  {
   "cell_type": "code",
   "execution_count": 60,
   "metadata": {},
   "outputs": [
    {
     "name": "stdout",
     "output_type": "stream",
     "text": [
      "Most Informative Features\n",
      "              astounding = True              pos : neg    =     12.3 : 1.0\n",
      "             outstanding = True              pos : neg    =     10.9 : 1.0\n",
      "               stupidity = True              neg : pos    =      9.1 : 1.0\n",
      "                  feeble = True              neg : pos    =      8.4 : 1.0\n",
      "                 frances = True              pos : neg    =      8.3 : 1.0\n",
      "               behaviour = True              pos : neg    =      7.6 : 1.0\n",
      "                  crappy = True              neg : pos    =      7.0 : 1.0\n",
      "                 supreme = True              pos : neg    =      7.0 : 1.0\n",
      "                    moss = True              pos : neg    =      6.3 : 1.0\n",
      "                 notions = True              pos : neg    =      5.6 : 1.0\n",
      "                  justin = True              neg : pos    =      5.4 : 1.0\n",
      "                 lambert = True              neg : pos    =      5.0 : 1.0\n",
      "                  farley = True              neg : pos    =      5.0 : 1.0\n",
      "                billions = True              neg : pos    =      5.0 : 1.0\n",
      "                    1982 = True              neg : pos    =      5.0 : 1.0\n",
      "                    oops = True              neg : pos    =      5.0 : 1.0\n",
      "            effortlessly = True              pos : neg    =      5.0 : 1.0\n",
      "                   guilt = True              pos : neg    =      5.0 : 1.0\n",
      "                  equals = True              pos : neg    =      5.0 : 1.0\n",
      "                  winter = True              pos : neg    =      5.0 : 1.0\n"
     ]
    }
   ],
   "source": [
    "classifier.show_most_informative_features(20) #see what the most valuable words are when it comes to positive or negative reviews:"
   ]
  },
  {
   "cell_type": "markdown",
   "metadata": {},
   "source": [
    "# Saving Classifiers with NLTK"
   ]
  },
  {
   "cell_type": "markdown",
   "metadata": {},
   "source": [
    " no longer need to train our classifier every time we wanted to use it to classify."
   ]
  },
  {
   "cell_type": "code",
   "execution_count": 61,
   "metadata": {
    "collapsed": true
   },
   "outputs": [],
   "source": [
    "import pickle\n",
    "save_classifier = open(\"naivebayes.pickle\",\"wb\")\n",
    "pickle.dump(classifier, save_classifier)\n",
    "save_classifier.close()\n",
    "\n",
    "classifier_f = open(\"naivebayes.pickle\", \"rb\")\n",
    "classifier = pickle.load(classifier_f)\n",
    "classifier_f.close()"
   ]
  },
  {
   "cell_type": "markdown",
   "metadata": {
    "collapsed": true
   },
   "source": [
    "#  Toy Data for sentiment analysis with NLTK"
   ]
  },
  {
   "cell_type": "markdown",
   "metadata": {},
   "source": [
    "https://pythonprogramming.net/static/downloads/short_reviews/"
   ]
  },
  {
   "cell_type": "code",
   "execution_count": 62,
   "metadata": {
    "collapsed": true
   },
   "outputs": [],
   "source": [
    "import nltk\n",
    "from nltk.tokenize import word_tokenize\n",
    "import random\n",
    "short_pos = open(\"positive.txt\",\"r\").read()\n",
    "short_neg = open(\"negative.txt\",\"r\").read()\n",
    "\n",
    "documents = []\n",
    "\n",
    "for r in short_pos.split('\\n'):\n",
    "    documents.append( (r, \"pos\") )\n",
    "\n",
    "for r in short_neg.split('\\n'):\n",
    "    documents.append( (r, \"neg\") )\n",
    "\n",
    "\n",
    "all_words = []\n",
    "\n",
    "short_pos_words = word_tokenize(short_pos)\n",
    "short_neg_words = word_tokenize(short_neg)\n",
    "\n",
    "for w in short_pos_words:\n",
    "    all_words.append(w.lower())\n",
    "\n",
    "for w in short_neg_words:\n",
    "    all_words.append(w.lower())\n",
    "\n",
    "all_words = nltk.FreqDist(all_words)"
   ]
  },
  {
   "cell_type": "markdown",
   "metadata": {
    "collapsed": true
   },
   "source": [
    "convert words to features"
   ]
  },
  {
   "cell_type": "code",
   "execution_count": 63,
   "metadata": {
    "collapsed": true
   },
   "outputs": [],
   "source": [
    "word_features=[w for w in all_words][:5000]\n",
    "\n",
    "def find_features(document):\n",
    "    words = word_tokenize(document)\n",
    "    features = {}\n",
    "    for w in word_features:\n",
    "        features[w] = (w in words)\n",
    "\n",
    "    return features\n",
    "\n",
    "featuresets = [(find_features(rev), category) for (rev, category) in documents]\n",
    "\n",
    "random.shuffle(featuresets)"
   ]
  },
  {
   "cell_type": "code",
   "execution_count": 64,
   "metadata": {
    "collapsed": true
   },
   "outputs": [],
   "source": [
    "# positive data example:      \n",
    "training_set = featuresets[:10000]\n",
    "testing_set =  featuresets[10000:]\n"
   ]
  },
  {
   "cell_type": "markdown",
   "metadata": {},
   "source": [
    "# #A module for Sentiment Analysis with NLTK"
   ]
  },
  {
   "cell_type": "code",
   "execution_count": 65,
   "metadata": {},
   "outputs": [
    {
     "name": "stdout",
     "output_type": "stream",
     "text": [
      "10663\n",
      "Original Naive Bayes Algo accuracy percent: 73.7556561085973\n",
      "Most Informative Features\n",
      "              engrossing = True              pos : neg    =     21.0 : 1.0\n",
      "               wonderful = True              pos : neg    =     20.3 : 1.0\n",
      "                 routine = True              neg : pos    =     16.4 : 1.0\n",
      "                 generic = True              neg : pos    =     15.7 : 1.0\n",
      "               inventive = True              pos : neg    =     15.0 : 1.0\n",
      "                  boring = True              neg : pos    =     13.0 : 1.0\n",
      "                    warm = True              pos : neg    =     13.0 : 1.0\n",
      "                intimate = True              pos : neg    =     13.0 : 1.0\n",
      "                mindless = True              neg : pos    =     11.7 : 1.0\n",
      "                   stale = True              neg : pos    =     11.7 : 1.0\n",
      "              refreshing = True              pos : neg    =     11.6 : 1.0\n",
      "                  stupid = True              neg : pos    =     11.0 : 1.0\n",
      "                touching = True              pos : neg    =     10.7 : 1.0\n",
      "                annoying = True              neg : pos    =     10.3 : 1.0\n",
      "                tiresome = True              neg : pos    =     10.3 : 1.0\n",
      "MNB_classifier accuracy percent: 72.39819004524887\n",
      "BernoulliNB_classifier accuracy percent: 73.7556561085973\n",
      "LogisticRegression_classifier accuracy percent: 72.54901960784314\n",
      "LinearSVC_classifier accuracy percent: 69.68325791855203\n",
      "SGDClassifier accuracy percent: 69.98491704374057\n"
     ]
    }
   ],
   "source": [
    "import nltk\n",
    "import random\n",
    "#from nltk.corpus import movie_reviews\n",
    "from nltk.classify.scikitlearn import SklearnClassifier\n",
    "import pickle\n",
    "from sklearn.naive_bayes import MultinomialNB, BernoulliNB\n",
    "from sklearn.linear_model import LogisticRegression, SGDClassifier\n",
    "from sklearn.svm import SVC, LinearSVC, NuSVC\n",
    "from nltk.classify import ClassifierI\n",
    "from statistics import mode\n",
    "from nltk.tokenize import word_tokenize\n",
    "\n",
    "\n",
    "\n",
    "class VoteClassifier(ClassifierI):\n",
    "    def __init__(self, *classifiers):\n",
    "        self._classifiers = classifiers\n",
    "\n",
    "    def classify(self, features):\n",
    "        votes = []\n",
    "        for c in self._classifiers:\n",
    "            v = c.classify(features)\n",
    "            votes.append(v)\n",
    "        return mode(votes)\n",
    "\n",
    "    def confidence(self, features):\n",
    "        votes = []\n",
    "        for c in self._classifiers:\n",
    "            v = c.classify(features)\n",
    "            votes.append(v)\n",
    "\n",
    "        choice_votes = votes.count(mode(votes))\n",
    "        conf = choice_votes / len(votes)\n",
    "        return conf\n",
    "    \n",
    "short_pos = open(\"positive.txt\",\"r\").read()\n",
    "short_neg = open(\"negative.txt\",\"r\").read()\n",
    "\n",
    "# move this up here\n",
    "all_words = []\n",
    "documents = []\n",
    "\n",
    "\n",
    "#  j is adject, r is adverb, and v is verb\n",
    "#allowed_word_types = [\"J\",\"R\",\"V\"]\n",
    "allowed_word_types = [\"J\"]\n",
    "\n",
    "for p in short_pos.split('\\n'):\n",
    "    documents.append( (p, \"pos\") )\n",
    "    words = word_tokenize(p)\n",
    "    pos = nltk.pos_tag(words)\n",
    "    for w in pos:\n",
    "        if w[1][0] in allowed_word_types:\n",
    "            all_words.append(w[0].lower())\n",
    "\n",
    "    \n",
    "for p in short_neg.split('\\n'):\n",
    "    documents.append( (p, \"neg\") )\n",
    "    words = word_tokenize(p)\n",
    "    pos = nltk.pos_tag(words)\n",
    "    for w in pos:\n",
    "        if w[1][0] in allowed_word_types:\n",
    "            all_words.append(w[0].lower())\n",
    "\n",
    "\n",
    "\n",
    "save_documents = open(\"documents.pickle\",\"wb\")\n",
    "pickle.dump(documents, save_documents)\n",
    "save_documents.close()\n",
    "\n",
    "\n",
    "all_words = nltk.FreqDist(all_words)\n",
    "\n",
    "\n",
    "word_features = list(all_words.keys())[:5000]\n",
    "\n",
    "\n",
    "save_word_features = open(\"word_features5k.pickle\",\"wb\")\n",
    "pickle.dump(word_features, save_word_features)\n",
    "save_word_features.close()\n",
    "\n",
    "\n",
    "def find_features(document):\n",
    "    words = word_tokenize(document)\n",
    "    features = {}\n",
    "    for w in word_features:\n",
    "        features[w] = (w in words)\n",
    "\n",
    "    return features\n",
    "\n",
    "featuresets = [(find_features(rev), category) for (rev, category) in documents]\n",
    "\n",
    "save_featuresets = open(\"featuresets.pickle\",\"wb\")\n",
    "pickle.dump(featuresets, save_featuresets)\n",
    "save_featuresets.close()\n",
    "\n",
    "random.shuffle(featuresets)\n",
    "print(len(featuresets))\n",
    "\n",
    "testing_set = featuresets[10000:]\n",
    "training_set = featuresets[:10000]\n",
    "\n",
    "\n",
    "classifier = nltk.NaiveBayesClassifier.train(training_set)\n",
    "print(\"Original Naive Bayes Algo accuracy percent:\", (nltk.classify.accuracy(classifier, testing_set))*100)\n",
    "classifier.show_most_informative_features(15)\n",
    "\n",
    "###############\n",
    "save_classifier = open(\"originalnaivebayes5k.pickle\",\"wb\")\n",
    "pickle.dump(classifier, save_classifier)\n",
    "save_classifier.close()\n",
    "\n",
    "MNB_classifier = SklearnClassifier(MultinomialNB())\n",
    "MNB_classifier.train(training_set)\n",
    "print(\"MNB_classifier accuracy percent:\", (nltk.classify.accuracy(MNB_classifier, testing_set))*100)\n",
    "\n",
    "save_classifier = open(\"MNB_classifier5k.pickle\",\"wb\")\n",
    "pickle.dump(MNB_classifier, save_classifier)\n",
    "save_classifier.close()\n",
    "\n",
    "BernoulliNB_classifier = SklearnClassifier(BernoulliNB())\n",
    "BernoulliNB_classifier.train(training_set)\n",
    "print(\"BernoulliNB_classifier accuracy percent:\", (nltk.classify.accuracy(BernoulliNB_classifier, testing_set))*100)\n",
    "\n",
    "save_classifier = open(\"BernoulliNB_classifier5k.pickle\",\"wb\")\n",
    "pickle.dump(BernoulliNB_classifier, save_classifier)\n",
    "save_classifier.close()\n",
    "\n",
    "LogisticRegression_classifier = SklearnClassifier(LogisticRegression())\n",
    "LogisticRegression_classifier.train(training_set)\n",
    "print(\"LogisticRegression_classifier accuracy percent:\", (nltk.classify.accuracy(LogisticRegression_classifier, testing_set))*100)\n",
    "\n",
    "save_classifier = open(\"LogisticRegression_classifier5k.pickle\",\"wb\")\n",
    "pickle.dump(LogisticRegression_classifier, save_classifier)\n",
    "save_classifier.close()\n",
    "\n",
    "\n",
    "LinearSVC_classifier = SklearnClassifier(LinearSVC())\n",
    "LinearSVC_classifier.train(training_set)\n",
    "print(\"LinearSVC_classifier accuracy percent:\", (nltk.classify.accuracy(LinearSVC_classifier, testing_set))*100)\n",
    "\n",
    "save_classifier = open(\"LinearSVC_classifier5k.pickle\",\"wb\")\n",
    "pickle.dump(LinearSVC_classifier, save_classifier)\n",
    "save_classifier.close()\n",
    "\n",
    "\n",
    "##NuSVC_classifier = SklearnClassifier(NuSVC())\n",
    "##NuSVC_classifier.train(training_set)\n",
    "##print(\"NuSVC_classifier accuracy percent:\", (nltk.classify.accuracy(NuSVC_classifier, testing_set))*100)\n",
    "\n",
    "\n",
    "SGDC_classifier = SklearnClassifier(SGDClassifier())\n",
    "SGDC_classifier.train(training_set)\n",
    "print(\"SGDClassifier accuracy percent:\",nltk.classify.accuracy(SGDC_classifier, testing_set)*100)\n",
    "\n",
    "save_classifier = open(\"SGDC_classifier5k.pickle\",\"wb\")\n",
    "pickle.dump(SGDC_classifier, save_classifier)\n",
    "save_classifier.close()"
   ]
  },
  {
   "cell_type": "code",
   "execution_count": 66,
   "metadata": {},
   "outputs": [
    {
     "name": "stdout",
     "output_type": "stream",
     "text": [
      "Overwriting sentiment_mod.py\n"
     ]
    }
   ],
   "source": [
    "%%writefile sentiment_mod.py\n",
    "#File: sentiment_mod.py\n",
    "\n",
    "import nltk\n",
    "import random\n",
    "#from nltk.corpus import movie_reviews\n",
    "from nltk.classify.scikitlearn import SklearnClassifier\n",
    "import pickle\n",
    "from sklearn.naive_bayes import MultinomialNB, BernoulliNB\n",
    "from sklearn.linear_model import LogisticRegression, SGDClassifier\n",
    "from sklearn.svm import SVC, LinearSVC, NuSVC\n",
    "from nltk.classify import ClassifierI\n",
    "from statistics import mode\n",
    "from nltk.tokenize import word_tokenize\n",
    "\n",
    "\n",
    "\n",
    "class VoteClassifier(ClassifierI):\n",
    "    def __init__(self, *classifiers):\n",
    "        self._classifiers = classifiers\n",
    "\n",
    "    def classify(self, features):\n",
    "        votes = []\n",
    "        for c in self._classifiers:\n",
    "            v = c.classify(features)\n",
    "            votes.append(v)\n",
    "        return mode(votes)\n",
    "\n",
    "    def confidence(self, features):\n",
    "        votes = []\n",
    "        for c in self._classifiers:\n",
    "            v = c.classify(features)\n",
    "            votes.append(v)\n",
    "\n",
    "        choice_votes = votes.count(mode(votes))\n",
    "        conf = choice_votes / len(votes)\n",
    "        return conf\n",
    "\n",
    "\n",
    "documents_f = open(\"documents.pickle\", \"rb\")\n",
    "documents = pickle.load(documents_f)\n",
    "documents_f.close()\n",
    "\n",
    "\n",
    "\n",
    "\n",
    "word_features5k_f = open(\"word_features5k.pickle\", \"rb\")\n",
    "word_features = pickle.load(word_features5k_f)\n",
    "word_features5k_f.close()\n",
    "\n",
    "\n",
    "def find_features(document):\n",
    "    words = word_tokenize(document)\n",
    "    features = {}\n",
    "    for w in word_features:\n",
    "        features[w] = (w in words)\n",
    "\n",
    "    return features\n",
    "\n",
    "\n",
    "\n",
    "featuresets_f = open(\"featuresets.pickle\", \"rb\")\n",
    "featuresets = pickle.load(featuresets_f)\n",
    "featuresets_f.close()\n",
    "\n",
    "random.shuffle(featuresets)\n",
    "print(len(featuresets))\n",
    "\n",
    "testing_set = featuresets[10000:]\n",
    "training_set = featuresets[:10000]\n",
    "\n",
    "\n",
    "\n",
    "open_file = open(\"originalnaivebayes5k.pickle\", \"rb\")\n",
    "classifier = pickle.load(open_file)\n",
    "open_file.close()\n",
    "\n",
    "\n",
    "open_file = open(\"MNB_classifier5k.pickle\", \"rb\")\n",
    "MNB_classifier = pickle.load(open_file)\n",
    "open_file.close()\n",
    "\n",
    "\n",
    "\n",
    "open_file = open(\"BernoulliNB_classifier5k.pickle\", \"rb\")\n",
    "BernoulliNB_classifier = pickle.load(open_file)\n",
    "open_file.close()\n",
    "\n",
    "\n",
    "open_file = open(\"LogisticRegression_classifier5k.pickle\", \"rb\")\n",
    "LogisticRegression_classifier = pickle.load(open_file)\n",
    "open_file.close()\n",
    "\n",
    "\n",
    "open_file = open(\"LinearSVC_classifier5k.pickle\", \"rb\")\n",
    "LinearSVC_classifier = pickle.load(open_file)\n",
    "open_file.close()\n",
    "\n",
    "\n",
    "open_file = open(\"SGDC_classifier5k.pickle\", \"rb\")\n",
    "SGDC_classifier = pickle.load(open_file)\n",
    "open_file.close()\n",
    "\n",
    "\n",
    "\n",
    "\n",
    "voted_classifier = VoteClassifier(\n",
    "                                  classifier,\n",
    "                                  LinearSVC_classifier,\n",
    "                                  MNB_classifier,\n",
    "                                  BernoulliNB_classifier,\n",
    "                                  LogisticRegression_classifier)\n",
    "\n",
    "\n",
    "\n",
    "\n",
    "def sentiment(text):\n",
    "    feats = find_features(text)\n",
    "    return voted_classifier.classify(feats),voted_classifier.confidence(feats)"
   ]
  },
  {
   "cell_type": "code",
   "execution_count": null,
   "metadata": {
    "collapsed": true
   },
   "outputs": [],
   "source": []
  }
 ],
 "metadata": {
  "anaconda-cloud": {},
  "kernelspec": {
   "display_name": "Python 3",
   "language": "python",
   "name": "python3"
  },
  "language_info": {
   "codemirror_mode": {
    "name": "ipython",
    "version": 3
   },
   "file_extension": ".py",
   "mimetype": "text/x-python",
   "name": "python",
   "nbconvert_exporter": "python",
   "pygments_lexer": "ipython3",
   "version": "3.6.3"
  }
 },
 "nbformat": 4,
 "nbformat_minor": 1
}
