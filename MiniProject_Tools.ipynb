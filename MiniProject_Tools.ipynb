{
 "cells": [
  {
   "cell_type": "code",
   "execution_count": 1,
   "metadata": {
    "collapsed": true
   },
   "outputs": [],
   "source": [
    "article = []\n",
    "content = []"
   ]
  },
  {
   "cell_type": "code",
   "execution_count": 2,
   "metadata": {
    "collapsed": true
   },
   "outputs": [],
   "source": [
    "def makeline(txt) :\n",
    "    txt1 = txt.split(\"\\n\")\n",
    "    while '' in txt1 :\n",
    "        txt1.remove('')\n",
    "    return txt1"
   ]
  },
  {
   "cell_type": "code",
   "execution_count": 3,
   "metadata": {
    "collapsed": true
   },
   "outputs": [],
   "source": [
    "def ACchecker(line) :\n",
    "    article.append(line[1])\n",
    "    content.append(line[2:])"
   ]
  },
  {
   "cell_type": "code",
   "execution_count": 5,
   "metadata": {
    "collapsed": true
   },
   "outputs": [],
   "source": [
    "def contentTokenizer(content) :\n",
    "    contenttoken = []\n",
    "    sym = \"~!@#$%^&*()_+-=`{}[]|\\\\:;\\\"',./<>?\"\n",
    "    for x in range(len(content[0])) :\n",
    "        new = content[0][x].lower()\n",
    "        for s in sym :\n",
    "            new = new.replace(s, \" \")\n",
    "        contenttoken.extend(new.split())\n",
    "    return contenttoken"
   ]
  },
  {
   "cell_type": "code",
   "execution_count": 6,
   "metadata": {
    "collapsed": true
   },
   "outputs": [],
   "source": [
    "def articleTokenizer(article) :\n",
    "    articletoken = []\n",
    "    sym = \"~!@#$%^&*()_+-=`{}[]|\\\\:;\\\"',./<>?\"\n",
    "    for x in range(len(article)) :\n",
    "        new = article[x].lower()\n",
    "        for s in sym :\n",
    "            new = new.replace(s, \" \")\n",
    "        articletoken.extend(new.split())\n",
    "    return articletoken"
   ]
  },
  {
   "cell_type": "code",
   "execution_count": 9,
   "metadata": {
    "collapsed": true
   },
   "outputs": [],
   "source": [
    "def getFrequpdown(li):\n",
    "    \"Takes a list as input, returns a dictionary of frequency count.\"\n",
    "    di = {}\n",
    "    for x in li:\n",
    "        if x not in di: di[x] = 1\n",
    "        else: di[x] += 1\n",
    "    for x in sorted(di, key=di.get, reverse=True):\n",
    "        print(x, di[x])"
   ]
  },
  {
   "cell_type": "code",
   "execution_count": 10,
   "metadata": {
    "collapsed": true
   },
   "outputs": [],
   "source": [
    "def getFrequpdownwrite(li, name):\n",
    "    di = {}\n",
    "    for x in li:\n",
    "        if x not in di: di[x] = 1\n",
    "        else: di[x] += 1\n",
    "    filename = name+\".txt\"\n",
    "    f = open(filename, \"w\")\n",
    "    for x in sorted(di, key=di.get, reverse=True):\n",
    "        f.write(x + \" \" + str(di[x]) + (\"\\n\"))\n",
    "    f.close()"
   ]
  },
  {
   "cell_type": "code",
   "execution_count": 8,
   "metadata": {
    "collapsed": true
   },
   "outputs": [],
   "source": [
    "def textanalyze(txt) :\n",
    "    article = []\n",
    "    content = []\n",
    "    txt = makeline(txt)\n",
    "    txt1 = ACchecker(txt)\n",
    "    contenttoken = contentTokenizer(content)\n",
    "    articletoken = articleTokenizer(article)\n",
    "    "
   ]
  },
  {
   "cell_type": "code",
   "execution_count": null,
   "metadata": {
    "collapsed": true
   },
   "outputs": [],
   "source": [
    "def textanalyze1(txt) :\n",
    "    txt = makeline(txt)\n",
    "    txt1 = ACchecker(txt)\n",
    "    contenttoken = contentTokenizer(content)\n",
    "    articletoken = articleTokenizer(article)\n",
    "    "
   ]
  },
  {
   "cell_type": "code",
   "execution_count": null,
   "metadata": {
    "collapsed": true
   },
   "outputs": [],
   "source": [
    "def makeline2(txt) :\n",
    "    txt2 = []\n",
    "    for x in range(len(txt)) :\n",
    "        txt1 = txt[x].replace(\"\\\"\", '').split(\"\\n\")\n",
    "        while '' in txt1 :\n",
    "            txt1.remove('')\n",
    "        txt2.extend(txt1)\n",
    "    return txt2"
   ]
  }
 ],
 "metadata": {
  "kernelspec": {
   "display_name": "Python 3",
   "language": "python",
   "name": "python3"
  },
  "language_info": {
   "codemirror_mode": {
    "name": "ipython",
    "version": 3
   },
   "file_extension": ".py",
   "mimetype": "text/x-python",
   "name": "python",
   "nbconvert_exporter": "python",
   "pygments_lexer": "ipython3",
   "version": "3.6.3"
  }
 },
 "nbformat": 4,
 "nbformat_minor": 2
}
